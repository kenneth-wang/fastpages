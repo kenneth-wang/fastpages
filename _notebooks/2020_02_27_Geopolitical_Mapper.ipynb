{
  "nbformat": 4,
  "nbformat_minor": 0,
  "metadata": {
    "colab": {
      "name": "2020-02-27-Geopolitical-Mapper",
      "provenance": [],
      "collapsed_sections": []
    },
    "kernelspec": {
      "name": "python3",
      "display_name": "Python 3"
    },
    "accelerator": "GPU"
  },
  "cells": [
    {
      "cell_type": "markdown",
      "metadata": {
        "id": "MwwjLE87tj9e",
        "colab_type": "text"
      },
      "source": [
        "# Mapping the world\n",
        "> Sentiment analysis of geopolitical relations using ALBERT"
      ]
    },
    {
      "cell_type": "markdown",
      "metadata": {
        "id": "3US6CQoKu2sB",
        "colab_type": "text"
      },
      "source": [
        "# About\n",
        "\n",
        "It feels like the stock market tend to move in tandem with the political headlines. Benjamin Graham, the father of value investing once quoted **\"In the short run, the market is a voting machine but in the long run, it is a weighting machine.\"** I'm sure you have witnessed headlines such as **\"Dow ends down 2.4% on escalating US-China trade war\"** before. Being able to sift through the noise in the headlines could make the media an unexpected ally for investing. In response to demand for such forms of alternative data, [Bloomberg](https://www.bloomberg.com/professional/sentiment-analysis-white-papers/) introduced a tool to generate sentiments from news and social media data. In this blog post, we'll walk through the steps to analyze text data and **generate sentiments out of the relationships between countries by using ALBERT**."
      ]
    },
    {
      "cell_type": "markdown",
      "metadata": {
        "id": "SQ7t_tLvwODU",
        "colab_type": "text"
      },
      "source": [
        "# What is ALBERT?"
      ]
    },
    {
      "cell_type": "markdown",
      "metadata": {
        "id": "OVZ8lU4yUtIw",
        "colab_type": "text"
      },
      "source": [
        "![](my_icons/geopolitical_mapper/bert_cropped.JPG)"
      ]
    },
    {
      "cell_type": "markdown",
      "metadata": {
        "id": "xpJ6MKOM5PUJ",
        "colab_type": "text"
      },
      "source": [
        "Ok what is **ALBERT** exactly? ALBERT stands for \"A Lite BERT For Self-Supervised Learning of Language Representations\". ALBERT was introduced by Google as a **newly improved version of BERT**, or Bidirectional Encoder Representations with Transformers. It achieved state-of-the art results on three popular benchmark tests for nautral language understanding (GLUE, SQUAD and RACE). ALBERT improves on BERT by:\n",
        "\n",
        "\n",
        "\n"
      ]
    },
    {
      "cell_type": "markdown",
      "metadata": {
        "id": "UBqNHRNy0Zs7",
        "colab_type": "text"
      },
      "source": [
        "* **utilizing factorized embedding parametrization**.\n",
        "From a language modelling perspective, input-level embeddings are context-independent representations of the words (eg. \"bank\"), whereas the hidden-layer embeddings are meant to learn context-dependent representations (eg. \"bank\" in the context of financial transactions or river-flow management). Traditionally the sizes of the input-level and hidden layer embeddings are the same and pegged to one another. ALBERT takes a different approach by reducing the size of the input-level embeddings (128), while keeping hidden-layer embeddings at a higher dimension (768). With this, ALBERT managed to reduce the number of parameters drastically at the expense of a minor drop in performance."
      ]
    },
    {
      "cell_type": "markdown",
      "metadata": {
        "id": "Ro1DhoE3wsTY",
        "colab_type": "text"
      },
      "source": [
        "* **implementing cross-layer parameter sharing**.\n",
        "The authors implemented cross-layer parameter (feed-forward network parameters and attention parameters) sharing and results show that weight-sharing has an effect on stabilizing network parameters. As shown below, the differences (L2/ Cosine Similarity measures) between the input and output embeddings for ALBERT do not fluctuate as vigorously when compared to BERT."
      ]
    },
    {
      "cell_type": "markdown",
      "metadata": {
        "id": "8MWZTEgSwtWi",
        "colab_type": "text"
      },
      "source": [
        "![](my_icons/geopolitical_mapper/albert_cross_layer.JPG)"
      ]
    },
    {
      "cell_type": "markdown",
      "metadata": {
        "id": "LkBIH2wZwnnt",
        "colab_type": "text"
      },
      "source": [
        "* **making amendments to the Sentence Order Prediction training task**. During the training phase, BERT receives two sentences each time and it needs to predict whether the second sentence in the pair, has been swapped with a sentence **from another document**. ALBERT implements a similar methodolgy, however it chooses instead to predict whether the order of two consecutive sentences **in the same document** have been swapped. The authors felt that the task of predicting the order of sentences is a more challenging pretraining task."
      ]
    },
    {
      "cell_type": "markdown",
      "metadata": {
        "id": "vi4MqTDVx_Hu",
        "colab_type": "text"
      },
      "source": [
        "Due to the design choices of the authors, the ALBERT models have a **smaller set of parameters**."
      ]
    },
    {
      "cell_type": "markdown",
      "metadata": {
        "id": "n4UBCLAOyQ7u",
        "colab_type": "text"
      },
      "source": [
        "![](my_icons/geopolitical_mapper/albert_parameters.JPG)"
      ]
    },
    {
      "cell_type": "markdown",
      "metadata": {
        "id": "Cx8OH-_66smG",
        "colab_type": "text"
      },
      "source": [
        "# Project directory structure"
      ]
    },
    {
      "cell_type": "markdown",
      "metadata": {
        "id": "bz5xSeK66w8d",
        "colab_type": "text"
      },
      "source": [
        "The files that we will be referring to can be found [here](https://drive.google.com/open?id=1P6vzA168DovwZGtTD5OnYCMB-jTGlAdL). You can refer to the project structure below to find the locations of the files we need. We will be using **SQUAD's SST-2** dataset to finetune the ALBERT model before using **transfer learning** to train on our own data. We will use **Wikipedia's API** to extract text data that outlines the relationships between countries."
      ]
    },
    {
      "cell_type": "code",
      "metadata": {
        "id": "rT_5mPVv8PGv",
        "colab_type": "code",
        "colab": {}
      },
      "source": [
        "geopolitical_mapper/\n",
        "\n",
        "_______ data/\n",
        "___________ SST-2/ # SST-2 dataset\n",
        "___________ Wiki/ # Wikipedia/ country-related data\n",
        "______________ countries.csv # list of countries in the world\n",
        "______________ country_ISO.txt # mapping of countries and their ISO code\n",
        "______________ wiki_relations.csv # wikipedia summaries of country relationships\n",
        "______________ dev.tsv # validation dataset \n",
        "______________ train.tsv # training dataset\n",
        "______________ sent_l_.csv # labeled dataset (without labels)\n",
        "______________ sent_ld.csv # labeled dataset (with labels)\n",
        "______________ sent_ul.csv # unlabeled dataset\n",
        "\n",
        "_______ model/ # Finetuned ALBERT model weights and checkpoints\n",
        "\n",
        "_______ 2020-02-27-Geopolitical-Mapper.ipynb"
      ],
      "execution_count": 0,
      "outputs": []
    },
    {
      "cell_type": "markdown",
      "metadata": {
        "id": "HVc2GYDk12uE",
        "colab_type": "text"
      },
      "source": [
        "# Requirements\n"
      ]
    },
    {
      "cell_type": "markdown",
      "metadata": {
        "id": "THR0EcBE6CGB",
        "colab_type": "text"
      },
      "source": [
        "Let's start coding! Let's install the packages we need and import them."
      ]
    },
    {
      "cell_type": "code",
      "metadata": {
        "id": "Rg0_jl7l2Wyu",
        "colab_type": "code",
        "colab": {}
      },
      "source": [
        "#collapse-hide\n",
        "%%capture\n",
        "\n",
        "!pip install bs4\n",
        "!pip install plotly\n",
        "!pip install requests\n",
        "!pip install sklearn\n",
        "!pip install spacy\n",
        "!pip install tensorflow==2.0.0\n",
        "!pip install tensorflow-gpu==2.0.0\n",
        "!pip install transformers==2.3.0\n",
        "!pip install wikipedia"
      ],
      "execution_count": 0,
      "outputs": []
    },
    {
      "cell_type": "code",
      "metadata": {
        "id": "FiPJA0kQ46Yl",
        "colab_type": "code",
        "colab": {}
      },
      "source": [
        "#collapse-hide\n",
        "import csv\n",
        "import itertools\n",
        "import os\n",
        "import re\n",
        "import requests\n",
        "\n",
        "import spacy\n",
        "import urllib.request\n",
        "import wikipedia\n",
        "import zipfile\n",
        "import matplotlib.pyplot as plt\n",
        "import numpy as np\n",
        "import pandas as pd\n",
        "import tensorflow as tf\n",
        "\n",
        "from bs4 import BeautifulSoup\n",
        "from sklearn.model_selection import train_test_split, GroupShuffleSplit\n",
        "from sklearn.metrics import precision_score, recall_score, f1_score, \\\n",
        "                            accuracy_score\n",
        "                            \n",
        "from spacy.lang.en import English\n",
        "from transformers import AlbertTokenizer, glue_convert_examples_to_features\n",
        "from transformers.data.processors import utils\n",
        "from transformers.modeling_tf_albert import TFAlbertForSequenceClassification\n",
        "from tensorflow.keras.callbacks import ReduceLROnPlateau, ModelCheckpoint, \\\n",
        "                                       EarlyStopping"
      ],
      "execution_count": 0,
      "outputs": []
    },
    {
      "cell_type": "markdown",
      "metadata": {
        "id": "KcVrOpZwKNYk",
        "colab_type": "text"
      },
      "source": [
        "If you are running the notebook using Google Colab, remember to mount the directory that you are working from."
      ]
    },
    {
      "cell_type": "code",
      "metadata": {
        "id": "LXX4O1mvKLz2",
        "colab_type": "code",
        "outputId": "f92f370b-9b47-4ad1-cbe4-5f0a785ea0bb",
        "colab": {
          "base_uri": "https://localhost:8080/",
          "height": 107
        }
      },
      "source": [
        "#collapse-hide\n",
        "%%capture\n",
        "\n",
        "from google.colab import drive\n",
        "drive.mount('/content/gdrive/')\n",
        "\n",
        "%cd /content/gdrive/My Drive/Colab Notebooks/ssh_files/geopolitical_mapper"
      ],
      "execution_count": 0,
      "outputs": [
        {
          "output_type": "stream",
          "text": [
            "Go to this URL in a browser: https://accounts.google.com/o/oauth2/auth?client_id=947318989803-6bn6qk8qdgf4n4g3pfee6491hc0brc4i.apps.googleusercontent.com&redirect_uri=urn%3aietf%3awg%3aoauth%3a2.0%3aoob&response_type=code&scope=email%20https%3a%2f%2fwww.googleapis.com%2fauth%2fdocs.test%20https%3a%2f%2fwww.googleapis.com%2fauth%2fdrive%20https%3a%2f%2fwww.googleapis.com%2fauth%2fdrive.photos.readonly%20https%3a%2f%2fwww.googleapis.com%2fauth%2fpeopleapi.readonly\n",
            "\n",
            "Enter your authorization code:\n",
            "··········\n"
          ],
          "name": "stdout"
        }
      ]
    },
    {
      "cell_type": "markdown",
      "metadata": {
        "id": "8huJQo_twN_A",
        "colab_type": "text"
      },
      "source": [
        "# Get alternative names of countries\n",
        "\n",
        "One of the biggest problems we face is that **each country can have multiple naming conventions**. For example, depending on the data that you use, **\"United States\"** might be named as **\"United States of America\" or \"USA\"**. Hence we need to look for a source that give us the different naming conventions for each of the countries. Thankfully we are able to source the names from a [Wikipage](https://en.wikipedia.org/wiki/List_of_alternative_country_names)."
      ]
    },
    {
      "cell_type": "markdown",
      "metadata": {
        "id": "vce0A93dhdEd",
        "colab_type": "text"
      },
      "source": [
        "![](my_icons/geopolitical_mapper/wikipedia_table.JPG)"
      ]
    },
    {
      "cell_type": "markdown",
      "metadata": {
        "id": "SNorXoou-zRt",
        "colab_type": "text"
      },
      "source": [
        "**Each of the tables in the Wikipage has two columns.** The column on the left, lists down the \"standardized names\" of the countries in alphabetical order..."
      ]
    },
    {
      "cell_type": "code",
      "metadata": {
        "id": "dU5fTC_t4OfL",
        "colab_type": "code",
        "colab": {}
      },
      "source": [
        "website_url = requests.get('https://en.wikipedia.org/wiki/List_of_alternative_country_names').text\n",
        "\n",
        "soup = BeautifulSoup(website_url,'lxml')\n",
        "tables = soup.find_all('table',{'class':'wikitable'})\n",
        "\n",
        "countries = []\n",
        "\n",
        "## Left column - \"Description\"\n",
        "# Each table contains countries that start with a certain alphabet\n",
        "for table in tables:\n",
        "  rows = table.find_all('tr')\n",
        "  \n",
        "  # Gather countries with the specific alphabet\n",
        "  \n",
        "  countries_alphabet = [row.find('a').get('title') \\\n",
        "                        for i, row in enumerate(rows) if i != 0 ]\n",
        "\n",
        "  for country in countries_alphabet:\n",
        "    countries.append(country)"
      ],
      "execution_count": 0,
      "outputs": []
    },
    {
      "cell_type": "markdown",
      "metadata": {
        "id": "0CSTdW55-oJH",
        "colab_type": "text"
      },
      "source": [
        "...while the columns on the right lists down the alternative names of the countries."
      ]
    },
    {
      "cell_type": "code",
      "metadata": {
        "id": "mazdZgEB82T4",
        "colab_type": "code",
        "colab": {}
      },
      "source": [
        "countries_alt_names = []\n",
        "\n",
        "# Right column - Other name(s) or older name(s)\n",
        "for table in tables:\n",
        "  rows = table.find_all('tr')\n",
        "\n",
        "  for i, r in enumerate(rows):\n",
        "    \n",
        "    # Exclude table headers\n",
        "    if i != 0:\n",
        "      country_alt_name = [name.text for name in r.findAll('b')]\n",
        "      \n",
        "      if country_alt_name:\n",
        "        countries_alt_names.append(country_alt_name)"
      ],
      "execution_count": 0,
      "outputs": []
    },
    {
      "cell_type": "markdown",
      "metadata": {
        "id": "2JRcdjpv_I3n",
        "colab_type": "text"
      },
      "source": [
        "After scrapping the table from the Wikipage, we can **create a dictionary** `alt_names_to_countries` that maps each alternative name of the countries to their standardized name. (eg. \"USA\": \"United States\"). In the process of doing so we will:\n",
        "* convert all letters to lower case\n",
        "* remove \"the\"\n",
        "* remove any empty spaces \" \".\n",
        "\n",
        "With these changes, names such as **\"The United States of America\"** will be modified to **\"united_states_of_america\"**"
      ]
    },
    {
      "cell_type": "code",
      "metadata": {
        "id": "r0ivUL0i-bLF",
        "colab_type": "code",
        "colab": {}
      },
      "source": [
        "# First we group each country with their respective alternative names\n",
        "countries_to_alt_names_raw = {c:n for c, n in zip(countries, countries_alt_names)}\n",
        "\n",
        "# Map each alternative name to the default country name\n",
        "alt_names_to_countries = {v[i]:k for k, v in countries_to_alt_names_raw.items() \\\n",
        "                          for i in range(len(v))}\n",
        "\n",
        "# We lowercase the names; Remove \"the\" and '' that are contained in the names\n",
        "alt_names_to_countries = {k.lower().replace(\"the \", \"\"): v.lower().replace(\"the \", \"\") \\\n",
        "                          for k, v in alt_names_to_countries.items()}\n",
        "\n",
        "alt_names_to_countries = {k.lower().replace(\" \", \"_\"): v.lower().replace(\" \", \"_\") \\\n",
        "                          for k, v in alt_names_to_countries.items()}"
      ],
      "execution_count": 0,
      "outputs": []
    },
    {
      "cell_type": "markdown",
      "metadata": {
        "id": "yDyHNAHCDDwu",
        "colab_type": "text"
      },
      "source": [
        "We **remove names that are empty strings** and **add some names** that were missed out by the Wikipage."
      ]
    },
    {
      "cell_type": "code",
      "metadata": {
        "id": "4Cs6UcKoDDGt",
        "colab_type": "code",
        "colab": {}
      },
      "source": [
        "# remove empty strings\n",
        "alt_names_to_countries.pop('', None)\n",
        "\n",
        "# Add names\n",
        "alt_names_to_countries['angola'] = 'angola'\n",
        "alt_names_to_countries['equatorial_guinea'] = 'equatorial_guinea'"
      ],
      "execution_count": 0,
      "outputs": []
    },
    {
      "cell_type": "markdown",
      "metadata": {
        "id": "wp8KdytAEOJK",
        "colab_type": "text"
      },
      "source": [
        "The **mappings of standardized names with themselves** are valid mappings as well. Let's add them in."
      ]
    },
    {
      "cell_type": "code",
      "metadata": {
        "id": "cYXcdBM5FDhh",
        "colab_type": "code",
        "colab": {}
      },
      "source": [
        "default_countries = list(set(alt_names_to_countries.values()))\n",
        "\n",
        "for c in default_countries:\n",
        "  alt_names_to_countries.update({c:c})"
      ],
      "execution_count": 0,
      "outputs": []
    },
    {
      "cell_type": "markdown",
      "metadata": {
        "id": "RTMCoFSOFW_N",
        "colab_type": "text"
      },
      "source": [
        "Let's convert the dictionary `alt_names_to_countries` into a dataframe `alt_names_df` for easier visualization."
      ]
    },
    {
      "cell_type": "code",
      "metadata": {
        "id": "RlN5wCTPFcqr",
        "colab_type": "code",
        "outputId": "6260eab8-45bd-4fe8-aca8-ca9f484dac94",
        "colab": {
          "base_uri": "https://localhost:8080/",
          "height": 347
        }
      },
      "source": [
        "alt_names_df = pd.DataFrame.from_dict(alt_names_to_countries, \\\n",
        "                                      orient='index').reset_index()\n",
        "\n",
        "alt_names_df = alt_names_df.rename(columns={'index': 'Alternative_Name', \\\n",
        "                                            0:'Name'})\n",
        "\n",
        "alt_names_df.head(10)"
      ],
      "execution_count": 0,
      "outputs": [
        {
          "output_type": "execute_result",
          "data": {
            "text/html": [
              "<div>\n",
              "<style scoped>\n",
              "    .dataframe tbody tr th:only-of-type {\n",
              "        vertical-align: middle;\n",
              "    }\n",
              "\n",
              "    .dataframe tbody tr th {\n",
              "        vertical-align: top;\n",
              "    }\n",
              "\n",
              "    .dataframe thead th {\n",
              "        text-align: right;\n",
              "    }\n",
              "</style>\n",
              "<table border=\"1\" class=\"dataframe\">\n",
              "  <thead>\n",
              "    <tr style=\"text-align: right;\">\n",
              "      <th></th>\n",
              "      <th>Alternative_Name</th>\n",
              "      <th>Name</th>\n",
              "    </tr>\n",
              "  </thead>\n",
              "  <tbody>\n",
              "    <tr>\n",
              "      <th>0</th>\n",
              "      <td>republic_of_abkhazia</td>\n",
              "      <td>abkhazia</td>\n",
              "    </tr>\n",
              "    <tr>\n",
              "      <th>1</th>\n",
              "      <td>aphsny_axwynthkharra</td>\n",
              "      <td>abkhazia</td>\n",
              "    </tr>\n",
              "    <tr>\n",
              "      <th>2</th>\n",
              "      <td>respublika_abkhaziya</td>\n",
              "      <td>abkhazia</td>\n",
              "    </tr>\n",
              "    <tr>\n",
              "      <th>3</th>\n",
              "      <td>autonomous_republic_of_abkhazia</td>\n",
              "      <td>abkhazia</td>\n",
              "    </tr>\n",
              "    <tr>\n",
              "      <th>4</th>\n",
              "      <td>islamic_republic_of_afghanistan</td>\n",
              "      <td>afghanistan</td>\n",
              "    </tr>\n",
              "    <tr>\n",
              "      <th>5</th>\n",
              "      <td>da_afġānistān_islāmī_jumhoryat</td>\n",
              "      <td>afghanistan</td>\n",
              "    </tr>\n",
              "    <tr>\n",
              "      <th>6</th>\n",
              "      <td>jomhūrīyyeh_eslāmīyyeh_afġānestān</td>\n",
              "      <td>afghanistan</td>\n",
              "    </tr>\n",
              "    <tr>\n",
              "      <th>7</th>\n",
              "      <td>republic_of_albania</td>\n",
              "      <td>albania</td>\n",
              "    </tr>\n",
              "    <tr>\n",
              "      <th>8</th>\n",
              "      <td>republika_e_shqipërisë</td>\n",
              "      <td>albania</td>\n",
              "    </tr>\n",
              "    <tr>\n",
              "      <th>9</th>\n",
              "      <td>arnavutluk</td>\n",
              "      <td>albania</td>\n",
              "    </tr>\n",
              "  </tbody>\n",
              "</table>\n",
              "</div>"
            ],
            "text/plain": [
              "                    Alternative_Name         Name\n",
              "0               republic_of_abkhazia     abkhazia\n",
              "1               aphsny_axwynthkharra     abkhazia\n",
              "2               respublika_abkhaziya     abkhazia\n",
              "3    autonomous_republic_of_abkhazia     abkhazia\n",
              "4    islamic_republic_of_afghanistan  afghanistan\n",
              "5     da_afġānistān_islāmī_jumhoryat  afghanistan\n",
              "6  jomhūrīyyeh_eslāmīyyeh_afġānestān  afghanistan\n",
              "7                republic_of_albania      albania\n",
              "8             republika_e_shqipërisë      albania\n",
              "9                         arnavutluk      albania"
            ]
          },
          "metadata": {
            "tags": []
          },
          "execution_count": 9
        }
      ]
    },
    {
      "cell_type": "markdown",
      "metadata": {
        "id": "AWsl-57zxiq8",
        "colab_type": "text"
      },
      "source": [
        "As it will be easier for us to work with country names when they are standardized, let's **create a function** `get_std_names` that converts the raw names to the standardized (std) names by using the mappings in `alt_names_to_countries`. Sometimes raw names that we deal with may be upper cased or contain words/characters such as \"the\", brackets and punctuations. We will clean them up before looking for their standardized names."
      ]
    },
    {
      "cell_type": "code",
      "metadata": {
        "id": "2FL9MBKqxhS3",
        "colab_type": "code",
        "colab": {}
      },
      "source": [
        "def get_std_names(df, col_name, alt_names_to_countries):\n",
        "    \"\"\"\n",
        "    Creates a new column of standardized country names for a dataframe\n",
        "    \n",
        "    args:\n",
        "    ------\n",
        "        df: (pd.DataFrame) initial dataframe\n",
        "        col_name: (str) name of the column containing the raw country names \n",
        "                        eg. \"Country_A\"\n",
        "        alt_names_to_countries: (dict) contains country mappings\n",
        "    Return:\n",
        "    ------\n",
        "        New dataframe with an additional column with the suffix \"_Std\" \n",
        "        representing the standardized country names eg. \"Country_A_Std\"\n",
        "    \"\"\"\n",
        "\n",
        "    country_names = df[col_name].tolist()\n",
        "    # lower case\n",
        "    country_names = [c.lower() for c in country_names]\n",
        "    # remove the\n",
        "    country_names = [c.replace(\"the \",\"\") for c in country_names]\n",
        "    # add underscore\n",
        "    country_names = [\"_\".join(c.split()) for c in country_names]\n",
        "    # remove '(' ')'\n",
        "    country_names = [c.replace(\"(\", \"\") for c in country_names]\n",
        "    country_names = [c.replace(\")\", \"\") for c in country_names]\n",
        "    # remove .\n",
        "    country_names = [c.replace(\".\", \"\") for c in country_names]\n",
        "    \n",
        "    std_names = []\n",
        "    for name in country_names:\n",
        "      try:\n",
        "        std_names.append(alt_names_to_countries[name])\n",
        "      except:\n",
        "        std_names.append(name)\n",
        "\n",
        "    df[col_name + '_Std'] = std_names\n",
        "\n",
        "    return df"
      ],
      "execution_count": 0,
      "outputs": []
    },
    {
      "cell_type": "markdown",
      "metadata": {
        "id": "LjIOHIyAGvVW",
        "colab_type": "text"
      },
      "source": [
        "Great, now let's put the `get_std_names` function to good use! As you can see, we have an **additional column** `Country_Std` that contains the standardized names."
      ]
    },
    {
      "cell_type": "code",
      "metadata": {
        "id": "NSv7nWebxxvI",
        "colab_type": "code",
        "outputId": "8a1c6f05-d437-4313-bc2c-84fe93a2206e",
        "colab": {
          "base_uri": "https://localhost:8080/",
          "height": 347
        }
      },
      "source": [
        "countries_df = pd.read_csv('./data/Wiki/countries.csv')\n",
        "\n",
        "countries_df = get_std_names(countries_df, 'Country', alt_names_to_countries)\n",
        "countries_df.head(10)"
      ],
      "execution_count": 0,
      "outputs": [
        {
          "output_type": "execute_result",
          "data": {
            "text/html": [
              "<div>\n",
              "<style scoped>\n",
              "    .dataframe tbody tr th:only-of-type {\n",
              "        vertical-align: middle;\n",
              "    }\n",
              "\n",
              "    .dataframe tbody tr th {\n",
              "        vertical-align: top;\n",
              "    }\n",
              "\n",
              "    .dataframe thead th {\n",
              "        text-align: right;\n",
              "    }\n",
              "</style>\n",
              "<table border=\"1\" class=\"dataframe\">\n",
              "  <thead>\n",
              "    <tr style=\"text-align: right;\">\n",
              "      <th></th>\n",
              "      <th>Continent</th>\n",
              "      <th>Country</th>\n",
              "      <th>Country_Std</th>\n",
              "    </tr>\n",
              "  </thead>\n",
              "  <tbody>\n",
              "    <tr>\n",
              "      <th>0</th>\n",
              "      <td>Africa</td>\n",
              "      <td>Algeria</td>\n",
              "      <td>algeria</td>\n",
              "    </tr>\n",
              "    <tr>\n",
              "      <th>1</th>\n",
              "      <td>Africa</td>\n",
              "      <td>Angola</td>\n",
              "      <td>angola</td>\n",
              "    </tr>\n",
              "    <tr>\n",
              "      <th>2</th>\n",
              "      <td>Africa</td>\n",
              "      <td>Benin</td>\n",
              "      <td>benin</td>\n",
              "    </tr>\n",
              "    <tr>\n",
              "      <th>3</th>\n",
              "      <td>Africa</td>\n",
              "      <td>Botswana</td>\n",
              "      <td>botswana</td>\n",
              "    </tr>\n",
              "    <tr>\n",
              "      <th>4</th>\n",
              "      <td>Africa</td>\n",
              "      <td>Burkina</td>\n",
              "      <td>burkina</td>\n",
              "    </tr>\n",
              "    <tr>\n",
              "      <th>5</th>\n",
              "      <td>Africa</td>\n",
              "      <td>Burundi</td>\n",
              "      <td>burundi</td>\n",
              "    </tr>\n",
              "    <tr>\n",
              "      <th>6</th>\n",
              "      <td>Africa</td>\n",
              "      <td>Cameroon</td>\n",
              "      <td>cameroon</td>\n",
              "    </tr>\n",
              "    <tr>\n",
              "      <th>7</th>\n",
              "      <td>Africa</td>\n",
              "      <td>Cape Verde</td>\n",
              "      <td>cape_verde</td>\n",
              "    </tr>\n",
              "    <tr>\n",
              "      <th>8</th>\n",
              "      <td>Africa</td>\n",
              "      <td>Central African Republic</td>\n",
              "      <td>central_african_republic</td>\n",
              "    </tr>\n",
              "    <tr>\n",
              "      <th>9</th>\n",
              "      <td>Africa</td>\n",
              "      <td>Chad</td>\n",
              "      <td>chad</td>\n",
              "    </tr>\n",
              "  </tbody>\n",
              "</table>\n",
              "</div>"
            ],
            "text/plain": [
              "  Continent                   Country               Country_Std\n",
              "0    Africa                   Algeria                   algeria\n",
              "1    Africa                    Angola                    angola\n",
              "2    Africa                     Benin                     benin\n",
              "3    Africa                  Botswana                  botswana\n",
              "4    Africa                   Burkina                   burkina\n",
              "5    Africa                   Burundi                   burundi\n",
              "6    Africa                  Cameroon                  cameroon\n",
              "7    Africa                Cape Verde                cape_verde\n",
              "8    Africa  Central African Republic  central_african_republic\n",
              "9    Africa                      Chad                      chad"
            ]
          },
          "metadata": {
            "tags": []
          },
          "execution_count": 11
        }
      ]
    },
    {
      "cell_type": "markdown",
      "metadata": {
        "id": "pwIbzTN6gTWR",
        "colab_type": "text"
      },
      "source": [
        "With the names of the countries all accounted for, we will gather the total number of pair-wise relations between countries that we have to analyze the sentiments for. We will grab a list of unique countries that we have, group them up and remove any duplicate pairs. And bam! We have **18,336 country pairs** that we have to work with."
      ]
    },
    {
      "cell_type": "code",
      "metadata": {
        "id": "Q2b3H-VDGsFr",
        "colab_type": "code",
        "outputId": "1cfbc99e-21a4-4d35-f8d4-b6ce57c5f082",
        "colab": {
          "base_uri": "https://localhost:8080/",
          "height": 52
        }
      },
      "source": [
        "country_groups = []\n",
        "\n",
        "unique_countries = countries_df['Country_Std'].tolist()\n",
        "\n",
        "for i in range(len(unique_countries)):\n",
        "  for j in range(len(unique_countries)):\n",
        "    country_A = unique_countries[i]\n",
        "    country_B = unique_countries[j]\n",
        "\n",
        "    # We are not interested in relations of countries with itself\n",
        "    if country_A != country_B:\n",
        "      country_groups.append([country_A, country_B])\n",
        "\n",
        "# Sort by alphabetical order\n",
        "sorted_country_groups = [tuple(sorted(el)) for el in country_groups]\n",
        "\n",
        "# Remove any duplicates\n",
        "unique_country_groups = list(dict.fromkeys(sorted_country_groups))\n",
        "\n",
        "print(len(unique_country_groups))\n",
        "print(unique_country_groups[0:5])"
      ],
      "execution_count": 0,
      "outputs": [
        {
          "output_type": "stream",
          "text": [
            "18336\n",
            "[('algeria', 'angola'), ('algeria', 'benin'), ('algeria', 'botswana'), ('algeria', 'burkina'), ('algeria', 'burundi')]\n"
          ],
          "name": "stdout"
        }
      ]
    },
    {
      "cell_type": "markdown",
      "metadata": {
        "id": "kRiUIPMywN6z",
        "colab_type": "text"
      },
      "source": [
        "# Gathering the data from Wikipedia!"
      ]
    },
    {
      "cell_type": "markdown",
      "metadata": {
        "id": "jfvAtraIVIxR",
        "colab_type": "text"
      },
      "source": [
        "![](my_icons/geopolitical_mapper/singapore_china_relations.JPG)"
      ]
    },
    {
      "cell_type": "markdown",
      "metadata": {
        "id": "DQzam9yYhRti",
        "colab_type": "text"
      },
      "source": [
        "To gather the data we need, one option will be to scrape news headlines from the web. But one of the problems that we face when doing a simple search with \"China-United States relations\" on Google is that you are **unable to differentiate facts from commentaries**. The following is a headline from CNN : "
      ]
    },
    {
      "cell_type": "markdown",
      "metadata": {
        "id": "5IeAGJnFEnqp",
        "colab_type": "text"
      },
      "source": [
        "*The US-China trade war isn't getting better. This week showed why it could get worse.*"
      ]
    },
    {
      "cell_type": "markdown",
      "metadata": {
        "id": "e7jp4v5DEjb3",
        "colab_type": "text"
      },
      "source": [
        "Including such headlines in our data could **affect the reliability of our predictions.** Thankfully we are able to find an alternative data source from Wikipedia that offers summaries of actual incidents that occured between countries. Here is an **example for the relationship between United States and Singapore** retrieved from the [**summary section of the Singapore-United States Relations wikipedia page**](https://en.wikipedia.org/wiki/Singapore%E2%80%93United_States_relations):"
      ]
    },
    {
      "cell_type": "code",
      "metadata": {
        "id": "8P6tMK0HKQVr",
        "colab_type": "code",
        "colab": {}
      },
      "source": [
        "# # Create empty dataframe\n",
        "# wiki_df = pd.DataFrame(columns = ['Summary', 'URL', 'Country_Pair'])\n",
        "\n",
        "\n",
        "# for c in unique_countries:\n",
        "#   # For each country, identify which country relations are \n",
        "#   # available on wikipedia\n",
        "#   avail_relations = str(c + \" relations\")\n",
        "\n",
        "#   # For each available result\n",
        "#   for r in wikipedia.search(avail_relations):\n",
        "\n",
        "#       # Filter out results are not related to the relations of countries\n",
        "#       if \"–\" in r and \"relations\" in r:\n",
        "#         try:\n",
        "#           # Retrieve the summary paragraph on the wikipage\n",
        "#           summary = wikipedia.summary(r)\n",
        "\n",
        "#           # Retrieve the url\n",
        "#           url = wikipedia.page(r).url\n",
        "\n",
        "#           wiki_df = wiki_df.append({'Summary': summary, 'URL': url, \\\n",
        "#                                     'Country_Pair': r},ignore_index=True)\n",
        "#         except:\n",
        "#           pass\n",
        "\n",
        "# wiki_df.to_csv('./data/Wiki/wiki_relations.csv', index=False)"
      ],
      "execution_count": 0,
      "outputs": []
    },
    {
      "cell_type": "markdown",
      "metadata": {
        "id": "wnQB7WsINH5g",
        "colab_type": "text"
      },
      "source": [
        "Unfortunately, Wikipedia does not cover all 18,336 pairs that we are interested in. We are only able to retrieve the information for **1,463 pairs**."
      ]
    },
    {
      "cell_type": "code",
      "metadata": {
        "id": "QO0ZZlaBhCHG",
        "colab_type": "code",
        "outputId": "ef47b290-12d7-414c-ba1e-5638e10edb01",
        "colab": {
          "base_uri": "https://localhost:8080/",
          "height": 365
        }
      },
      "source": [
        "wiki_df = pd.read_csv('./data/Wiki/wiki_relations.csv')\n",
        "\n",
        "print(wiki_df.shape)\n",
        "wiki_df[['Summary', 'URL', 'Country_Pair']].head(10)"
      ],
      "execution_count": 0,
      "outputs": [
        {
          "output_type": "stream",
          "text": [
            "(1463, 3)\n"
          ],
          "name": "stdout"
        },
        {
          "output_type": "execute_result",
          "data": {
            "text/html": [
              "<div>\n",
              "<style scoped>\n",
              "    .dataframe tbody tr th:only-of-type {\n",
              "        vertical-align: middle;\n",
              "    }\n",
              "\n",
              "    .dataframe tbody tr th {\n",
              "        vertical-align: top;\n",
              "    }\n",
              "\n",
              "    .dataframe thead th {\n",
              "        text-align: right;\n",
              "    }\n",
              "</style>\n",
              "<table border=\"1\" class=\"dataframe\">\n",
              "  <thead>\n",
              "    <tr style=\"text-align: right;\">\n",
              "      <th></th>\n",
              "      <th>Summary</th>\n",
              "      <th>URL</th>\n",
              "      <th>Country_Pair</th>\n",
              "    </tr>\n",
              "  </thead>\n",
              "  <tbody>\n",
              "    <tr>\n",
              "      <th>0</th>\n",
              "      <td>Relations between France and Algeria span more...</td>\n",
              "      <td>https://en.wikipedia.org/wiki/Algeria%E2%80%93...</td>\n",
              "      <td>Algeria–France relations</td>\n",
              "    </tr>\n",
              "    <tr>\n",
              "      <th>1</th>\n",
              "      <td>Algeria – United States relations are the inte...</td>\n",
              "      <td>https://en.wikipedia.org/wiki/Algeria%E2%80%93...</td>\n",
              "      <td>Algeria–United States relations</td>\n",
              "    </tr>\n",
              "    <tr>\n",
              "      <th>2</th>\n",
              "      <td>Algeria–Libya relations are longstanding betwe...</td>\n",
              "      <td>https://en.wikipedia.org/wiki/Algeria%E2%80%93...</td>\n",
              "      <td>Algeria–Libya relations</td>\n",
              "    </tr>\n",
              "    <tr>\n",
              "      <th>3</th>\n",
              "      <td>Algeria–Morocco relations have been dominated ...</td>\n",
              "      <td>https://en.wikipedia.org/wiki/Algeria%E2%80%93...</td>\n",
              "      <td>Algeria–Morocco relations</td>\n",
              "    </tr>\n",
              "    <tr>\n",
              "      <th>4</th>\n",
              "      <td>Algeria–Turkey relations are foreign relations...</td>\n",
              "      <td>https://en.wikipedia.org/wiki/Algeria%E2%80%93...</td>\n",
              "      <td>Algeria–Turkey relations</td>\n",
              "    </tr>\n",
              "    <tr>\n",
              "      <th>5</th>\n",
              "      <td>Algeria–Russia relations (Russian: Российско–а...</td>\n",
              "      <td>https://en.wikipedia.org/wiki/Algeria%E2%80%93...</td>\n",
              "      <td>Algeria–Russia relations</td>\n",
              "    </tr>\n",
              "    <tr>\n",
              "      <th>6</th>\n",
              "      <td>Algeria–Israel relations refers to the current...</td>\n",
              "      <td>https://en.wikipedia.org/wiki/Algeria%E2%80%93...</td>\n",
              "      <td>Algeria–Israel relations</td>\n",
              "    </tr>\n",
              "    <tr>\n",
              "      <th>7</th>\n",
              "      <td>Algeria–Indonesia relations refers to the bila...</td>\n",
              "      <td>https://en.wikipedia.org/wiki/Algeria%E2%80%93...</td>\n",
              "      <td>Algeria–Indonesia relations</td>\n",
              "    </tr>\n",
              "    <tr>\n",
              "      <th>8</th>\n",
              "      <td>Algeria–China relations (also, Sino-Algerian r...</td>\n",
              "      <td>https://en.wikipedia.org/wiki/Algeria%E2%80%93...</td>\n",
              "      <td>Algeria–China relations</td>\n",
              "    </tr>\n",
              "    <tr>\n",
              "      <th>9</th>\n",
              "      <td>Angola – United States relations are diplomati...</td>\n",
              "      <td>https://en.wikipedia.org/wiki/Angola%E2%80%93U...</td>\n",
              "      <td>Angola–United States relations</td>\n",
              "    </tr>\n",
              "  </tbody>\n",
              "</table>\n",
              "</div>"
            ],
            "text/plain": [
              "                                             Summary  ...                     Country_Pair\n",
              "0  Relations between France and Algeria span more...  ...         Algeria–France relations\n",
              "1  Algeria – United States relations are the inte...  ...  Algeria–United States relations\n",
              "2  Algeria–Libya relations are longstanding betwe...  ...          Algeria–Libya relations\n",
              "3  Algeria–Morocco relations have been dominated ...  ...        Algeria–Morocco relations\n",
              "4  Algeria–Turkey relations are foreign relations...  ...         Algeria–Turkey relations\n",
              "5  Algeria–Russia relations (Russian: Российско–а...  ...         Algeria–Russia relations\n",
              "6  Algeria–Israel relations refers to the current...  ...         Algeria–Israel relations\n",
              "7  Algeria–Indonesia relations refers to the bila...  ...      Algeria–Indonesia relations\n",
              "8  Algeria–China relations (also, Sino-Algerian r...  ...          Algeria–China relations\n",
              "9  Angola – United States relations are diplomati...  ...   Angola–United States relations\n",
              "\n",
              "[10 rows x 3 columns]"
            ]
          },
          "metadata": {
            "tags": []
          },
          "execution_count": 13
        }
      ]
    },
    {
      "cell_type": "markdown",
      "metadata": {
        "id": "UmHtmYACPiCm",
        "colab_type": "text"
      },
      "source": [
        "Some of the summaries that we have retrieved from Wikipedia were **empty strings**. Let's remove them."
      ]
    },
    {
      "cell_type": "code",
      "metadata": {
        "id": "R0j1VtF3NHdZ",
        "colab_type": "code",
        "colab": {}
      },
      "source": [
        "wiki_df = wiki_df.fillna(\"EMPTY\")\n",
        "wiki_df = wiki_df[wiki_df['Summary'] != \"EMPTY\"]"
      ],
      "execution_count": 0,
      "outputs": []
    },
    {
      "cell_type": "markdown",
      "metadata": {
        "id": "1Qn2I_Q9M2M8",
        "colab_type": "text"
      },
      "source": [
        "Let's split the pairs in `Country_Pairs` into their **constituent countries** and place them in separate columns `Country_A` and `Country_B`"
      ]
    },
    {
      "cell_type": "code",
      "metadata": {
        "id": "TUFO60n-Pcdf",
        "colab_type": "code",
        "colab": {}
      },
      "source": [
        "def split_country_pair(wiki_country_pairs):\n",
        "    \"\"\"\n",
        "    Split country_pairs found via wikipedia (eg. \"Algebria-France relations\")\n",
        "    \n",
        "    args:\n",
        "    ------\n",
        "        wiki_country_pairs: (list) country_pairs to be split\n",
        "    Return:\n",
        "    ------\n",
        "        countries_A: (list) countries on the left of \"-\" separator\n",
        "        countries_B: (list) countries on the right of \"-\" separator\n",
        "    \"\"\"\n",
        "\n",
        "    country_pairs = [p.replace(\" relations\", \"\") for p in wiki_country_pairs]\n",
        "    countries_A = [p.split(\"–\")[0] for p in country_pairs]\n",
        "    countries_B = [p.split(\"–\")[1] for p in country_pairs]\n",
        "\n",
        "    return countries_A , countries_B"
      ],
      "execution_count": 0,
      "outputs": []
    },
    {
      "cell_type": "code",
      "metadata": {
        "id": "K9YG_TYUXzYl",
        "colab_type": "code",
        "colab": {}
      },
      "source": [
        "wiki_df['Country_A'], wiki_df['Country_B'] = split_country_pair(wiki_df['Country_Pair'].tolist())"
      ],
      "execution_count": 0,
      "outputs": []
    },
    {
      "cell_type": "markdown",
      "metadata": {
        "id": "W0xTtFr6SD5t",
        "colab_type": "text"
      },
      "source": [
        "With the country pairs separated we can retrieve their standardized `std` names. Remember the `get_std_names` function that we created earlier?"
      ]
    },
    {
      "cell_type": "code",
      "metadata": {
        "id": "oYdfOzuKQaSD",
        "colab_type": "code",
        "outputId": "4df749d7-917b-4c46-a7a9-8ade8f49cffb",
        "colab": {
          "base_uri": "https://localhost:8080/",
          "height": 567
        }
      },
      "source": [
        "wiki_df = get_std_names(wiki_df, 'Country_A', alt_names_to_countries)\n",
        "wiki_df = get_std_names(wiki_df, 'Country_B', alt_names_to_countries)\n",
        "\n",
        "wiki_df.head(5)"
      ],
      "execution_count": 0,
      "outputs": [
        {
          "output_type": "execute_result",
          "data": {
            "text/html": [
              "<div>\n",
              "<style scoped>\n",
              "    .dataframe tbody tr th:only-of-type {\n",
              "        vertical-align: middle;\n",
              "    }\n",
              "\n",
              "    .dataframe tbody tr th {\n",
              "        vertical-align: top;\n",
              "    }\n",
              "\n",
              "    .dataframe thead th {\n",
              "        text-align: right;\n",
              "    }\n",
              "</style>\n",
              "<table border=\"1\" class=\"dataframe\">\n",
              "  <thead>\n",
              "    <tr style=\"text-align: right;\">\n",
              "      <th></th>\n",
              "      <th>Summary</th>\n",
              "      <th>URL</th>\n",
              "      <th>Country_Pair</th>\n",
              "      <th>Country_A</th>\n",
              "      <th>Country_B</th>\n",
              "      <th>Country_A_Std</th>\n",
              "      <th>Country_B_Std</th>\n",
              "    </tr>\n",
              "  </thead>\n",
              "  <tbody>\n",
              "    <tr>\n",
              "      <th>0</th>\n",
              "      <td>Relations between France and Algeria span more...</td>\n",
              "      <td>https://en.wikipedia.org/wiki/Algeria%E2%80%93...</td>\n",
              "      <td>Algeria–France relations</td>\n",
              "      <td>Algeria</td>\n",
              "      <td>France</td>\n",
              "      <td>algeria</td>\n",
              "      <td>france</td>\n",
              "    </tr>\n",
              "    <tr>\n",
              "      <th>1</th>\n",
              "      <td>Algeria – United States relations are the inte...</td>\n",
              "      <td>https://en.wikipedia.org/wiki/Algeria%E2%80%93...</td>\n",
              "      <td>Algeria–United States relations</td>\n",
              "      <td>Algeria</td>\n",
              "      <td>United States</td>\n",
              "      <td>algeria</td>\n",
              "      <td>united_states</td>\n",
              "    </tr>\n",
              "    <tr>\n",
              "      <th>2</th>\n",
              "      <td>Algeria–Libya relations are longstanding betwe...</td>\n",
              "      <td>https://en.wikipedia.org/wiki/Algeria%E2%80%93...</td>\n",
              "      <td>Algeria–Libya relations</td>\n",
              "      <td>Algeria</td>\n",
              "      <td>Libya</td>\n",
              "      <td>algeria</td>\n",
              "      <td>libya</td>\n",
              "    </tr>\n",
              "    <tr>\n",
              "      <th>3</th>\n",
              "      <td>Algeria–Morocco relations have been dominated ...</td>\n",
              "      <td>https://en.wikipedia.org/wiki/Algeria%E2%80%93...</td>\n",
              "      <td>Algeria–Morocco relations</td>\n",
              "      <td>Algeria</td>\n",
              "      <td>Morocco</td>\n",
              "      <td>algeria</td>\n",
              "      <td>morocco</td>\n",
              "    </tr>\n",
              "    <tr>\n",
              "      <th>4</th>\n",
              "      <td>Algeria–Turkey relations are foreign relations...</td>\n",
              "      <td>https://en.wikipedia.org/wiki/Algeria%E2%80%93...</td>\n",
              "      <td>Algeria–Turkey relations</td>\n",
              "      <td>Algeria</td>\n",
              "      <td>Turkey</td>\n",
              "      <td>algeria</td>\n",
              "      <td>turkey</td>\n",
              "    </tr>\n",
              "  </tbody>\n",
              "</table>\n",
              "</div>"
            ],
            "text/plain": [
              "                                             Summary  ...  Country_B_Std\n",
              "0  Relations between France and Algeria span more...  ...         france\n",
              "1  Algeria – United States relations are the inte...  ...  united_states\n",
              "2  Algeria–Libya relations are longstanding betwe...  ...          libya\n",
              "3  Algeria–Morocco relations have been dominated ...  ...        morocco\n",
              "4  Algeria–Turkey relations are foreign relations...  ...         turkey\n",
              "\n",
              "[5 rows x 7 columns]"
            ]
          },
          "metadata": {
            "tags": []
          },
          "execution_count": 17
        }
      ]
    },
    {
      "cell_type": "markdown",
      "metadata": {
        "id": "RwMWVBJEu2cf",
        "colab_type": "text"
      },
      "source": [
        "# Generate labeled data for training"
      ]
    },
    {
      "cell_type": "markdown",
      "metadata": {
        "id": "CJiSQdJ8YF-q",
        "colab_type": "text"
      },
      "source": [
        "![](my_icons/geopolitical_mapper/google_machine_learning_code.gif)"
      ]
    },
    {
      "cell_type": "markdown",
      "metadata": {
        "id": "r-Nm2x3XS6gw",
        "colab_type": "text"
      },
      "source": [
        "Creating your own **training dataset** is one of the most challenging task in the real world. To finetune ALBERT for our use case, we will need to create a training dataset. \n",
        "\n",
        "Due to time limitations, **let's label 10% of the data** `l` while the **remaining 90% of the data will remain unlabeled** `ul`.\n",
        "\n"
      ]
    },
    {
      "cell_type": "code",
      "metadata": {
        "id": "R0kVgwyXT6wY",
        "colab_type": "code",
        "colab": {}
      },
      "source": [
        "idx = np.array(wiki_df.index.tolist())\n",
        "\n",
        "X_l, X_ul = train_test_split(idx, train_size=0.10, random_state=42)\n",
        "wiki_l_df = wiki_df.loc[X_l]\n",
        "wiki_ul_df = wiki_df.loc[X_ul]"
      ],
      "execution_count": 0,
      "outputs": []
    },
    {
      "cell_type": "markdown",
      "metadata": {
        "id": "UTBYHBJD-KNf",
        "colab_type": "text"
      },
      "source": [
        "### Splitting wikipedia summary paragraphs into sentences"
      ]
    },
    {
      "cell_type": "markdown",
      "metadata": {
        "id": "88o9AP_RUhjy",
        "colab_type": "text"
      },
      "source": [
        "Currently our training data exists in in the form of a paragraphs. We will can **split the summary paragraphs into individual sentences** before labeling them."
      ]
    },
    {
      "cell_type": "code",
      "metadata": {
        "id": "f1a0vmk3sZH9",
        "colab_type": "code",
        "colab": {}
      },
      "source": [
        "def split_summaries(summaries, country_As, country_Bs):\n",
        "    \"\"\"\n",
        "    Split wikipedia summaries of each country pair into individual sentences\n",
        "    \n",
        "    args:\n",
        "    ------\n",
        "        summaries: (list) wikipedia summaries\n",
        "        country_As: (list) countries in Country_A column\n",
        "        country_Bs: (list) countries in Country_B column\n",
        "    Return:\n",
        "    ------\n",
        "        sent_df: (pd.DataFrame) a new dataframe with each row representing\n",
        "                  one sentence of a wikipedia summary\n",
        "    \"\"\"\n",
        "\n",
        "    nlp = English()\n",
        "    nlp.add_pipe(nlp.create_pipe('sentencizer'))\n",
        "\n",
        "    sents = [sent.text for summary in summaries for sent in nlp(summary).sents]\n",
        "    sents = [s.replace(\"\\n\", \"\") for s in sents]\n",
        "    sents\n",
        "\n",
        "    # We will have to replicate the names of the country as many times\n",
        "    # as the number of sentences\n",
        "    sents_counts = [len(list(nlp(summary).sents)) for summary in summaries]\n",
        "\n",
        "    country_A_freq = list(zip(country_As, sents_counts))\n",
        "    country_B_freq = list(zip(country_Bs, sents_counts))\n",
        "    \n",
        "    country_A_rep = list(itertools.chain.from_iterable(itertools.repeat(x[0], x[1]) for x in country_A_freq))\n",
        "    country_B_rep = list(itertools.chain.from_iterable(itertools.repeat(x[0], x[1]) for x in country_B_freq))\n",
        "\n",
        "    # Create dataframe of sentences\n",
        "    d = {'Summary_Sentence':sents, 'Country_A': country_A_rep, \\\n",
        "         'Country_B': country_B_rep}\n",
        "\n",
        "    sent_df = pd.DataFrame(d)\n",
        "    sent_df['Country_Pair'] = sent_df['Country_A'] + '_' + sent_df['Country_B']\n",
        "\n",
        "    return sent_df"
      ],
      "execution_count": 0,
      "outputs": []
    },
    {
      "cell_type": "code",
      "metadata": {
        "id": "7reoF7ejoZP-",
        "colab_type": "code",
        "colab": {}
      },
      "source": [
        "sent_l_df = split_summaries(wiki_l_df['Summary'].tolist(),\n",
        "                            wiki_l_df['Country_A'].tolist(),\n",
        "                            wiki_l_df['Country_B'].tolist())\n",
        "\n",
        "sent_ul_df = split_summaries(wiki_ul_df['Summary'].tolist(),\n",
        "                             wiki_ul_df['Country_A'].tolist(),\n",
        "                             wiki_ul_df['Country_B'].tolist())"
      ],
      "execution_count": 0,
      "outputs": []
    },
    {
      "cell_type": "code",
      "metadata": {
        "id": "_N0hP4k85zki",
        "colab_type": "code",
        "outputId": "8e80935d-d724-4407-f961-e98600652001",
        "colab": {
          "base_uri": "https://localhost:8080/",
          "height": 347
        }
      },
      "source": [
        "sent_l_df.head(10)"
      ],
      "execution_count": 0,
      "outputs": [
        {
          "output_type": "execute_result",
          "data": {
            "text/html": [
              "<div>\n",
              "<style scoped>\n",
              "    .dataframe tbody tr th:only-of-type {\n",
              "        vertical-align: middle;\n",
              "    }\n",
              "\n",
              "    .dataframe tbody tr th {\n",
              "        vertical-align: top;\n",
              "    }\n",
              "\n",
              "    .dataframe thead th {\n",
              "        text-align: right;\n",
              "    }\n",
              "</style>\n",
              "<table border=\"1\" class=\"dataframe\">\n",
              "  <thead>\n",
              "    <tr style=\"text-align: right;\">\n",
              "      <th></th>\n",
              "      <th>Summary_Sentence</th>\n",
              "      <th>Country_A</th>\n",
              "      <th>Country_B</th>\n",
              "      <th>Country_Pair</th>\n",
              "    </tr>\n",
              "  </thead>\n",
              "  <tbody>\n",
              "    <tr>\n",
              "      <th>0</th>\n",
              "      <td>China–Indonesia relations refer to the foreign...</td>\n",
              "      <td>China</td>\n",
              "      <td>Indonesia</td>\n",
              "      <td>China_Indonesia</td>\n",
              "    </tr>\n",
              "    <tr>\n",
              "      <th>1</th>\n",
              "      <td>The relations between two nations have been on...</td>\n",
              "      <td>China</td>\n",
              "      <td>Indonesia</td>\n",
              "      <td>China_Indonesia</td>\n",
              "    </tr>\n",
              "    <tr>\n",
              "      <th>2</th>\n",
              "      <td>However, the diplomatic relationship between t...</td>\n",
              "      <td>China</td>\n",
              "      <td>Indonesia</td>\n",
              "      <td>China_Indonesia</td>\n",
              "    </tr>\n",
              "    <tr>\n",
              "      <th>3</th>\n",
              "      <td>China has an embassy in Jakarta and consulates...</td>\n",
              "      <td>China</td>\n",
              "      <td>Indonesia</td>\n",
              "      <td>China_Indonesia</td>\n",
              "    </tr>\n",
              "    <tr>\n",
              "      <th>4</th>\n",
              "      <td>Both countries are among the largest nations i...</td>\n",
              "      <td>China</td>\n",
              "      <td>Indonesia</td>\n",
              "      <td>China_Indonesia</td>\n",
              "    </tr>\n",
              "    <tr>\n",
              "      <th>5</th>\n",
              "      <td>Both nations are the members of APEC and G-20 ...</td>\n",
              "      <td>China</td>\n",
              "      <td>Indonesia</td>\n",
              "      <td>China_Indonesia</td>\n",
              "    </tr>\n",
              "    <tr>\n",
              "      <th>6</th>\n",
              "      <td>According to a 2014 BBC World Service Poll, th...</td>\n",
              "      <td>China</td>\n",
              "      <td>Indonesia</td>\n",
              "      <td>China_Indonesia</td>\n",
              "    </tr>\n",
              "    <tr>\n",
              "      <th>7</th>\n",
              "      <td>Djibouti – United States relations are bilater...</td>\n",
              "      <td>Djibouti</td>\n",
              "      <td>United States</td>\n",
              "      <td>Djibouti_United States</td>\n",
              "    </tr>\n",
              "    <tr>\n",
              "      <th>8</th>\n",
              "      <td>Poland–Russia relations (Polish: Stosunki pols...</td>\n",
              "      <td>Poland</td>\n",
              "      <td>Russia</td>\n",
              "      <td>Poland_Russia</td>\n",
              "    </tr>\n",
              "    <tr>\n",
              "      <th>9</th>\n",
              "      <td>Over centuries, there have been several Polish...</td>\n",
              "      <td>Poland</td>\n",
              "      <td>Russia</td>\n",
              "      <td>Poland_Russia</td>\n",
              "    </tr>\n",
              "  </tbody>\n",
              "</table>\n",
              "</div>"
            ],
            "text/plain": [
              "                                    Summary_Sentence  ...            Country_Pair\n",
              "0  China–Indonesia relations refer to the foreign...  ...         China_Indonesia\n",
              "1  The relations between two nations have been on...  ...         China_Indonesia\n",
              "2  However, the diplomatic relationship between t...  ...         China_Indonesia\n",
              "3  China has an embassy in Jakarta and consulates...  ...         China_Indonesia\n",
              "4  Both countries are among the largest nations i...  ...         China_Indonesia\n",
              "5  Both nations are the members of APEC and G-20 ...  ...         China_Indonesia\n",
              "6  According to a 2014 BBC World Service Poll, th...  ...         China_Indonesia\n",
              "7  Djibouti – United States relations are bilater...  ...  Djibouti_United States\n",
              "8  Poland–Russia relations (Polish: Stosunki pols...  ...           Poland_Russia\n",
              "9  Over centuries, there have been several Polish...  ...           Poland_Russia\n",
              "\n",
              "[10 rows x 4 columns]"
            ]
          },
          "metadata": {
            "tags": []
          },
          "execution_count": 21
        }
      ]
    },
    {
      "cell_type": "markdown",
      "metadata": {
        "id": "TcVm2CDML8aA",
        "colab_type": "text"
      },
      "source": [
        "### Some data cleaning to do - Removing irrelevant sentences"
      ]
    },
    {
      "cell_type": "markdown",
      "metadata": {
        "id": "eQu2CvOf6MF3",
        "colab_type": "text"
      },
      "source": [
        "There are some sentences that do not offer any insights into the relationships between countries. For example:\n",
        "\n"
      ]
    },
    {
      "cell_type": "markdown",
      "metadata": {
        "id": "J9fd5KHf0--H",
        "colab_type": "text"
      },
      "source": [
        "*United States – Singapore relations are bilateral relations between the United States and Singapore.*"
      ]
    },
    {
      "cell_type": "markdown",
      "metadata": {
        "id": "vLFjnA2I1CTY",
        "colab_type": "text"
      },
      "source": [
        " It will be good for us to remove them to increase the performance of our model. Unfortunately, **these sentences come in various forms**. Let's take a look at another example:"
      ]
    },
    {
      "cell_type": "markdown",
      "metadata": {
        "id": "2fG1rW1f1MKS",
        "colab_type": "text"
      },
      "source": [
        "*The Bahamas–United States relations refers to foreign relations between the Bahamas and States*"
      ]
    },
    {
      "cell_type": "markdown",
      "metadata": {
        "id": "fg-yUU0W1TA6",
        "colab_type": "text"
      },
      "source": [
        "There are more examples below if you are interested to look at them. We will use **regex** to remove them."
      ]
    },
    {
      "cell_type": "code",
      "metadata": {
        "colab_type": "code",
        "outputId": "1a4b3452-f1ec-4a9e-ee6c-6296d0bc0f5e",
        "id": "_60NLr-Lpjsy",
        "colab": {
          "base_uri": "https://localhost:8080/",
          "height": 161
        }
      },
      "source": [
        "regex_1 = '^(The|'')\\s?[a-zA-Z\\s]+(–|-|and)[a-zA-Z\\s]+ relations refer[s]?'\n",
        "\n",
        "regex_1_df = sent_ul_df[sent_ul_df['Summary_Sentence'].str.contains(regex_1, regex=True)]\n",
        "regex_1_df.head(5)['Summary_Sentence'].tolist()"
      ],
      "execution_count": 0,
      "outputs": [
        {
          "output_type": "stream",
          "text": [
            "/usr/local/lib/python3.6/dist-packages/pandas/core/strings.py:1843: UserWarning: This pattern has match groups. To actually get the groups, use str.extract.\n",
            "  return func(self, *args, **kwargs)\n"
          ],
          "name": "stderr"
        },
        {
          "output_type": "execute_result",
          "data": {
            "text/plain": [
              "['French–American relations refers to the diplomatic, social, economic and cultural relations between France and the United States since 1776.',\n",
              " 'Trinidad and Tobago–Venezuela relations refers to the bilateral relations between the Republic of Trinidad and Tobago and the Bolivarian Republic of Venezuela.',\n",
              " 'Bangladesh–Ukraine relations refer to the bilateral relations between Bangladesh and Ukraine.',\n",
              " 'Mauritius–Russia relations refers to the bilateral relations of Russia and Mauritius.',\n",
              " 'Bangladesh–Brunei relations refer to the bilateral relations between Bangladesh and Brunei.']"
            ]
          },
          "metadata": {
            "tags": []
          },
          "execution_count": 26
        }
      ]
    },
    {
      "cell_type": "code",
      "metadata": {
        "id": "egXLVUPfWnPn",
        "colab_type": "code",
        "outputId": "b1be28bd-cbd8-417d-c089-8c3f5203dc74",
        "colab": {
          "base_uri": "https://localhost:8080/",
          "height": 161
        }
      },
      "source": [
        "regex_2 = '^(The|'')\\s?[a-zA-Z\\s]+(–|-|and)[a-zA-Z\\s]+ relations (are|is)'\n",
        "\n",
        "regex_2_df = sent_ul_df[sent_ul_df['Summary_Sentence'].str.contains(regex_2, regex=True)]\n",
        "regex_2_df.head(5)['Summary_Sentence'].tolist()"
      ],
      "execution_count": 0,
      "outputs": [
        {
          "output_type": "stream",
          "text": [
            "/usr/local/lib/python3.6/dist-packages/pandas/core/strings.py:1843: UserWarning: This pattern has match groups. To actually get the groups, use str.extract.\n",
            "  return func(self, *args, **kwargs)\n"
          ],
          "name": "stderr"
        },
        {
          "output_type": "execute_result",
          "data": {
            "text/plain": [
              "['British–Canadian relations are the relations between  Canada and the United Kingdom of Great Britain and Northern Ireland, being bilateral relations between their governments and wider relations between the 2 societies.',\n",
              " 'Bahrain–United Kingdom relations are bilateral relations between Kingdom of Bahrain and the United Kingdom of Great Britain and Northern Ireland.',\n",
              " 'Portugal–Russia relations are foreign relations between Portugal and Russia.',\n",
              " 'Cuba–Mexico relations are the diplomatic and bilateral relations between the Republic of Cuba and the United Mexican States.',\n",
              " 'Kyrgyzstan–Russia relations is the relationship between the two countries, Kyrgyzstan and Russia.']"
            ]
          },
          "metadata": {
            "tags": []
          },
          "execution_count": 27
        }
      ]
    },
    {
      "cell_type": "markdown",
      "metadata": {
        "id": "ttgByVom9Kwb",
        "colab_type": "text"
      },
      "source": [
        "`remove_invalid_sents` will help us to remove all the different combinations that we have spotted so far."
      ]
    },
    {
      "cell_type": "code",
      "metadata": {
        "id": "tNKgYcW0LjBV",
        "colab_type": "code",
        "colab": {}
      },
      "source": [
        "def remove_invalid_sents(df):\n",
        "\n",
        "    # Remove empty sentences\n",
        "    df.replace(\"\", np.nan, inplace=True)\n",
        "    df.dropna(subset=[\"Summary_Sentence\"], inplace=True)\n",
        "\n",
        "    # Remove sentences with ...relations refers to...\n",
        "    regex_1 = '^(The|'')\\s?[a-zA-Z\\s]+(–|-|and)[a-zA-Z\\s]+ relations refer[s]?'\n",
        "    regex_2 = '^(The|'')\\s?[a-zA-Z\\s]+(–|-|and)[a-zA-Z\\s]+ relations (are|is)'\n",
        "\n",
        "    df = df[~df['Summary_Sentence'].str.contains(regex_1, regex=True)]\n",
        "    df = df[~df['Summary_Sentence'].str.contains(regex_2, regex=True)]\n",
        "    \n",
        "    return df"
      ],
      "execution_count": 0,
      "outputs": []
    },
    {
      "cell_type": "code",
      "metadata": {
        "id": "JKwUJwmHOP5g",
        "colab_type": "code",
        "outputId": "e1a481b3-942c-4013-bac7-c68e36b4797f",
        "colab": {
          "base_uri": "https://localhost:8080/",
          "height": 72
        }
      },
      "source": [
        "sent_l_df = remove_invalid_sents(sent_l_df)\n",
        "sent_ul_df = remove_invalid_sents(sent_ul_df)"
      ],
      "execution_count": 0,
      "outputs": [
        {
          "output_type": "stream",
          "text": [
            "/usr/local/lib/python3.6/dist-packages/pandas/core/strings.py:1843: UserWarning: This pattern has match groups. To actually get the groups, use str.extract.\n",
            "  return func(self, *args, **kwargs)\n"
          ],
          "name": "stderr"
        }
      ]
    },
    {
      "cell_type": "markdown",
      "metadata": {
        "id": "Gf1vS-a_NEOU",
        "colab_type": "text"
      },
      "source": [
        "For now, we will exclude the summaries between **\"History of Japan\"** and \"Korea\" and instead analyze the relationship between **\"Japan\"** and \"Korea\""
      ]
    },
    {
      "cell_type": "code",
      "metadata": {
        "id": "tba0LeFdNdOI",
        "colab_type": "code",
        "outputId": "12a4d533-1332-4ca4-d8f6-1440f9116268",
        "colab": {
          "base_uri": "https://localhost:8080/",
          "height": 197
        }
      },
      "source": [
        "hoj = sent_l_df[sent_l_df['Country_A'] == 'History of Japan']\n",
        "hoj.head(5)"
      ],
      "execution_count": 0,
      "outputs": [
        {
          "output_type": "execute_result",
          "data": {
            "text/html": [
              "<div>\n",
              "<style scoped>\n",
              "    .dataframe tbody tr th:only-of-type {\n",
              "        vertical-align: middle;\n",
              "    }\n",
              "\n",
              "    .dataframe tbody tr th {\n",
              "        vertical-align: top;\n",
              "    }\n",
              "\n",
              "    .dataframe thead th {\n",
              "        text-align: right;\n",
              "    }\n",
              "</style>\n",
              "<table border=\"1\" class=\"dataframe\">\n",
              "  <thead>\n",
              "    <tr style=\"text-align: right;\">\n",
              "      <th></th>\n",
              "      <th>Summary_Sentence</th>\n",
              "      <th>Country_A</th>\n",
              "      <th>Country_B</th>\n",
              "      <th>Country_Pair</th>\n",
              "    </tr>\n",
              "  </thead>\n",
              "  <tbody>\n",
              "    <tr>\n",
              "      <th>14</th>\n",
              "      <td>For over 15 centuries, the relationship betwee...</td>\n",
              "      <td>History of Japan</td>\n",
              "      <td>Korea</td>\n",
              "      <td>History of Japan_Korea</td>\n",
              "    </tr>\n",
              "    <tr>\n",
              "      <th>15</th>\n",
              "      <td>During the ancient era, exchanges of cultures ...</td>\n",
              "      <td>History of Japan</td>\n",
              "      <td>Korea</td>\n",
              "      <td>History of Japan_Korea</td>\n",
              "    </tr>\n",
              "    <tr>\n",
              "      <th>16</th>\n",
              "      <td>Buddhism, Chinese-influenced cuisine, Han char...</td>\n",
              "      <td>History of Japan</td>\n",
              "      <td>Korea</td>\n",
              "      <td>History of Japan_Korea</td>\n",
              "    </tr>\n",
              "    <tr>\n",
              "      <th>17</th>\n",
              "      <td>Since 1945, relations involve three states: No...</td>\n",
              "      <td>History of Japan</td>\n",
              "      <td>Korea</td>\n",
              "      <td>History of Japan_Korea</td>\n",
              "    </tr>\n",
              "    <tr>\n",
              "      <th>18</th>\n",
              "      <td>Japan cut off Korea from Qing Chinese suzerain...</td>\n",
              "      <td>History of Japan</td>\n",
              "      <td>Korea</td>\n",
              "      <td>History of Japan_Korea</td>\n",
              "    </tr>\n",
              "  </tbody>\n",
              "</table>\n",
              "</div>"
            ],
            "text/plain": [
              "                                     Summary_Sentence  ...            Country_Pair\n",
              "14  For over 15 centuries, the relationship betwee...  ...  History of Japan_Korea\n",
              "15  During the ancient era, exchanges of cultures ...  ...  History of Japan_Korea\n",
              "16  Buddhism, Chinese-influenced cuisine, Han char...  ...  History of Japan_Korea\n",
              "17  Since 1945, relations involve three states: No...  ...  History of Japan_Korea\n",
              "18  Japan cut off Korea from Qing Chinese suzerain...  ...  History of Japan_Korea\n",
              "\n",
              "[5 rows x 4 columns]"
            ]
          },
          "metadata": {
            "tags": []
          },
          "execution_count": 30
        }
      ]
    },
    {
      "cell_type": "markdown",
      "metadata": {
        "id": "NFTQI6U5-x5w",
        "colab_type": "text"
      },
      "source": [
        "Let's save the data we have created into csv files."
      ]
    },
    {
      "cell_type": "code",
      "metadata": {
        "id": "b5bEVJtSLhlE",
        "colab_type": "code",
        "colab": {}
      },
      "source": [
        "# sent_l_df.to_csv('./data/Wiki/sent_l.csv', index=False)\n",
        "sent_ul_df.to_csv('./data/Wiki/sent_ul.csv', index=False)"
      ],
      "execution_count": 0,
      "outputs": []
    },
    {
      "cell_type": "markdown",
      "metadata": {
        "id": "A_5tNwv822w_",
        "colab_type": "text"
      },
      "source": [
        "I have manually labeled close to **700 sentences**, giving them a label of **0, 1 and 2** for negative, positive and neutral sentiments respectively. Let's read the file to obtain the labels `ld`."
      ]
    },
    {
      "cell_type": "code",
      "metadata": {
        "id": "et9Vrn3u22XD",
        "colab_type": "code",
        "outputId": "571c9a38-d3d5-4099-ec51-329ed150a6ce",
        "colab": {
          "base_uri": "https://localhost:8080/",
          "height": 347
        }
      },
      "source": [
        "sent_ld_all_df = pd.read_csv('./data/Wiki/sent_ld.csv')\n",
        "\n",
        "sent_ld_all_df.head(10)"
      ],
      "execution_count": 0,
      "outputs": [
        {
          "output_type": "execute_result",
          "data": {
            "text/html": [
              "<div>\n",
              "<style scoped>\n",
              "    .dataframe tbody tr th:only-of-type {\n",
              "        vertical-align: middle;\n",
              "    }\n",
              "\n",
              "    .dataframe tbody tr th {\n",
              "        vertical-align: top;\n",
              "    }\n",
              "\n",
              "    .dataframe thead th {\n",
              "        text-align: right;\n",
              "    }\n",
              "</style>\n",
              "<table border=\"1\" class=\"dataframe\">\n",
              "  <thead>\n",
              "    <tr style=\"text-align: right;\">\n",
              "      <th></th>\n",
              "      <th>Summary_Sentence</th>\n",
              "      <th>Label</th>\n",
              "      <th>Country_A</th>\n",
              "      <th>Country_B</th>\n",
              "      <th>Country_Pair</th>\n",
              "    </tr>\n",
              "  </thead>\n",
              "  <tbody>\n",
              "    <tr>\n",
              "      <th>0</th>\n",
              "      <td>The relations between two nations have been on...</td>\n",
              "      <td>1</td>\n",
              "      <td>China</td>\n",
              "      <td>Indonesia</td>\n",
              "      <td>China_Indonesia</td>\n",
              "    </tr>\n",
              "    <tr>\n",
              "      <th>1</th>\n",
              "      <td>However, the diplomatic relationship between t...</td>\n",
              "      <td>0</td>\n",
              "      <td>China</td>\n",
              "      <td>Indonesia</td>\n",
              "      <td>China_Indonesia</td>\n",
              "    </tr>\n",
              "    <tr>\n",
              "      <th>2</th>\n",
              "      <td>China has an embassy in Jakarta and consulates...</td>\n",
              "      <td>1</td>\n",
              "      <td>China</td>\n",
              "      <td>Indonesia</td>\n",
              "      <td>China_Indonesia</td>\n",
              "    </tr>\n",
              "    <tr>\n",
              "      <th>3</th>\n",
              "      <td>Both countries are among the largest nations i...</td>\n",
              "      <td>2</td>\n",
              "      <td>China</td>\n",
              "      <td>Indonesia</td>\n",
              "      <td>China_Indonesia</td>\n",
              "    </tr>\n",
              "    <tr>\n",
              "      <th>4</th>\n",
              "      <td>Both nations are the members of APEC and G-20 ...</td>\n",
              "      <td>1</td>\n",
              "      <td>China</td>\n",
              "      <td>Indonesia</td>\n",
              "      <td>China_Indonesia</td>\n",
              "    </tr>\n",
              "    <tr>\n",
              "      <th>5</th>\n",
              "      <td>\\nAccording to a 2014 BBC World Service Poll, ...</td>\n",
              "      <td>1</td>\n",
              "      <td>China</td>\n",
              "      <td>Indonesia</td>\n",
              "      <td>China_Indonesia</td>\n",
              "    </tr>\n",
              "    <tr>\n",
              "      <th>6</th>\n",
              "      <td>Poland–Russia relations (Polish: Stosunki pols...</td>\n",
              "      <td>0</td>\n",
              "      <td>Poland</td>\n",
              "      <td>Russia</td>\n",
              "      <td>Poland_Russia</td>\n",
              "    </tr>\n",
              "    <tr>\n",
              "      <th>7</th>\n",
              "      <td>Over centuries, there have been several Polish...</td>\n",
              "      <td>0</td>\n",
              "      <td>Poland</td>\n",
              "      <td>Russia</td>\n",
              "      <td>Poland_Russia</td>\n",
              "    </tr>\n",
              "    <tr>\n",
              "      <th>8</th>\n",
              "      <td>Polish–Russian relations entered a new phase f...</td>\n",
              "      <td>2</td>\n",
              "      <td>Poland</td>\n",
              "      <td>Russia</td>\n",
              "      <td>Poland_Russia</td>\n",
              "    </tr>\n",
              "    <tr>\n",
              "      <th>9</th>\n",
              "      <td>Since then Polish–Russian relations have at ti...</td>\n",
              "      <td>2</td>\n",
              "      <td>Poland</td>\n",
              "      <td>Russia</td>\n",
              "      <td>Poland_Russia</td>\n",
              "    </tr>\n",
              "  </tbody>\n",
              "</table>\n",
              "</div>"
            ],
            "text/plain": [
              "                                    Summary_Sentence  ...     Country_Pair\n",
              "0  The relations between two nations have been on...  ...  China_Indonesia\n",
              "1  However, the diplomatic relationship between t...  ...  China_Indonesia\n",
              "2  China has an embassy in Jakarta and consulates...  ...  China_Indonesia\n",
              "3  Both countries are among the largest nations i...  ...  China_Indonesia\n",
              "4  Both nations are the members of APEC and G-20 ...  ...  China_Indonesia\n",
              "5  \\nAccording to a 2014 BBC World Service Poll, ...  ...  China_Indonesia\n",
              "6  Poland–Russia relations (Polish: Stosunki pols...  ...    Poland_Russia\n",
              "7  Over centuries, there have been several Polish...  ...    Poland_Russia\n",
              "8  Polish–Russian relations entered a new phase f...  ...    Poland_Russia\n",
              "9  Since then Polish–Russian relations have at ti...  ...    Poland_Russia\n",
              "\n",
              "[10 rows x 5 columns]"
            ]
          },
          "metadata": {
            "tags": []
          },
          "execution_count": 32
        }
      ]
    },
    {
      "cell_type": "markdown",
      "metadata": {
        "id": "4J5QbBxCWaje",
        "colab_type": "text"
      },
      "source": [
        "Let's step ahead a little. While working on this blog post, I did realise that the inclusion of sentences with **neutral sentiments** affects the performance of the model **negatively**. Below are some examples of these sentences. For now, let's **exclude them** and only train our model with sentences of positive and negative sentiments."
      ]
    },
    {
      "cell_type": "code",
      "metadata": {
        "id": "eK-eV-tJXj9S",
        "colab_type": "code",
        "outputId": "79663a8b-1d9b-4705-a659-18c895bf8e0c",
        "colab": {
          "base_uri": "https://localhost:8080/",
          "height": 125
        }
      },
      "source": [
        "sent_ld_neutral_df = sent_ld_all_df[sent_ld_all_df['Label'] == 2]\n",
        "sent_ld_neutral_df['Summary_Sentence'].tolist()[0:5]"
      ],
      "execution_count": 0,
      "outputs": [
        {
          "output_type": "execute_result",
          "data": {
            "text/plain": [
              "['Both countries are among the largest nations in Asia in terms of both area and population, China is the most populous nation on earth, while Indonesia has the 4th largest population in the world.',\n",
              " 'Polish–Russian relations entered a new phase following the fall of communism, 1989–1993.',\n",
              " 'Since then Polish–Russian relations have at times seen both improvement and deterioration.',\n",
              " 'The relationship was generally warm under the Russian President Boris Yeltsin (1991–99) until the NATO bombing of the Federal Republic of Yugoslavia in the spring of 1999, and has since deteriorated significantly.',\n",
              " 'Relations between the neighboring countries of Iran and the United Arab Emirates (UAE) are deeply historic, dating back centuries prior to the establishment of the modern-day United Arab Emirates; however today it has been described as up-and-down.']"
            ]
          },
          "metadata": {
            "tags": []
          },
          "execution_count": 33
        }
      ]
    },
    {
      "cell_type": "code",
      "metadata": {
        "id": "HYKIiHf7t-_z",
        "colab_type": "code",
        "colab": {}
      },
      "source": [
        "sent_ld_df = sent_ld_all_df[sent_ld_all_df['Label'] != 2].reset_index(drop=True)"
      ],
      "execution_count": 0,
      "outputs": []
    },
    {
      "cell_type": "markdown",
      "metadata": {
        "id": "MsfsU2tiOevY",
        "colab_type": "text"
      },
      "source": [
        "# Generating training and development datasets"
      ]
    },
    {
      "cell_type": "markdown",
      "metadata": {
        "id": "zcskn_QaZX4J",
        "colab_type": "text"
      },
      "source": [
        "![](my_icons/geopolitical_mapper/tune_hyperparameters.JPG)"
      ]
    },
    {
      "cell_type": "markdown",
      "metadata": {
        "id": "lvLzshbS-skj",
        "colab_type": "text"
      },
      "source": [
        "To tune our hyperparameters and prevent over/underfitting, we will need to generate a development (validation) dataset."
      ]
    },
    {
      "cell_type": "markdown",
      "metadata": {
        "id": "9v5-CZwg8LmQ",
        "colab_type": "text"
      },
      "source": [
        "While splitting the data, there is a need for us to **split by country pairs to prevent any leakage in information** about the countries' relations leaking from the training to development set."
      ]
    },
    {
      "cell_type": "code",
      "metadata": {
        "id": "-ZKky3Ka6OsX",
        "colab_type": "code",
        "colab": {}
      },
      "source": [
        "country_pairs = sent_ld_df['Country_Pair'].unique()\n",
        "country_pairs_to_num = {v:i for i,v in enumerate(country_pairs)}\n",
        "\n",
        "sent_ld_df['Group'] = sent_ld_df['Country_Pair'].map(country_pairs_to_num)\n",
        "\n",
        "idx = np.array(sent_ld_df.index.tolist())\n",
        "groupings = np.array(sent_ld_df['Group'].tolist())\n",
        "\n",
        "gss = GroupShuffleSplit(n_splits=1, test_size=0.2, random_state=42)\n",
        "\n",
        "for idx_1, idx_2 in gss.split(idx, groups=groupings):\n",
        "  train_idx = idx_1\n",
        "  dev_idx = idx_2"
      ],
      "execution_count": 0,
      "outputs": []
    },
    {
      "cell_type": "markdown",
      "metadata": {
        "id": "7cjkNOxWBuNp",
        "colab_type": "text"
      },
      "source": [
        "Let's save the training and development datasets into tsv files."
      ]
    },
    {
      "cell_type": "code",
      "metadata": {
        "id": "pbXIob9-A_AH",
        "colab_type": "code",
        "colab": {}
      },
      "source": [
        "train_data_df = sent_ld_df[['Summary_Sentence', 'Label']].loc[train_idx]\n",
        "dev_data_df = sent_ld_df[['Summary_Sentence', 'Label']].loc[dev_idx]\n",
        "\n",
        "train_data_df.to_csv('./data/Wiki/train.tsv', float_format='%.0f', \\\n",
        "                     encoding='utf-8', header=False, index=False, sep='\\t')\n",
        "\n",
        "dev_data_df.to_csv('./data/Wiki/dev.tsv', float_format='%.0f', \\\n",
        "                   encoding='utf-8', header=False, index=False, sep='\\t')"
      ],
      "execution_count": 0,
      "outputs": []
    },
    {
      "cell_type": "markdown",
      "metadata": {
        "id": "r0IxLUArxc_s",
        "colab_type": "text"
      },
      "source": [
        "# Finetuning ALBERT... Finally!\n",
        "\n",
        "It is true when people say that in the field of Data Science, you spend most of the time analyzing and cleaning the data. We probably spent half of the blog post preparing the data for this section. \n",
        "\n",
        "Now it is time for the exciting bit! **We will create an `Albert` class that we will use to generate our sentiments.** There are a couple of **helper functions** that `Albert` will be using. Most of the helper functions are adapted from the [Huggingface github page](https://github.com/huggingface/transformers). If there any tips on how I can do this better, do drop me an email!\n",
        "\n",
        "The helper functions `_create_examples`, `_convert_examples_to_features`, `_read_tsv`, `create_dataset` are primarily used to **convert our training and development datasets into a format** that can be ingested by the Huggingface's model. Do check out this [Huggingface github page](https://github.com/huggingface/transformers/blob/master/src/transformers/data/processors/utils.py) if you are interested in understanding the InputExample and InputFeatures data types.\n",
        "\n",
        "`_plot_cost_history` will be used to **plot the training and development loss/accuracies** to see how how our model is performing."
      ]
    },
    {
      "cell_type": "code",
      "metadata": {
        "id": "C1UTEdyqfubp",
        "colab_type": "code",
        "colab": {}
      },
      "source": [
        "def _create_examples(lines, set_type, col_num_text, col_num_label):\n",
        "    \"\"\"\n",
        "    Helper function for Albert's preprocess_str method.\n",
        "    Create examples for the training and dev sets\n",
        "\n",
        "    args:\n",
        "    ------\n",
        "        lines: (list) contains the guid, text to be labeled, and the label \n",
        "        set_type: (str) denotes whether the lines are training or dev data\n",
        "                  eg. \"train\", \"dev\"\n",
        "    Return:\n",
        "    ------\n",
        "        examples: (list) contains training/dev examples (InputExample object)\n",
        "                        for sequence classification\n",
        "    \"\"\"\n",
        "\n",
        "    examples = []\n",
        "    for (i, line) in enumerate(lines):\n",
        "        if i == 0:\n",
        "          pass\n",
        "        else:\n",
        "          guid = \"%s-%s\" % (set_type, i)\n",
        "          text_a = line[col_num_text] # To check if this is index 0\n",
        "          label = line[col_num_label]\n",
        "          examples.append(utils.InputExample(guid=guid, text_a=text_a, \\\n",
        "                                             text_b=None, label=label))\n",
        "        \n",
        "    return examples"
      ],
      "execution_count": 0,
      "outputs": []
    },
    {
      "cell_type": "code",
      "metadata": {
        "id": "KxXotqlIf3Z8",
        "colab_type": "code",
        "colab": {}
      },
      "source": [
        "def _convert_examples_to_features(examples, tokenizer, max_length, task):\n",
        "    \"\"\"\n",
        "    Helper function for Albert's preprocess_str method.\n",
        "    Convert data from examples to features\n",
        "\n",
        "    args:\n",
        "    ------\n",
        "        examples: (list) contains training/dev examples ``InputExample``\n",
        "                  for sequence classification\n",
        "    Return:\n",
        "    ------\n",
        "        features: (list) contains task-specific ``InputFeatures``\n",
        "                  which can be fed to the Albert model.\n",
        "\n",
        "    \"\"\"\n",
        "\n",
        "    label_list = [\"0\",\"1\"]\n",
        "    features = glue_convert_examples_to_features(examples=examples, \\\n",
        "                                                label_list=label_list, \\\n",
        "                                                tokenizer=tokenizer, \\\n",
        "                                                max_length=max_length, task=task)\n",
        "    \n",
        "    return features"
      ],
      "execution_count": 0,
      "outputs": []
    },
    {
      "cell_type": "code",
      "metadata": {
        "id": "NjLY8afUf6Vx",
        "colab_type": "code",
        "colab": {}
      },
      "source": [
        "def _read_tsv(file_path):\n",
        "    \"\"\"\n",
        "    Helper function for Albert's preprocess_str method.\n",
        "    Reads a tab separated value file.\n",
        "\n",
        "    args:\n",
        "    ------\n",
        "        file_path: (str) path leading to the tab separated tsv file\n",
        "    Return:\n",
        "    ------\n",
        "        list with each element representing a row in the tsv file\n",
        "    \"\"\"\n",
        "\n",
        "    with open(file_path, \"r\", encoding=\"utf-8-sig\") as f:\n",
        "        return list(csv.reader(f, delimiter=\"\\t\"))"
      ],
      "execution_count": 0,
      "outputs": []
    },
    {
      "cell_type": "code",
      "metadata": {
        "id": "Ts_QZoEVf-MQ",
        "colab_type": "code",
        "colab": {}
      },
      "source": [
        "def _create_dataset(features, buffer_size, batch_size):\n",
        "    \"\"\"\n",
        "    Helper function for Albert's preprocess_str method.\n",
        "    Convert features into ``tf.data.Dataset``.\n",
        "\n",
        "    args:\n",
        "    ------\n",
        "        features: (list) contains task-specific ``InputFeatures`` which can be\n",
        "                  fed to the model.\n",
        "        buffer_size: (int) representing the number of elements from this dataset\n",
        "                    which the new dataset will sample from\n",
        "        batch_size: (int) size of each batch generated from the dataset\n",
        "    Return:\n",
        "    ------\n",
        "        A ``tf.data.Dataset`` containining task specific features\n",
        "    \"\"\"\n",
        "\n",
        "    data_size = len(features)\n",
        "\n",
        "    def gen():\n",
        "        for ex in features:\n",
        "            yield (\n",
        "                {\n",
        "                    \"input_ids\": ex.input_ids,\n",
        "                    \"attention_mask\": ex.attention_mask,\n",
        "                    \"token_type_ids\": ex.token_type_ids,\n",
        "                },\n",
        "                ex.label,\n",
        "            )\n",
        "\n",
        "    train_dataset = tf.data.Dataset.from_generator(\n",
        "        gen,\n",
        "        ({\"input_ids\": tf.int32, \"attention_mask\": tf.int32, \"token_type_ids\": tf.int32}, tf.int64),\n",
        "        (\n",
        "            {\n",
        "                \"input_ids\": tf.TensorShape([None]),\n",
        "                \"attention_mask\": tf.TensorShape([None]),\n",
        "                \"token_type_ids\": tf.TensorShape([None]),\n",
        "            },\n",
        "            tf.TensorShape([]),\n",
        "        ),\n",
        "    )\n",
        "\n",
        "    return train_dataset.shuffle(buffer_size).batch(batch_size).repeat(-1)"
      ],
      "execution_count": 0,
      "outputs": []
    },
    {
      "cell_type": "code",
      "metadata": {
        "id": "spmC4y7ZgGQ2",
        "colab_type": "code",
        "colab": {}
      },
      "source": [
        "def _plot_cost_history(history):\n",
        "    \"\"\"\n",
        "    Helper function for Albert's fintune method.\n",
        "    Plots a line graph illustrating the loss for each epoch.\n",
        "\n",
        "    args:\n",
        "    ------\n",
        "        history: (tf history object) contains the loss parameters to be charted\n",
        "        epochs: (int) number of epochs. Used as the x-axis of the graph\n",
        "    Return:\n",
        "    ------\n",
        "        A ``tf.data.Dataset`` containining task specific features\n",
        "    \"\"\"\n",
        "\n",
        "    # Get number of epochs\n",
        "    n_epochs = len(history.history['accuracy'])\n",
        "\n",
        "    # Top plot\n",
        "    plt.subplot(2,1,1)\n",
        "    plt.title('Accuracy/Loss')\n",
        "    plt.plot(history.history['accuracy'])\n",
        "    plt.plot(history.history['val_accuracy'])\n",
        "    plt.ylabel('Accuracy')\n",
        "    plt.xticks(np.arange(n_epochs))\n",
        "\n",
        "    # Bottom plot\n",
        "    plt.subplot(2,1,2)\n",
        "    plt.plot(history.history['loss'])\n",
        "    plt.plot(history.history['val_loss'])\n",
        "    plt.ylabel('Loss')\n",
        "    plt.tight_layout()\n",
        "\n",
        "    # Get number of epochs\n",
        "    n_epochs = len(history.history['accuracy'])\n",
        "    plt.xticks(np.arange(n_epochs))\n",
        "\n",
        "    plt.legend(['train', 'val'], loc='upper left')\n",
        "    plt.savefig('train_val.png')"
      ],
      "execution_count": 0,
      "outputs": []
    },
    {
      "cell_type": "code",
      "metadata": {
        "id": "Cm87oBC4ZP9E",
        "colab_type": "code",
        "colab": {}
      },
      "source": [
        "class Albert:\n",
        "    def __init__(self, **kwargs):\n",
        "\n",
        "        for key, value in kwargs.items():\n",
        "          setattr(self, key, value)\n",
        "\n",
        "        albert4Seq = TFAlbertForSequenceClassification.from_pretrained(self.albert_config, output_attentions=True)\n",
        "        optimizer = tf.keras.optimizers.Adam(learning_rate=self.lr)\n",
        "        loss = tf.keras.losses.SparseCategoricalCrossentropy(from_logits=True)\n",
        "        metric = tf.keras.metrics.SparseCategoricalAccuracy('accuracy')\n",
        "\n",
        "        albert4Seq.compile(optimizer=optimizer, loss=loss, metrics=[metric])\n",
        "\n",
        "        if self.load_weights_path:\n",
        "          albert4Seq.load_weights(self.load_weights_path)\n",
        "          albert4Seq.optimizer.lr.assign(self.lr)\n",
        "        \n",
        "        self.embed = albert4Seq\n",
        "        self.tokenizer = AlbertTokenizer.from_pretrained(self.albert_config)\n",
        "\n",
        "        print('model initiated!') \n",
        "\n",
        "    def preprocess_str(self, train_data_path, dev_data_path):\n",
        "        \"\"\"\n",
        "        Reads and converts training and dev data from a .tsv file into a\n",
        "        tensorflow dataset\n",
        "\n",
        "        args:\n",
        "        ------\n",
        "            train_data_path: (str) path leading to the training .tsv file\n",
        "            dev_data_path: (int) path leading to the dev .tsv file\n",
        "        Return:\n",
        "        ------\n",
        "            train_dataset: (tf.data.Dataset) containining task specific training\n",
        "                          features\n",
        "            dev_dataset: (tf.data.Dataset) containining task specific dev features\n",
        "            train_size: (int) number of training data\n",
        "            dev_size: (int) number of dev data\n",
        "        \"\"\"\n",
        "\n",
        "        train_raw = _read_tsv(train_data_path)\n",
        "        dev_raw = _read_tsv(dev_data_path)\n",
        "\n",
        "        train_size = len(train_raw)\n",
        "        dev_size = len(dev_raw)\n",
        "\n",
        "        train_examples = _create_examples(train_raw,\n",
        "                                          \"train\",\n",
        "                                          self.col_num_text_a,\n",
        "                                          self.col_num_label)\n",
        "        \n",
        "        dev_examples = _create_examples(dev_raw,\n",
        "                                        \"dev\",\n",
        "                                        self.col_num_text_a,\n",
        "                                        self.col_num_label)\n",
        "        \n",
        "        train_features = _convert_examples_to_features(train_examples,\n",
        "                                                        self.tokenizer,\n",
        "                                                        self.max_seq_length,\n",
        "                                                        self.task)\n",
        "        \n",
        "        dev_features = _convert_examples_to_features(dev_examples,\n",
        "                                                      self.tokenizer,\n",
        "                                                      self.max_seq_length,\n",
        "                                                      self.task)\n",
        "        \n",
        "        train_dataset = _create_dataset(train_features,\n",
        "                                        self.buffer_size,\n",
        "                                        self.batch_size)\n",
        "        \n",
        "        dev_dataset = _create_dataset(dev_features,\n",
        "                                      self.buffer_size,\n",
        "                                      self.batch_size)\n",
        "        \n",
        "        return train_dataset, dev_dataset, train_size, dev_size\n",
        "\n",
        "    def finetune(self):\n",
        "        \"\"\"\n",
        "        Finetunes the Albert model\n",
        "        \"\"\"\n",
        "\n",
        "        train_dataset, dev_dataset, self.train_size, \\\n",
        "        self.dev_size = self.preprocess_str(train_data_path=self.train_data_path,\n",
        "                                            dev_data_path=self.dev_data_path)\n",
        "        \n",
        "        print('dataset loaded!')\n",
        "\n",
        "        # Callbacks\n",
        "        reduce_lr = ReduceLROnPlateau(monitor='val_loss',\n",
        "                                      factor=self.reduce_lr_factor,\n",
        "                                      patience=self.lr_patience,\n",
        "                                      min_lr=self.min_lr)\n",
        "\n",
        "        checkpoint = ModelCheckpoint(self.checkpoint_save_path,\n",
        "                                      monitor='val_loss',\n",
        "                                      verbose=1,\n",
        "                                      save_best_only=True,\n",
        "                                      mode='min')\n",
        "\n",
        "        early_stop =  EarlyStopping(monitor='val_loss',\n",
        "                                    patience=self.early_stop_patience,\n",
        "                                    restore_best_weights=True)\n",
        "\n",
        "        # Model\n",
        "        epochs = self.num_epochs\n",
        "        train_steps = self.train_size // self.batch_size\n",
        "        valid_steps = self.dev_size // self.batch_size\n",
        "\n",
        "        albert_history = self.embed.fit(train_dataset, \n",
        "                                        epochs=epochs, \n",
        "                                        steps_per_epoch=train_steps,\n",
        "                                        validation_data=dev_dataset,\n",
        "                                        validation_steps=valid_steps,\n",
        "                                        callbacks=[reduce_lr,\n",
        "                                                  checkpoint,\n",
        "                                                  early_stop])\n",
        "\n",
        "        # Plot loss\n",
        "        _plot_cost_history(albert_history)\n",
        "\n",
        "    def export(self, file_path=''):\n",
        "        \"\"\"\n",
        "        Export finetuned model\n",
        "\n",
        "        args:\n",
        "        ------\n",
        "            file_path: (str) path leading to the directory to save the \n",
        "                      finetuned model\n",
        "        \"\"\"\n",
        "\n",
        "        self.embed.save_weights(file_path)\n",
        "\n",
        "    def restore(self, file_path=''):\n",
        "        \"\"\"\n",
        "        Restore Albert model with finetuned model\n",
        "\n",
        "        args:\n",
        "        ------\n",
        "            file_path: (str) path leading to the directory with finetuned model\n",
        "        \"\"\"\n",
        "\n",
        "        try:\n",
        "            self.embed.load_weights(file_path)\n",
        "        except Exception as e:\n",
        "            print(str(e))"
      ],
      "execution_count": 0,
      "outputs": []
    },
    {
      "cell_type": "markdown",
      "metadata": {
        "id": "LDqF_kNgEmms",
        "colab_type": "text"
      },
      "source": [
        "## Finetuning on SQUAD SST-2 Task"
      ]
    },
    {
      "cell_type": "markdown",
      "metadata": {
        "id": "UQscVE2RaluC",
        "colab_type": "text"
      },
      "source": [
        "![](my_icons/geopolitical_mapper/transfer_learning.JPG)"
      ]
    },
    {
      "cell_type": "markdown",
      "metadata": {
        "id": "ou9EYIFNwUVc",
        "colab_type": "text"
      },
      "source": [
        "Huggingface offers pretrained models that need to be finetuned with your own use case. At this point, the Huggingface ALBERT model is not capable of differentiating between positive and negative sentiments. For ALBERT to learn how to differentiate the two types of sentiment, we will need to first **finetune `Albert` using SQUAD's SST-2 dataset**. The SST-2 dataset contains sentences from **movie reviews** and human annotations of their sentiments. Here are two examples adapted from the dataset:\n",
        "\n",
        "* Negative sentiment -  \"contains no wit , only labored gags\"\n",
        "\n",
        "* Positive sentiment - \"are more deeply thought through than in most right-thinking films\"\n",
        "\n",
        "Once, we have trained a model capable of differentiating negative and sentiments by analyzing movie reviews, we will **implement transfer learning to further finetune the model with our own Wikipedia summary dataset**.\n",
        "\n"
      ]
    },
    {
      "cell_type": "markdown",
      "metadata": {
        "id": "tl_b_sHiIekC",
        "colab_type": "text"
      },
      "source": [
        "To download the SST-2 dataset, we will use Huggingface's `download_and_extract`. You can use the same function to download other SQUAD related datasets that you would like to finetune on."
      ]
    },
    {
      "cell_type": "code",
      "metadata": {
        "id": "6S-6aaMiF6UX",
        "colab_type": "code",
        "outputId": "4a2c2ce8-07fa-419d-aa87-c40877f361ac",
        "colab": {
          "base_uri": "https://localhost:8080/",
          "height": 51
        }
      },
      "source": [
        "TASKS = [\"CoLA\", \"SST\", \"MRPC\", \"QQP\", \"STS\", \"MNLI\", \"SNLI\", \"QNLI\", \"RTE\", \"WNLI\", \"diagnostic\"]\n",
        "TASK2PATH = {\"CoLA\":'https://firebasestorage.googleapis.com/v0/b/mtl-sentence-representations.appspot.com/o/data%2FCoLA.zip?alt=media&token=46d5e637-3411-4188-bc44-5809b5bfb5f4',\n",
        "             \"SST\":'https://firebasestorage.googleapis.com/v0/b/mtl-sentence-representations.appspot.com/o/data%2FSST-2.zip?alt=media&token=aabc5f6b-e466-44a2-b9b4-cf6337f84ac8',\n",
        "             \"MRPC\":'https://firebasestorage.googleapis.com/v0/b/mtl-sentence-representations.appspot.com/o/data%2Fmrpc_dev_ids.tsv?alt=media&token=ec5c0836-31d5-48f4-b431-7480817f1adc',\n",
        "             \"QQP\":'https://firebasestorage.googleapis.com/v0/b/mtl-sentence-representations.appspot.com/o/data%2FQQP.zip?alt=media&token=700c6acf-160d-4d89-81d1-de4191d02cb5',\n",
        "             \"STS\":'https://firebasestorage.googleapis.com/v0/b/mtl-sentence-representations.appspot.com/o/data%2FSTS-B.zip?alt=media&token=bddb94a7-8706-4e0d-a694-1109e12273b5',\n",
        "             \"MNLI\":'https://firebasestorage.googleapis.com/v0/b/mtl-sentence-representations.appspot.com/o/data%2FMNLI.zip?alt=media&token=50329ea1-e339-40e2-809c-10c40afff3ce',\n",
        "             \"SNLI\":'https://firebasestorage.googleapis.com/v0/b/mtl-sentence-representations.appspot.com/o/data%2FSNLI.zip?alt=media&token=4afcfbb2-ff0c-4b2d-a09a-dbf07926f4df',\n",
        "             \"QNLI\": 'https://firebasestorage.googleapis.com/v0/b/mtl-sentence-representations.appspot.com/o/data%2FQNLIv2.zip?alt=media&token=6fdcf570-0fc5-4631-8456-9505272d1601',\n",
        "             \"RTE\":'https://firebasestorage.googleapis.com/v0/b/mtl-sentence-representations.appspot.com/o/data%2FRTE.zip?alt=media&token=5efa7e85-a0bb-4f19-8ea2-9e1840f077fb',\n",
        "             \"WNLI\":'https://firebasestorage.googleapis.com/v0/b/mtl-sentence-representations.appspot.com/o/data%2FWNLI.zip?alt=media&token=068ad0a0-ded7-4bd7-99a5-5e00222e0faf',\n",
        "             \"diagnostic\":'https://storage.googleapis.com/mtl-sentence-representations.appspot.com/tsvsWithoutLabels%2FAX.tsv?GoogleAccessId=firebase-adminsdk-0khhl@mtl-sentence-representations.iam.gserviceaccount.com&Expires=2498860800&Signature=DuQ2CSPt2Yfre0C%2BiISrVYrIFaZH1Lc7hBVZDD4ZyR7fZYOMNOUGpi8QxBmTNOrNPjR3z1cggo7WXFfrgECP6FBJSsURv8Ybrue8Ypt%2FTPxbuJ0Xc2FhDi%2BarnecCBFO77RSbfuz%2Bs95hRrYhTnByqu3U%2FYZPaj3tZt5QdfpH2IUROY8LiBXoXS46LE%2FgOQc%2FKN%2BA9SoscRDYsnxHfG0IjXGwHN%2Bf88q6hOmAxeNPx6moDulUF6XMUAaXCSFU%2BnRO2RDL9CapWxj%2BDl7syNyHhB7987hZ80B%2FwFkQ3MEs8auvt5XW1%2Bd4aCU7ytgM69r8JDCwibfhZxpaa4gd50QXQ%3D%3D'}\n",
        "\n",
        "\n",
        "def download_and_extract(task, file_path):\n",
        "    \"\"\"\n",
        "    Used to download SQUAD dataset for training.\n",
        "    Credits to Huggingface\n",
        "\n",
        "    args:\n",
        "    ------\n",
        "        task: (str) SQUAD task of interest\n",
        "        file_path: (str) path to save the dataset in\n",
        "    \"\"\"\n",
        "\n",
        "    print(\"Downloading and extracting %s...\" % task)\n",
        "    data_file = \"%s.zip\" % task\n",
        "    urllib.request.urlretrieve(TASK2PATH[task], data_file)\n",
        "    with zipfile.ZipFile(data_file) as zip_ref:\n",
        "        zip_ref.extractall(file_path)\n",
        "    os.remove(data_file)\n",
        "    print(\"\\tCompleted!\")\n",
        "\n",
        "\n",
        "  download_and_extract(\"SST\", './data/')"
      ],
      "execution_count": 0,
      "outputs": [
        {
          "output_type": "stream",
          "text": [
            "Downloading and extracting SST...\n",
            "\tCompleted!\n"
          ],
          "name": "stdout"
        }
      ]
    },
    {
      "cell_type": "markdown",
      "metadata": {
        "id": "Ssa-kPiGF5b-",
        "colab_type": "text"
      },
      "source": [
        "The **data files and hyperparameters** needed to finetune `Albert` on the **SQUAD SST-2 task and our wikipedia summaries are different**. To easily facilitate the different training requirements, we will wrap the data paths and parameters in a **`config` dictionary**. Which will be **used to instantiate** `Albert` before finetuning begins.\n",
        "\n",
        "The config to finetune on SQUAD:"
      ]
    },
    {
      "cell_type": "code",
      "metadata": {
        "id": "YW8uFsGpZ_J7",
        "colab_type": "code",
        "colab": {}
      },
      "source": [
        "config_squad = {\n",
        "    \"albert_config\": \"albert-base-v2\",\n",
        "    \"task\": \"sst-2\",\n",
        "    \"max_seq_length\": 128,\n",
        "    \"buffer_size\": 128,\n",
        "    \"batch_size\": 36,\n",
        "    \"test_size\": 0.3,\n",
        "    \"random_state\": 42,\n",
        "    \"load_weights_path\": \"\",\n",
        "    \"lr\": 5e-6,\n",
        "    \"reduce_lr_factor\": 0.1,\n",
        "    \"lr_patience\": 1,\n",
        "    \"early_stop_patience\": 3,\n",
        "    \"num_epochs\": 10,\n",
        "    \"min_lr\": 5e-9,\n",
        "    \"train_data_path\": \"./data/SST-2/train.tsv\",\n",
        "    \"dev_data_path\": \"./data/SST-2/dev.tsv\",\n",
        "    \"col_num_text_a\": 0,\n",
        "    \"col_num_label\": 1,\n",
        "    \"checkpoint_save_path\": \"./model/squad-weights-improvement-{epoch:02d}.ckpt\"\n",
        "}"
      ],
      "execution_count": 0,
      "outputs": []
    },
    {
      "cell_type": "markdown",
      "metadata": {
        "id": "vj7oNrcVKURk",
        "colab_type": "text"
      },
      "source": [
        "The finetuning logs can be seen below. The **fourth epoch** seems to be our best run with the lowest `val_loss` (0.4706)."
      ]
    },
    {
      "cell_type": "code",
      "metadata": {
        "id": "nkKVb-12E10E",
        "colab_type": "code",
        "outputId": "d1826d64-d715-486c-cdb7-13c9593bb150",
        "colab": {
          "base_uri": "https://localhost:8080/",
          "height": 838
        }
      },
      "source": [
        "# albert_squad = Albert(**config_squad)\n",
        "\n",
        "# albert_squad.finetune()"
      ],
      "execution_count": 0,
      "outputs": [
        {
          "output_type": "stream",
          "text": [
            "model initiated!\n",
            "dataset loaded!\n",
            "Train for 1870 steps, validate for 24 steps\n",
            "Epoch 1/10\n",
            "1869/1870 [============================>.] - ETA: 0s - loss: 0.5781 - accuracy: 0.6841\n",
            "Epoch 00001: val_loss improved from inf to 0.55461, saving model to ./model/squad-weights-improvement-01.ckpt\n",
            "1870/1870 [==============================] - 1013s 542ms/step - loss: 0.5780 - accuracy: 0.6841 - val_loss: 0.5546 - val_accuracy: 0.7222\n",
            "Epoch 2/10\n",
            "1869/1870 [============================>.] - ETA: 0s - loss: 0.4043 - accuracy: 0.8158\n",
            "Epoch 00002: val_loss improved from 0.55461 to 0.52056, saving model to ./model/squad-weights-improvement-02.ckpt\n",
            "1870/1870 [==============================] - 989s 529ms/step - loss: 0.4043 - accuracy: 0.8158 - val_loss: 0.5206 - val_accuracy: 0.7708\n",
            "Epoch 3/10\n",
            "1869/1870 [============================>.] - ETA: 0s - loss: 0.3226 - accuracy: 0.8628\n",
            "Epoch 00003: val_loss did not improve from 0.52056\n",
            "1870/1870 [==============================] - 990s 530ms/step - loss: 0.3226 - accuracy: 0.8628 - val_loss: 0.5379 - val_accuracy: 0.7801\n",
            "Epoch 4/10\n",
            "1869/1870 [============================>.] - ETA: 0s - loss: 0.2661 - accuracy: 0.8911\n",
            "Epoch 00004: val_loss improved from 0.52056 to 0.47058, saving model to ./model/squad-weights-improvement-04.ckpt\n",
            "1870/1870 [==============================] - 990s 529ms/step - loss: 0.2662 - accuracy: 0.8911 - val_loss: 0.4706 - val_accuracy: 0.8032\n",
            "Epoch 5/10\n",
            "1869/1870 [============================>.] - ETA: 0s - loss: 0.2596 - accuracy: 0.8944\n",
            "Epoch 00005: val_loss did not improve from 0.47058\n",
            "1870/1870 [==============================] - 989s 529ms/step - loss: 0.2596 - accuracy: 0.8944 - val_loss: 0.4746 - val_accuracy: 0.8021\n",
            "Epoch 6/10\n",
            "1869/1870 [============================>.] - ETA: 0s - loss: 0.2532 - accuracy: 0.8974\n",
            "Epoch 00006: val_loss did not improve from 0.47058\n",
            "1870/1870 [==============================] - 989s 529ms/step - loss: 0.2533 - accuracy: 0.8973 - val_loss: 0.4724 - val_accuracy: 0.8067\n",
            "Epoch 7/10\n",
            "1869/1870 [============================>.] - ETA: 0s - loss: 0.2526 - accuracy: 0.8976\n",
            "Epoch 00007: val_loss did not improve from 0.47058\n",
            "1870/1870 [==============================] - 989s 529ms/step - loss: 0.2526 - accuracy: 0.8976 - val_loss: 0.4764 - val_accuracy: 0.8044\n"
          ],
          "name": "stdout"
        },
        {
          "output_type": "display_data",
          "data": {
            "image/png": "[encoded data removed]",
            "text/plain": [
              "<Figure size 432x288 with 2 Axes>"
            ]
          },
          "metadata": {
            "tags": []
          }
        }
      ]
    },
    {
      "cell_type": "markdown",
      "metadata": {
        "id": "Gxbbxrm8Z_fd",
        "colab_type": "text"
      },
      "source": [
        "## Finetune using our labeled dataset\n",
        "\n",
        "Ok we have finetuned `Albert` to pick out the positive and negative sentiments movie reviews. Finally, we will finetune `Albert` for our use case using the following configurations. The **eighth epoch** gave the best run with the lowest loss (0.4546)."
      ]
    },
    {
      "cell_type": "code",
      "metadata": {
        "id": "qmMkUKPlaEUQ",
        "colab_type": "code",
        "colab": {}
      },
      "source": [
        "config_summaries = {\n",
        "    \"albert_config\": \"albert-base-v2\",\n",
        "    \"task\": \"sst-2\",\n",
        "    \"max_seq_length\": 128,\n",
        "    \"buffer_size\": 128,\n",
        "    \"batch_size\": 36,\n",
        "    \"test_size\": 0.3,\n",
        "    \"random_state\": 42,\n",
        "    \"load_weights_path\": \"./model/squad-weights-improvement-04.ckpt\",\n",
        "    \"lr\": 5e-5,\n",
        "    \"reduce_lr_factor\": 0.1,\n",
        "    \"lr_patience\": 2,\n",
        "    \"early_stop_patience\": 5,\n",
        "    \"num_epochs\": 20,\n",
        "    \"min_lr\": 5e-9,\n",
        "    \"train_data_path\": \"./data/Wiki/train.tsv\",\n",
        "    \"dev_data_path\": \"./data/Wiki/dev.tsv\",\n",
        "    \"col_num_text_a\": 0,\n",
        "    \"col_num_label\": 1,\n",
        "    \"checkpoint_save_path\": \"./model/summary-weights-improvement-{epoch:02d}.ckpt\"\n",
        "}"
      ],
      "execution_count": 0,
      "outputs": []
    },
    {
      "cell_type": "code",
      "metadata": {
        "id": "POcr9TPN-dZc",
        "colab_type": "code",
        "outputId": "9c0638b0-8f16-4e77-99a8-2dcda5f7ed50",
        "colab": {
          "base_uri": "https://localhost:8080/",
          "height": 1000
        }
      },
      "source": [
        "# albert_summaries = Albert(**config_summaries)\n",
        "\n",
        "# albert_summaries.finetune()"
      ],
      "execution_count": 0,
      "outputs": [
        {
          "output_type": "stream",
          "text": [
            "model initiated!\n",
            "dataset loaded!\n",
            "Train for 10 steps, validate for 3 steps\n",
            "Epoch 1/20\n",
            " 9/10 [==========================>...] - ETA: 2s - loss: 0.6752 - accuracy: 0.7068\n",
            "Epoch 00001: val_loss improved from inf to 0.70040, saving model to ./model/summary-weights-improvement-01.ckpt\n",
            "10/10 [==============================] - 30s 3s/step - loss: 0.6479 - accuracy: 0.7306 - val_loss: 0.7004 - val_accuracy: 0.6204\n",
            "Epoch 2/20\n",
            " 9/10 [==========================>...] - ETA: 0s - loss: 0.5817 - accuracy: 0.7081\n",
            "Epoch 00002: val_loss improved from 0.70040 to 0.57846, saving model to ./model/summary-weights-improvement-02.ckpt\n",
            "10/10 [==============================] - 7s 661ms/step - loss: 0.5813 - accuracy: 0.7095 - val_loss: 0.5785 - val_accuracy: 0.7778\n",
            "Epoch 3/20\n",
            " 9/10 [==========================>...] - ETA: 0s - loss: 0.3281 - accuracy: 0.8975\n",
            "Epoch 00003: val_loss did not improve from 0.57846\n",
            "10/10 [==============================] - 6s 600ms/step - loss: 0.3277 - accuracy: 0.8883 - val_loss: 0.9524 - val_accuracy: 0.6574\n",
            "Epoch 4/20\n",
            " 9/10 [==========================>...] - ETA: 0s - loss: 0.2239 - accuracy: 0.9317\n",
            "Epoch 00004: val_loss did not improve from 0.57846\n",
            "10/10 [==============================] - 6s 607ms/step - loss: 0.2173 - accuracy: 0.9330 - val_loss: 0.5976 - val_accuracy: 0.7593\n",
            "Epoch 5/20\n",
            " 9/10 [==========================>...] - ETA: 0s - loss: 0.0883 - accuracy: 0.9720\n",
            "Epoch 00005: val_loss improved from 0.57846 to 0.54417, saving model to ./model/summary-weights-improvement-05.ckpt\n",
            "10/10 [==============================] - 7s 652ms/step - loss: 0.0857 - accuracy: 0.9749 - val_loss: 0.5442 - val_accuracy: 0.8056\n",
            "Epoch 6/20\n",
            " 9/10 [==========================>...] - ETA: 0s - loss: 0.0800 - accuracy: 0.9752\n",
            "Epoch 00006: val_loss improved from 0.54417 to 0.49869, saving model to ./model/summary-weights-improvement-06.ckpt\n",
            "10/10 [==============================] - 7s 693ms/step - loss: 0.0787 - accuracy: 0.9749 - val_loss: 0.4987 - val_accuracy: 0.7963\n",
            "Epoch 7/20\n",
            " 9/10 [==========================>...] - ETA: 0s - loss: 0.0740 - accuracy: 0.9814\n",
            "Epoch 00007: val_loss did not improve from 0.49869\n",
            "10/10 [==============================] - 6s 604ms/step - loss: 0.0701 - accuracy: 0.9832 - val_loss: 0.5500 - val_accuracy: 0.7593\n",
            "Epoch 8/20\n",
            " 9/10 [==========================>...] - ETA: 0s - loss: 0.0639 - accuracy: 0.9783\n",
            "Epoch 00008: val_loss improved from 0.49869 to 0.45457, saving model to ./model/summary-weights-improvement-08.ckpt\n",
            "10/10 [==============================] - 7s 678ms/step - loss: 0.0592 - accuracy: 0.9804 - val_loss: 0.4546 - val_accuracy: 0.8148\n",
            "Epoch 9/20\n",
            " 9/10 [==========================>...] - ETA: 0s - loss: 0.0410 - accuracy: 0.9876\n",
            "Epoch 00009: val_loss did not improve from 0.45457\n",
            "10/10 [==============================] - 6s 599ms/step - loss: 0.0380 - accuracy: 0.9888 - val_loss: 0.5704 - val_accuracy: 0.7778\n",
            "Epoch 10/20\n",
            " 9/10 [==========================>...] - ETA: 0s - loss: 0.0323 - accuracy: 0.9876\n",
            "Epoch 00010: val_loss did not improve from 0.45457\n",
            "10/10 [==============================] - 6s 599ms/step - loss: 0.0301 - accuracy: 0.9888 - val_loss: 0.5205 - val_accuracy: 0.8056\n",
            "Epoch 11/20\n",
            " 9/10 [==========================>...] - ETA: 0s - loss: 0.0259 - accuracy: 0.9907\n",
            "Epoch 00011: val_loss did not improve from 0.45457\n",
            "10/10 [==============================] - 6s 588ms/step - loss: 0.0248 - accuracy: 0.9916 - val_loss: 0.5801 - val_accuracy: 0.7778\n",
            "Epoch 12/20\n",
            " 9/10 [==========================>...] - ETA: 0s - loss: 0.0183 - accuracy: 0.9969\n",
            "Epoch 00012: val_loss did not improve from 0.45457\n",
            "10/10 [==============================] - 6s 597ms/step - loss: 0.0235 - accuracy: 0.9917 - val_loss: 0.5456 - val_accuracy: 0.7870\n",
            "Epoch 13/20\n",
            " 9/10 [==========================>...] - ETA: 0s - loss: 0.0170 - accuracy: 0.9969\n",
            "Epoch 00013: val_loss did not improve from 0.45457\n",
            "10/10 [==============================] - 6s 595ms/step - loss: 0.0181 - accuracy: 0.9972 - val_loss: 0.5932 - val_accuracy: 0.7778\n"
          ],
          "name": "stdout"
        },
        {
          "output_type": "display_data",
          "data": {
            "image/png": "[encoded data removed]",
            "text/plain": [
              "<Figure size 432x288 with 2 Axes>"
            ]
          },
          "metadata": {
            "tags": []
          }
        }
      ]
    },
    {
      "cell_type": "markdown",
      "metadata": {
        "id": "oX9_6reqxc3q",
        "colab_type": "text"
      },
      "source": [
        "# Predict Sentiment"
      ]
    },
    {
      "cell_type": "markdown",
      "metadata": {
        "id": "8C0MWmdKbqn6",
        "colab_type": "text"
      },
      "source": [
        "![](my_icons/geopolitical_mapper/crystal_ball.JPG)"
      ]
    },
    {
      "cell_type": "markdown",
      "metadata": {
        "id": "Gz0a0OCeNLZU",
        "colab_type": "text"
      },
      "source": [
        "With the model finetuned with our labeled dataset, we can now use it to come up with sentiment predictions. **The sentences need to be encoded** before feeding it into the model to obtain the logits `logit = albert_summaries.embed(encoded_s)[0]`. We will then place the logits through a **softmax function** `_get_proba` to obtain the probabilities that the sentiments are negative or positive."
      ]
    },
    {
      "cell_type": "code",
      "metadata": {
        "id": "n8mZzSmRKXg1",
        "colab_type": "code",
        "colab": {}
      },
      "source": [
        "def _get_proba(logit):\n",
        "    \"\"\"\n",
        "    Helper function for get_predictions_probas\n",
        "    Computes softmax values based on logit\n",
        "\n",
        "    args:\n",
        "    ------\n",
        "        logit: (float) logit output of finetuned ALBERT model\n",
        "    Return:\n",
        "    ------\n",
        "        softmax values representing the sentiment probabilities\n",
        "    \"\"\"\n",
        "\n",
        "    return np.exp(logit) / np.sum(np.exp(logit), axis=1)"
      ],
      "execution_count": 0,
      "outputs": []
    },
    {
      "cell_type": "code",
      "metadata": {
        "id": "OizXoMdOwZxT",
        "colab_type": "code",
        "colab": {}
      },
      "source": [
        "def get_predictions_probas(summaries, config, weights_path):\n",
        "    \"\"\"\n",
        "    Returns the sentiment probabilities (positive or negative sentiments)\n",
        "    for the wiki summary sentences\n",
        "\n",
        "    args:\n",
        "    ------\n",
        "        summaries: (list) wiki summary sentences that require sentiment predictions\n",
        "        config: (dict) chosen configuration for the ALBERT model\n",
        "        weights_path: (str) path leading to the weights of the finetuned\n",
        "                      ALBERT model\n",
        "    Return:\n",
        "    ------\n",
        "        sentiment_preds: (list) sentiment predictions for the wiki summary sentences\n",
        "\n",
        "    \"\"\"\n",
        "\n",
        "    albert_summaries = Albert(**config)\n",
        "    albert_summaries.restore(weights_path)\n",
        "\n",
        "    sentiment_probas = []\n",
        "    for i, s in enumerate(summaries):\n",
        "\n",
        "      encoded_s = albert_summaries.tokenizer.encode_plus(s,\n",
        "                                                        text_pair=None,\n",
        "                                                        max_length=albert_summaries.max_seq_length,\n",
        "                                                        pad_to_max_length=True,\n",
        "                                                        add_special_tokens=True,\n",
        "                                                        return_tensors=\"tf\")\n",
        "    \n",
        "      logit = albert_summaries.embed(encoded_s)[0]\n",
        "      pred = _get_proba(logit)\n",
        "      sentiment_probas.append(pred[:,1][0])\n",
        "\n",
        "    return sentiment_probas"
      ],
      "execution_count": 0,
      "outputs": []
    },
    {
      "cell_type": "code",
      "metadata": {
        "id": "Otw7QmhUvsoS",
        "colab_type": "code",
        "colab": {}
      },
      "source": [
        "%%capture\n",
        "\n",
        "sent_ld_df = pd.read_csv('./data/Wiki/sent_ld.csv')\n",
        "sent_ul_df = pd.read_csv('./data/Wiki/sent_ul.csv')\n",
        "\n",
        "sent_all_df = pd.concat([sent_ld_df, sent_ul_df], axis=0)\n",
        "\n",
        "summaries = sent_all_df['Summary_Sentence'].tolist()\n",
        "\n",
        "sentiment_probas = get_predictions_probas(summaries, config_summaries,\n",
        "                                          './model/summary-weights-improvement-08.ckpt')\n",
        "\n",
        "sent_all_df['Predictions_Probas'] = sentiment_probas"
      ],
      "execution_count": 0,
      "outputs": []
    },
    {
      "cell_type": "markdown",
      "metadata": {
        "id": "crpNT2MfRnSG",
        "colab_type": "text"
      },
      "source": [
        "And here we have the sentiment probabilities for the sentences! Sentences with probabilities that are **closer to 1** are considered to have **positive sentiments**."
      ]
    },
    {
      "cell_type": "code",
      "metadata": {
        "id": "YJHN6Jv-qrlX",
        "colab_type": "code",
        "outputId": "b635d3ce-4893-4ef7-d039-7cfb2ec1364a",
        "colab": {
          "base_uri": "https://localhost:8080/",
          "height": 197
        }
      },
      "source": [
        "sent_all_df[['Country_Pair', 'Label', 'Summary_Sentence', 'Predictions_Probas']].head(5)"
      ],
      "execution_count": 0,
      "outputs": [
        {
          "output_type": "execute_result",
          "data": {
            "text/html": [
              "<div>\n",
              "<style scoped>\n",
              "    .dataframe tbody tr th:only-of-type {\n",
              "        vertical-align: middle;\n",
              "    }\n",
              "\n",
              "    .dataframe tbody tr th {\n",
              "        vertical-align: top;\n",
              "    }\n",
              "\n",
              "    .dataframe thead th {\n",
              "        text-align: right;\n",
              "    }\n",
              "</style>\n",
              "<table border=\"1\" class=\"dataframe\">\n",
              "  <thead>\n",
              "    <tr style=\"text-align: right;\">\n",
              "      <th></th>\n",
              "      <th>Country_Pair</th>\n",
              "      <th>Label</th>\n",
              "      <th>Summary_Sentence</th>\n",
              "      <th>Predictions_Probas</th>\n",
              "    </tr>\n",
              "  </thead>\n",
              "  <tbody>\n",
              "    <tr>\n",
              "      <th>0</th>\n",
              "      <td>China_Indonesia</td>\n",
              "      <td>1.0</td>\n",
              "      <td>The relations between two nations have been on...</td>\n",
              "      <td>0.279244</td>\n",
              "    </tr>\n",
              "    <tr>\n",
              "      <th>1</th>\n",
              "      <td>China_Indonesia</td>\n",
              "      <td>0.0</td>\n",
              "      <td>However, the diplomatic relationship between t...</td>\n",
              "      <td>0.052571</td>\n",
              "    </tr>\n",
              "    <tr>\n",
              "      <th>2</th>\n",
              "      <td>China_Indonesia</td>\n",
              "      <td>1.0</td>\n",
              "      <td>China has an embassy in Jakarta and consulates...</td>\n",
              "      <td>0.990907</td>\n",
              "    </tr>\n",
              "    <tr>\n",
              "      <th>3</th>\n",
              "      <td>China_Indonesia</td>\n",
              "      <td>2.0</td>\n",
              "      <td>Both countries are among the largest nations i...</td>\n",
              "      <td>0.990101</td>\n",
              "    </tr>\n",
              "    <tr>\n",
              "      <th>4</th>\n",
              "      <td>China_Indonesia</td>\n",
              "      <td>1.0</td>\n",
              "      <td>Both nations are the members of APEC and G-20 ...</td>\n",
              "      <td>0.985640</td>\n",
              "    </tr>\n",
              "  </tbody>\n",
              "</table>\n",
              "</div>"
            ],
            "text/plain": [
              "      Country_Pair  ...  Predictions_Probas\n",
              "0  China_Indonesia  ...            0.279244\n",
              "1  China_Indonesia  ...            0.052571\n",
              "2  China_Indonesia  ...            0.990907\n",
              "3  China_Indonesia  ...            0.990101\n",
              "4  China_Indonesia  ...            0.985640\n",
              "\n",
              "[5 rows x 4 columns]"
            ]
          },
          "metadata": {
            "tags": []
          },
          "execution_count": 46
        }
      ]
    },
    {
      "cell_type": "markdown",
      "metadata": {
        "id": "GlW9h6UxSu8a",
        "colab_type": "text"
      },
      "source": [
        "# How did we do? On to the results!"
      ]
    },
    {
      "cell_type": "markdown",
      "metadata": {
        "id": "dcllZ-hLb7Dv",
        "colab_type": "text"
      },
      "source": [
        "![](my_icons/geopolitical_mapper/excited_baby.JPG)"
      ]
    },
    {
      "cell_type": "markdown",
      "metadata": {
        "id": "I4AM43mDRzHo",
        "colab_type": "text"
      },
      "source": [
        "To be honest, I do not know how the results will turn out at this point given that the dataset that we were using was self-generated and manually labeled. On a positive note, it appears that the model was able to predict some of the sentiments correctly. "
      ]
    },
    {
      "cell_type": "markdown",
      "metadata": {
        "id": "wuc7zteHUGIq",
        "colab_type": "text"
      },
      "source": [
        "### Correctly classified relationships"
      ]
    },
    {
      "cell_type": "code",
      "metadata": {
        "id": "dQGJiS28UIM6",
        "colab_type": "code",
        "outputId": "dc0aca85-5e33-42d8-eb5e-02c7d6543154",
        "colab": {
          "base_uri": "https://localhost:8080/",
          "height": 178
        }
      },
      "source": [
        "# Sentences\n",
        "print(sent_all_df[sent_all_df['Country_Pair'] == 'China_Singapore']['Summary_Sentence'].tolist())\n",
        "\n",
        "# Sentiment probabilities\n",
        "sent_all_df[sent_all_df['Country_Pair'] == 'China_Singapore']['Predictions_Probas'].tolist()"
      ],
      "execution_count": 0,
      "outputs": [
        {
          "output_type": "stream",
          "text": [
            "[\"People's Republic of China – Singapore relations officially started on 3 October 1990.\", 'Diplomatic missions were established in the early 1990s based on trade and the warming of ties from other ASEAN countries towards mainland China.', 'Singapore and China have maintained a long-standing and greatly prioritised close relationship, and partly because of the latter\\'s growing influence and essentiality in the Asia-Pacific region, specifying that \"its common interest with China is far greater than any differences\".', \"Furthermore, Singapore has positioned itself as a strong supporter for China's constructive engagement and peaceful development in the region.\", \"It has engaged co-operation with other ASEAN members and China to strengthen regional security and fight terrorism, while participating in the organisation's first maritime exercise with the latter.\", \"While relationship between the two countries stand strong, differences were experienced during numerous high-profile events, including Singapore's stance against China regarding the South China Sea dispute, Singapore's support for the United States' military presence and alliance system in Asia and the seizing of SAF vehicles by Hong Kong authorities in November 2016.Despite the disputes, Singapore and Beijing have consistently affirm their unwavering close relationship and bilateral ties, deepening their co-operation in numerous areas, including defence, economy, culture and education, as well as One Belt One Road Initiative.\", \"Singapore has also vowed to fully support and promote China's position in ASEAN, while managing the differences between the Chinese state and the organisation.\"]\n"
          ],
          "name": "stdout"
        },
        {
          "output_type": "execute_result",
          "data": {
            "text/plain": [
              "[0.9891862273216248,\n",
              " 0.98930823802948,\n",
              " 0.9773917198181152,\n",
              " 0.990622878074646,\n",
              " 0.9888237714767456,\n",
              " 0.9899033308029175,\n",
              " 0.9854150414466858]"
            ]
          },
          "metadata": {
            "tags": []
          },
          "execution_count": 47
        }
      ]
    },
    {
      "cell_type": "code",
      "metadata": {
        "id": "tegi9fgm0G10",
        "colab_type": "code",
        "outputId": "7c6397f9-ff96-410e-961b-b45f859899de",
        "colab": {
          "base_uri": "https://localhost:8080/",
          "height": 125
        }
      },
      "source": [
        "# Sentences\n",
        "print(sent_all_df[sent_all_df['Country_Pair'] == 'Russia_United States']['Summary_Sentence'].tolist()[0:4])\n",
        "\n",
        "# Sentiment probabilities\n",
        "sent_all_df[sent_all_df['Country_Pair'] == 'Russia_United States']['Predictions_Probas'].tolist()[0:4]"
      ],
      "execution_count": 0,
      "outputs": [
        {
          "output_type": "stream",
          "text": [
            "['The United States and Russia maintain diplomatic and trade relations.', 'The relationship was generally warm under the Russian President Boris Yeltsin (1991–99) until the NATO bombing of the Federal Republic of Yugoslavia in the spring of 1999, and has since deteriorated significantly.', \"In 2014, relations greatly deteriorated further due to the crisis in Ukraine, Russia's annexation of Crimea in 2014, differences regarding Russian military intervention in the Syrian Civil War, and from the end of 2016 over Russia's alleged interference in the 2016 U.S. elections.\", 'Mutual sanctions imposed in 2014 remain in place.']\n"
          ],
          "name": "stdout"
        },
        {
          "output_type": "execute_result",
          "data": {
            "text/plain": [
              "[0.9242598414421082,\n",
              " 0.9835892915725708,\n",
              " 0.01635131798684597,\n",
              " 0.013922506012022495]"
            ]
          },
          "metadata": {
            "tags": []
          },
          "execution_count": 48
        }
      ]
    },
    {
      "cell_type": "markdown",
      "metadata": {
        "id": "zAljSbjLUJVG",
        "colab_type": "text"
      },
      "source": [
        "### Incorrectly classified relationships"
      ]
    },
    {
      "cell_type": "code",
      "metadata": {
        "id": "d-YoSLIp4maf",
        "colab_type": "code",
        "outputId": "48c830e0-2c22-499c-a383-0f659a41bd96",
        "colab": {
          "base_uri": "https://localhost:8080/",
          "height": 143
        }
      },
      "source": [
        "# Sentences\n",
        "print(sent_all_df[sent_all_df['Country_Pair'] == 'China_United States']['Summary_Sentence'].tail(5).tolist())\n",
        "\n",
        "# Sentiment probabilities\n",
        "sent_all_df[sent_all_df['Country_Pair'] == 'China_United States']['Predictions_Probas'].tail(5).tolist()"
      ],
      "execution_count": 0,
      "outputs": [
        {
          "output_type": "stream",
          "text": [
            "[\"Despite tensions during his term, the Chinese population's favorability of the U.S. stood at 51% in Obama's last year of 2016, only to dip during the Trump Administration.\", 'The relations deteriorated sharply under President Donald Trump, whose administration launched a trade war against China, banned US companies from selling equipment to Huawei, increased visa restrictions on Chinese nationality students and scholars and designated China as a \"currency manipulator\".', 'During the Trump administration, and especially since the US-China trade war began, political observers have started to warn that a new cold war is emerging.', 'Michael D. Swaine warned in 2019, \"The often positive and optimistic forces, interests, and beliefs that sustained bilateral ties for decades are giving way to undue pessimism, hostility, and a zero-sum mindset in almost every area of engagement.\"', 'However by 2020, the two countries have started to take steps in order to repair the relations; U.S. lifted its currency manipulator designation on China in 13 January 2020, and both sides signed the US–China Phase One trade deal in 15 January.']\n"
          ],
          "name": "stdout"
        },
        {
          "output_type": "execute_result",
          "data": {
            "text/plain": [
              "[0.17708182334899902,\n",
              " 0.7658159732818604,\n",
              " 0.10857371240854263,\n",
              " 0.7851555347442627,\n",
              " 0.1416555643081665]"
            ]
          },
          "metadata": {
            "tags": []
          },
          "execution_count": 49
        }
      ]
    },
    {
      "cell_type": "markdown",
      "metadata": {
        "id": "W8vmZhkmUOMu",
        "colab_type": "text"
      },
      "source": [
        "Our model can definitely do better! It will be great if we could have more training data if time permits!"
      ]
    },
    {
      "cell_type": "markdown",
      "metadata": {
        "id": "scHk6Z7FUuvh",
        "colab_type": "text"
      },
      "source": [
        "# Visualizing our predictions!"
      ]
    },
    {
      "cell_type": "markdown",
      "metadata": {
        "id": "zgSBd2uKcwpx",
        "colab_type": "text"
      },
      "source": [
        "![](my_icons/geopolitical_mapper/visualization.JPG)"
      ]
    },
    {
      "cell_type": "markdown",
      "metadata": {
        "id": "907D8dsRVXJe",
        "colab_type": "text"
      },
      "source": [
        "Our aim in this section is for us to visualize the sentiments on a world map plot. We will allow a user to select a country to focus on. And the sentiments of its relationships with other countries will be displayed on the plot."
      ]
    },
    {
      "cell_type": "markdown",
      "metadata": {
        "id": "CGLlF-BXWBSK",
        "colab_type": "text"
      },
      "source": [
        "By default we will **allow the user to choose a country from column `Country_A`**. Currently our dataframe of predictions comprises of **one-directional relationships**. For example, if United States - China was represented in the dataframe, the China - United States relationship would be missing. Let's **stack** the dataframe we have currently, with another dataframe where the names in columns `Country_A` and `Country_B` are swapped."
      ]
    },
    {
      "cell_type": "markdown",
      "metadata": {
        "id": "5Rvy0IRDbsfj",
        "colab_type": "text"
      },
      "source": [
        "### Creating a stacked dataframe"
      ]
    },
    {
      "cell_type": "markdown",
      "metadata": {
        "id": "1adEgyOH5kYa",
        "colab_type": "text"
      },
      "source": [
        "Great! Now all of our relationships are represented!"
      ]
    },
    {
      "cell_type": "code",
      "metadata": {
        "id": "vNVNFQgUbsGJ",
        "colab_type": "code",
        "outputId": "d4f48147-c805-495c-f8af-3c7c2e829ae0",
        "colab": {
          "base_uri": "https://localhost:8080/",
          "height": 406
        }
      },
      "source": [
        "sent_all_swap_df = sent_all_df.copy()\n",
        "sent_all_swap_df['Country_A'] = sent_all_df['Country_B']\n",
        "sent_all_swap_df['Country_B'] = sent_all_df['Country_A']\n",
        "\n",
        "sent_all_stack_df = pd.concat([sent_all_df, sent_all_swap_df], axis=0)\n",
        "sent_all_stack_df.sort_values(by='Country_A', ascending=False)\n",
        "\n",
        "sent_all_stack_df[sent_all_stack_df['Country_Pair'].str.contains('China_United States')]"
      ],
      "execution_count": 0,
      "outputs": [
        {
          "output_type": "execute_result",
          "data": {
            "text/html": [
              "<div>\n",
              "<style scoped>\n",
              "    .dataframe tbody tr th:only-of-type {\n",
              "        vertical-align: middle;\n",
              "    }\n",
              "\n",
              "    .dataframe tbody tr th {\n",
              "        vertical-align: top;\n",
              "    }\n",
              "\n",
              "    .dataframe thead th {\n",
              "        text-align: right;\n",
              "    }\n",
              "</style>\n",
              "<table border=\"1\" class=\"dataframe\">\n",
              "  <thead>\n",
              "    <tr style=\"text-align: right;\">\n",
              "      <th></th>\n",
              "      <th>Country_A</th>\n",
              "      <th>Country_B</th>\n",
              "      <th>Country_Pair</th>\n",
              "      <th>Label</th>\n",
              "      <th>Summary_Sentence</th>\n",
              "      <th>Predictions_Probas</th>\n",
              "    </tr>\n",
              "  </thead>\n",
              "  <tbody>\n",
              "    <tr>\n",
              "      <th>2436</th>\n",
              "      <td>China</td>\n",
              "      <td>United States</td>\n",
              "      <td>China_United States</td>\n",
              "      <td>NaN</td>\n",
              "      <td>China–United States relations (simplified Chin...</td>\n",
              "      <td>0.651927</td>\n",
              "    </tr>\n",
              "    <tr>\n",
              "      <th>2437</th>\n",
              "      <td>China</td>\n",
              "      <td>United States</td>\n",
              "      <td>China_United States</td>\n",
              "      <td>NaN</td>\n",
              "      <td>The history of the relationship can be traced ...</td>\n",
              "      <td>0.987907</td>\n",
              "    </tr>\n",
              "    <tr>\n",
              "      <th>2438</th>\n",
              "      <td>China</td>\n",
              "      <td>United States</td>\n",
              "      <td>China_United States</td>\n",
              "      <td>NaN</td>\n",
              "      <td>The relationship between the two countries hav...</td>\n",
              "      <td>0.985974</td>\n",
              "    </tr>\n",
              "    <tr>\n",
              "      <th>2439</th>\n",
              "      <td>China</td>\n",
              "      <td>United States</td>\n",
              "      <td>China_United States</td>\n",
              "      <td>NaN</td>\n",
              "      <td>Both countries used to have an extremely exten...</td>\n",
              "      <td>0.517934</td>\n",
              "    </tr>\n",
              "    <tr>\n",
              "      <th>2440</th>\n",
              "      <td>China</td>\n",
              "      <td>United States</td>\n",
              "      <td>China_United States</td>\n",
              "      <td>NaN</td>\n",
              "      <td>It is a relationship of economic cooperation, ...</td>\n",
              "      <td>0.399313</td>\n",
              "    </tr>\n",
              "    <tr>\n",
              "      <th>...</th>\n",
              "      <td>...</td>\n",
              "      <td>...</td>\n",
              "      <td>...</td>\n",
              "      <td>...</td>\n",
              "      <td>...</td>\n",
              "      <td>...</td>\n",
              "    </tr>\n",
              "    <tr>\n",
              "      <th>6048</th>\n",
              "      <td>United States</td>\n",
              "      <td>China</td>\n",
              "      <td>China_United States</td>\n",
              "      <td>NaN</td>\n",
              "      <td>Despite tensions during his term, the Chinese ...</td>\n",
              "      <td>0.177082</td>\n",
              "    </tr>\n",
              "    <tr>\n",
              "      <th>6049</th>\n",
              "      <td>United States</td>\n",
              "      <td>China</td>\n",
              "      <td>China_United States</td>\n",
              "      <td>NaN</td>\n",
              "      <td>The relations deteriorated sharply under Presi...</td>\n",
              "      <td>0.765816</td>\n",
              "    </tr>\n",
              "    <tr>\n",
              "      <th>6050</th>\n",
              "      <td>United States</td>\n",
              "      <td>China</td>\n",
              "      <td>China_United States</td>\n",
              "      <td>NaN</td>\n",
              "      <td>During the Trump administration, and especiall...</td>\n",
              "      <td>0.108574</td>\n",
              "    </tr>\n",
              "    <tr>\n",
              "      <th>6051</th>\n",
              "      <td>United States</td>\n",
              "      <td>China</td>\n",
              "      <td>China_United States</td>\n",
              "      <td>NaN</td>\n",
              "      <td>Michael D. Swaine warned in 2019, \"The often p...</td>\n",
              "      <td>0.785156</td>\n",
              "    </tr>\n",
              "    <tr>\n",
              "      <th>6052</th>\n",
              "      <td>United States</td>\n",
              "      <td>China</td>\n",
              "      <td>China_United States</td>\n",
              "      <td>NaN</td>\n",
              "      <td>However by 2020, the two countries have starte...</td>\n",
              "      <td>0.141656</td>\n",
              "    </tr>\n",
              "  </tbody>\n",
              "</table>\n",
              "<p>100 rows × 6 columns</p>\n",
              "</div>"
            ],
            "text/plain": [
              "          Country_A  ... Predictions_Probas\n",
              "2436          China  ...           0.651927\n",
              "2437          China  ...           0.987907\n",
              "2438          China  ...           0.985974\n",
              "2439          China  ...           0.517934\n",
              "2440          China  ...           0.399313\n",
              "...             ...  ...                ...\n",
              "6048  United States  ...           0.177082\n",
              "6049  United States  ...           0.765816\n",
              "6050  United States  ...           0.108574\n",
              "6051  United States  ...           0.785156\n",
              "6052  United States  ...           0.141656\n",
              "\n",
              "[100 rows x 6 columns]"
            ]
          },
          "metadata": {
            "tags": []
          },
          "execution_count": 51
        }
      ]
    },
    {
      "cell_type": "markdown",
      "metadata": {
        "id": "qDRbHA5154FG",
        "colab_type": "text"
      },
      "source": [
        "### Calculating the average sentiment score\n",
        "\n"
      ]
    },
    {
      "cell_type": "markdown",
      "metadata": {
        "id": "al8jDARD5-Pb",
        "colab_type": "text"
      },
      "source": [
        "As we have calculated the sentiment score at a sentence level,we will use pandas' `groupby` to **average the sentiment score** for each country pair."
      ]
    },
    {
      "cell_type": "code",
      "metadata": {
        "id": "OwbRNc6Dzm4c",
        "colab_type": "code",
        "outputId": "0bb52ae5-5515-47e0-c2ca-ee2134c713c0",
        "colab": {
          "base_uri": "https://localhost:8080/",
          "height": 247
        }
      },
      "source": [
        "sent_all_stack_df.groupby('Country_Pair').mean()['Predictions_Probas']"
      ],
      "execution_count": 0,
      "outputs": [
        {
          "output_type": "execute_result",
          "data": {
            "text/plain": [
              "Country_Pair\n",
              "Abkhazia_Nauru           0.938478\n",
              "Abkhazia_Nicaragua       0.757214\n",
              "Abkhazia_Tuvalu          0.961020\n",
              "Abkhazia_Vanuatu         0.523380\n",
              "Afghanistan_China        0.813562\n",
              "                           ...   \n",
              "United States_Vietnam    0.910205\n",
              "United States_Yemen      0.086554\n",
              "United States_Zambia     0.740769\n",
              "Yemen_European Union     0.984979\n",
              "Zambia_Zimbabwe          0.635722\n",
              "Name: Predictions_Probas, Length: 1171, dtype: float64"
            ]
          },
          "metadata": {
            "tags": []
          },
          "execution_count": 52
        }
      ]
    },
    {
      "cell_type": "markdown",
      "metadata": {
        "id": "0jAzcgQMxcrG",
        "colab_type": "text"
      },
      "source": [
        "### Retrieving the ISO code for each country"
      ]
    },
    {
      "cell_type": "markdown",
      "metadata": {
        "id": "bXMLcLU87xOH",
        "colab_type": "text"
      },
      "source": [
        "Plotly, the visualization package that we will be using, **identifies each country's location on the world map by using the ISO code.** We can easily retrieve the ISO codes in the form of a txt file from the web. However, once again, the names of the countries used in the ISO codes txt file might be different from what we have in the dataframe. \n",
        "\n",
        "Fret not! `get_std_names` is here to save the day. We will map the names of the countries in the txt file to obtain its standardized `std` names."
      ]
    },
    {
      "cell_type": "code",
      "metadata": {
        "id": "ZkhfZRxdafzW",
        "colab_type": "code",
        "outputId": "c4ec2867-c11c-4c7e-80d8-9101e5d8b4f1",
        "colab": {
          "base_uri": "https://localhost:8080/",
          "height": 403
        }
      },
      "source": [
        "country_ISO_raw_df = pd.read_csv('./data/Wiki/country_ISO.txt', sep=\"  \",\n",
        "                                 header=None, names=['ISO_Code', 'Country'])\n",
        "\n",
        "country_ISO_df = get_std_names(country_ISO_raw_df,\n",
        "                               'Country', alt_names_to_countries)\n",
        "\n",
        "country_ISO_df.sort_values(by=['Country']).head(10)"
      ],
      "execution_count": 0,
      "outputs": [
        {
          "output_type": "stream",
          "text": [
            "/usr/local/lib/python3.6/dist-packages/ipykernel_launcher.py:2: ParserWarning: Falling back to the 'python' engine because the 'c' engine does not support regex separators (separators > 1 char and different from '\\s+' are interpreted as regex); you can avoid this warning by specifying engine='python'.\n",
            "  \n"
          ],
          "name": "stderr"
        },
        {
          "output_type": "execute_result",
          "data": {
            "text/html": [
              "<div>\n",
              "<style scoped>\n",
              "    .dataframe tbody tr th:only-of-type {\n",
              "        vertical-align: middle;\n",
              "    }\n",
              "\n",
              "    .dataframe tbody tr th {\n",
              "        vertical-align: top;\n",
              "    }\n",
              "\n",
              "    .dataframe thead th {\n",
              "        text-align: right;\n",
              "    }\n",
              "</style>\n",
              "<table border=\"1\" class=\"dataframe\">\n",
              "  <thead>\n",
              "    <tr style=\"text-align: right;\">\n",
              "      <th></th>\n",
              "      <th>ISO_Code</th>\n",
              "      <th>Country</th>\n",
              "      <th>Country_Std</th>\n",
              "    </tr>\n",
              "  </thead>\n",
              "  <tbody>\n",
              "    <tr>\n",
              "      <th>1</th>\n",
              "      <td>AFG</td>\n",
              "      <td>Afghanistan</td>\n",
              "      <td>afghanistan</td>\n",
              "    </tr>\n",
              "    <tr>\n",
              "      <th>5</th>\n",
              "      <td>ALB</td>\n",
              "      <td>Albania</td>\n",
              "      <td>albania</td>\n",
              "    </tr>\n",
              "    <tr>\n",
              "      <th>64</th>\n",
              "      <td>DZA</td>\n",
              "      <td>Algeria</td>\n",
              "      <td>algeria</td>\n",
              "    </tr>\n",
              "    <tr>\n",
              "      <th>10</th>\n",
              "      <td>ASM</td>\n",
              "      <td>American Samoa</td>\n",
              "      <td>american_samoa</td>\n",
              "    </tr>\n",
              "    <tr>\n",
              "      <th>6</th>\n",
              "      <td>AND</td>\n",
              "      <td>Andorra</td>\n",
              "      <td>andorra</td>\n",
              "    </tr>\n",
              "    <tr>\n",
              "      <th>2</th>\n",
              "      <td>AGO</td>\n",
              "      <td>Angola</td>\n",
              "      <td>angola</td>\n",
              "    </tr>\n",
              "    <tr>\n",
              "      <th>3</th>\n",
              "      <td>AIA</td>\n",
              "      <td>Anguilla</td>\n",
              "      <td>anguilla</td>\n",
              "    </tr>\n",
              "    <tr>\n",
              "      <th>11</th>\n",
              "      <td>ATA</td>\n",
              "      <td>Antarctica</td>\n",
              "      <td>antarctica</td>\n",
              "    </tr>\n",
              "    <tr>\n",
              "      <th>13</th>\n",
              "      <td>ATG</td>\n",
              "      <td>Antigua and Barbuda</td>\n",
              "      <td>antigua_and_barbuda</td>\n",
              "    </tr>\n",
              "    <tr>\n",
              "      <th>8</th>\n",
              "      <td>ARG</td>\n",
              "      <td>Argentina</td>\n",
              "      <td>argentina</td>\n",
              "    </tr>\n",
              "  </tbody>\n",
              "</table>\n",
              "</div>"
            ],
            "text/plain": [
              "   ISO_Code              Country          Country_Std\n",
              "1       AFG          Afghanistan          afghanistan\n",
              "5       ALB              Albania              albania\n",
              "64      DZA              Algeria              algeria\n",
              "10      ASM       American Samoa       american_samoa\n",
              "6       AND              Andorra              andorra\n",
              "2       AGO               Angola               angola\n",
              "3       AIA             Anguilla             anguilla\n",
              "11      ATA           Antarctica           antarctica\n",
              "13      ATG  Antigua and Barbuda  antigua_and_barbuda\n",
              "8       ARG            Argentina            argentina"
            ]
          },
          "metadata": {
            "tags": []
          },
          "execution_count": 53
        }
      ]
    },
    {
      "cell_type": "markdown",
      "metadata": {
        "id": "wq8S6Rwtayvv",
        "colab_type": "text"
      },
      "source": [
        "We will convert the dataframe into a dictionary for faster mappings."
      ]
    },
    {
      "cell_type": "code",
      "metadata": {
        "id": "KeevV2KsbLmM",
        "colab_type": "code",
        "colab": {}
      },
      "source": [
        "country_to_ISO = {k:v for k,v in zip(country_ISO_df['Country_Std'], \\\n",
        "                                     country_ISO_df['ISO_Code'])}"
      ],
      "execution_count": 0,
      "outputs": []
    },
    {
      "cell_type": "markdown",
      "metadata": {
        "id": "WMHdddhWbOkl",
        "colab_type": "text"
      },
      "source": [
        "Let's create an additional column in our `sent_all_stack_df` to populate the ISO codes of the countries."
      ]
    },
    {
      "cell_type": "code",
      "metadata": {
        "id": "yTMreCBmzvIt",
        "colab_type": "code",
        "colab": {}
      },
      "source": [
        "def get_ISO(country):\n",
        "  try:\n",
        "    ISO = country_to_ISO[country]\n",
        "  except:\n",
        "    ISO = 'Not Available'\n",
        "\n",
        "  return ISO"
      ],
      "execution_count": 0,
      "outputs": []
    },
    {
      "cell_type": "code",
      "metadata": {
        "id": "2sUFj1GZbNZ-",
        "colab_type": "code",
        "colab": {}
      },
      "source": [
        "sent_all_stack_df = get_std_names(sent_all_stack_df, 'Country_A', \\\n",
        "                                  alt_names_to_countries)\n",
        "\n",
        "sent_all_stack_df = get_std_names(sent_all_stack_df, 'Country_B', \\\n",
        "                                  alt_names_to_countries)\n",
        "\n",
        "sent_all_stack_df['country_A_ISO'] = sent_all_stack_df['Country_A_Std'].apply(get_ISO)\n",
        "sent_all_stack_df['country_B_ISO'] = sent_all_stack_df['Country_B_Std'].apply(get_ISO)"
      ],
      "execution_count": 0,
      "outputs": []
    },
    {
      "cell_type": "markdown",
      "metadata": {
        "id": "kNXNGTjocKaV",
        "colab_type": "text"
      },
      "source": [
        "We will exclude countries with no ISO codes for now."
      ]
    },
    {
      "cell_type": "code",
      "metadata": {
        "id": "oha0-xPtcKLg",
        "colab_type": "code",
        "colab": {}
      },
      "source": [
        "sent_all_stack_avail_df = sent_all_stack_df[sent_all_stack_df['country_A_ISO'] != 'Not Available']"
      ],
      "execution_count": 0,
      "outputs": []
    },
    {
      "cell_type": "markdown",
      "metadata": {
        "id": "iI2Dtfvf0BLE",
        "colab_type": "text"
      },
      "source": [
        "# Time to visualize the sentiments!"
      ]
    },
    {
      "cell_type": "markdown",
      "metadata": {
        "id": "Wu-_XPcqdT2L",
        "colab_type": "text"
      },
      "source": [
        "![](my_icons/geopolitical_mapper/finally_over_obama.JPG)"
      ]
    },
    {
      "cell_type": "markdown",
      "metadata": {
        "id": "I7MAlM8xcUgU",
        "colab_type": "text"
      },
      "source": [
        "Here are countries that we can choose from."
      ]
    },
    {
      "cell_type": "code",
      "metadata": {
        "id": "9WW99o2DsWOJ",
        "colab_type": "code",
        "outputId": "cac08959-c524-4174-ba3e-4922578dc774",
        "colab": {
          "base_uri": "https://localhost:8080/",
          "height": 692
        }
      },
      "source": [
        "np.sort(sent_all_stack_avail_df['Country_A_Std'].unique())"
      ],
      "execution_count": 0,
      "outputs": [
        {
          "output_type": "execute_result",
          "data": {
            "text/plain": [
              "array(['afghanistan', 'albania', 'algeria', 'andorra', 'angola',\n",
              "       'antigua_and_barbuda', 'argentina', 'armenia', 'australia',\n",
              "       'austria', 'azerbaijan', 'bahamas', 'bahrain', 'bangladesh',\n",
              "       'barbados', 'belarus', 'belgium', 'belize', 'benin', 'bhutan',\n",
              "       'bolivia', 'bosnia_and_herzegovina', 'botswana', 'brazil',\n",
              "       'bulgaria', 'burkina_faso', 'burundi', 'cambodia', 'cameroon',\n",
              "       'canada', 'cape_verde', 'central_african_republic', 'chad',\n",
              "       'chile', 'china', 'colombia', 'comoros', 'costa_rica', 'croatia',\n",
              "       'cuba', 'cyprus', 'czech_republic', 'denmark', 'djibouti',\n",
              "       'dominica', 'dominican_republic', 'east_timor', 'ecuador', 'egypt',\n",
              "       'el_salvador', 'equatorial_guinea', 'eritrea', 'estonia',\n",
              "       'eswatini', 'ethiopia', 'fiji', 'finland', 'france', 'gabon',\n",
              "       'gambia', 'georgia', 'germany', 'ghana', 'greece', 'grenada',\n",
              "       'guatemala', 'guinea-bissau', 'guyana', 'haiti', 'holy_see',\n",
              "       'honduras', 'hungary', 'iceland', 'india', 'indonesia', 'iran',\n",
              "       'iraq', 'ireland', 'israel', 'italy', 'ivory_coast', 'jamaica',\n",
              "       'japan', 'jordan', 'kazakhstan', 'kenya', 'kiribati', 'kuwait',\n",
              "       'kyrgyzstan', 'latvia', 'lebanon', 'lesotho', 'liberia', 'libya',\n",
              "       'liechtenstein', 'lithuania', 'luxembourg', 'madagascar', 'malawi',\n",
              "       'malaysia', 'maldives', 'mali', 'malta', 'marshall_islands',\n",
              "       'mauritania', 'mauritius', 'mexico', 'moldova', 'monaco',\n",
              "       'mongolia', 'montenegro', 'morocco', 'mozambique', 'myanmar',\n",
              "       'namibia', 'nauru', 'nepal', 'netherlands', 'new_zealand',\n",
              "       'nicaragua', 'niger', 'nigeria', 'north_macedonia', 'norway',\n",
              "       'oman', 'pakistan', 'palau', 'panama', 'papua_new_guinea',\n",
              "       'paraguay', 'peru', 'philippines', 'poland', 'portugal', 'qatar',\n",
              "       'republic_of_congo', 'romania', 'russia', 'rwanda', 'saint_lucia',\n",
              "       'saint_vincent_and_grenadines', 'samoa', 'san_marino',\n",
              "       'saudi_arabia', 'senegal', 'serbia', 'seychelles', 'sierra_leone',\n",
              "       'singapore', 'slovakia', 'slovenia', 'solomon_islands', 'somalia',\n",
              "       'south_africa', 'south_korea', 'south_sudan', 'spain', 'sri_lanka',\n",
              "       'sudan', 'suriname', 'sweden', 'switzerland', 'taiwan',\n",
              "       'tajikistan', 'tanzania', 'thailand', 'togo', 'tonga',\n",
              "       'trinidad_and_tobago', 'tunisia', 'turkey', 'turkmenistan',\n",
              "       'tuvalu', 'uganda', 'ukraine', 'united_arab_emirates',\n",
              "       'united_kingdom', 'united_states', 'uruguay', 'uzbekistan',\n",
              "       'vanuatu', 'venezuela', 'vietnam', 'yemen', 'zambia', 'zimbabwe'],\n",
              "      dtype=object)"
            ]
          },
          "metadata": {
            "tags": []
          },
          "execution_count": 58
        }
      ]
    },
    {
      "cell_type": "markdown",
      "metadata": {
        "id": "Dgm98dj9cdjw",
        "colab_type": "text"
      },
      "source": [
        "For illustration purposes, let's select **\"united_states\"**"
      ]
    },
    {
      "cell_type": "code",
      "metadata": {
        "id": "K7pRJ0g9cbKw",
        "colab_type": "code",
        "colab": {}
      },
      "source": [
        "country = \"united_states\"\n",
        "sent_country_df = sent_all_stack_avail_df[sent_all_stack_avail_df['Country_A_Std'] == country]"
      ],
      "execution_count": 0,
      "outputs": []
    },
    {
      "cell_type": "markdown",
      "metadata": {
        "id": "OtFvPHL-cigx",
        "colab_type": "text"
      },
      "source": [
        "With the help of Plotly, we are able to illustrate the sentiments on a world map."
      ]
    },
    {
      "cell_type": "code",
      "metadata": {
        "id": "d8EoerAwcjKK",
        "colab_type": "code",
        "outputId": "bf63b9e5-38d7-4110-a5a8-c72cb209dab8",
        "colab": {
          "base_uri": "https://localhost:8080/",
          "height": 633
        }
      },
      "source": [
        "# https://plot.ly/python/bubble-maps/\n",
        "\n",
        "import plotly.express as px\n",
        "fig = px.scatter_geo(sent_country_df,\n",
        "                     locations=\"country_B_ISO\",\n",
        "                     color=\"Predictions_Probas\",\n",
        "                     hover_name=\"Country_B_Std\",\n",
        "                     projection=\"natural earth\")\n",
        "\n",
        "# To show smaller countries\n",
        "fig.update_layout({\n",
        "    'geo': {\n",
        "        'resolution': 50\n",
        "    }\n",
        "})\n",
        "\n",
        "\n",
        "fig.show()"
      ],
      "execution_count": 0,
      "outputs": [
        {
          "output_type": "stream",
          "text": [
            "WARNING:tensorflow:Unresolved object in checkpoint: (root).optimizer.iter\n",
            "WARNING:tensorflow:A checkpoint was restored (e.g. tf.train.Checkpoint.restore or tf.keras.Model.load_weights) but not all checkpointed values were used. See above for specific issues. Use expect_partial() on the load status object, e.g. tf.train.Checkpoint.restore(...).expect_partial(), to silence these warnings, or use assert_consumed() to make the check explicit. See https://www.tensorflow.org/alpha/guide/checkpoints#loading_mechanics for details.\n",
            "WARNING:tensorflow:Unresolved object in checkpoint: (root).optimizer.iter\n",
            "WARNING:tensorflow:A checkpoint was restored (e.g. tf.train.Checkpoint.restore or tf.keras.Model.load_weights) but not all checkpointed values were used. See above for specific issues. Use expect_partial() on the load status object, e.g. tf.train.Checkpoint.restore(...).expect_partial(), to silence these warnings, or use assert_consumed() to make the check explicit. See https://www.tensorflow.org/alpha/guide/checkpoints#loading_mechanics for details.\n"
          ],
          "name": "stdout"
        },
        {
          "output_type": "display_data",
          "data": {
            "text/html": [
              "<html>\n",
              "<head><meta charset=\"utf-8\" /></head>\n",
              "<body>\n",
              "    <div>\n",
              "            <script src=\"https://cdnjs.cloudflare.com/ajax/libs/mathjax/2.7.5/MathJax.js?config=TeX-AMS-MML_SVG\"></script><script type=\"text/javascript\">if (window.MathJax) {MathJax.Hub.Config({SVG: {font: \"STIX-Web\"}});}</script>\n",
              "                <script type=\"text/javascript\">window.PlotlyConfig = {MathJaxConfig: 'local'};</script>\n",
              "        <script src=\"https://cdn.plot.ly/plotly-latest.min.js\"></script>    \n",
              "            <div id=\"89bb0340-092e-4b1b-a377-dfe9270224ae\" class=\"plotly-graph-div\" style=\"height:525px; width:100%;\"></div>\n",
              "            <script type=\"text/javascript\">\n",
              "                \n",
              "                    window.PLOTLYENV=window.PLOTLYENV || {};\n",
              "                    \n",
              "                if (document.getElementById(\"89bb0340-092e-4b1b-a377-dfe9270224ae\")) {\n",
              "                    Plotly.newPlot(\n",
              "                        '89bb0340-092e-4b1b-a377-dfe9270224ae',\n",
              "                        [{\"geo\": \"geo\", \"hoverlabel\": {\"namelength\": 0}, \"hovertemplate\": \"<b>%{hovertext}</b><br><br>country_B_ISO=%{location}<br>Predictions_Probas=%{marker.color}\", \"hovertext\": [\"uzbekistan\", \"uzbekistan\", \"uzbekistan\", \"uzbekistan\", \"uzbekistan\", \"uzbekistan\", \"uzbekistan\", \"uzbekistan\", \"yemen\", \"yemen\", \"yemen\", \"vanuatu\", \"vanuatu\", \"vanuatu\", \"zambia\", \"zambia\", \"zambia\", \"zambia\", \"zambia\", \"zambia\", \"zambia\", \"zambia\", \"zambia\", \"vietnam\", \"vietnam\", \"vietnam\", \"vietnam\", \"vietnam\", \"vietnam\", \"vietnam\", \"vietnam\", \"vietnam\", \"vietnam\", \"venezuela\", \"venezuela\", \"venezuela\", \"venezuela\", \"venezuela\", \"venezuela\", \"venezuela\", \"venezuela\", \"venezuela\", \"venezuela\", \"venezuela\", \"uruguay\", \"russia\", \"russia\", \"russia\", \"russia\", \"iraq\", \"iraq\", \"iraq\", \"iraq\", \"iraq\", \"iraq\", \"iceland\", \"libya\", \"libya\", \"libya\", \"libya\", \"libya\", \"libya\", \"libya\", \"libya\", \"japan\", \"japan\", \"japan\", \"japan\", \"japan\", \"japan\", \"japan\", \"japan\", \"japan\", \"japan\", \"japan\", \"japan\", \"japan\", \"japan\", \"japan\", \"japan\", \"japan\", \"japan\", \"japan\", \"japan\", \"japan\", \"slovakia\", \"senegal\", \"senegal\", \"montenegro\", \"montenegro\", \"kuwait\", \"kuwait\", \"burkina_faso\", \"burkina_faso\", \"israel\", \"israel\", \"israel\", \"israel\", \"israel\", \"israel\", \"israel\", \"israel\", \"israel\", \"israel\", \"israel\", \"israel\", \"israel\", \"israel\", \"israel\", \"grenada\", \"grenada\", \"philippines\", \"philippines\", \"philippines\", \"philippines\", \"philippines\", \"philippines\", \"france\", \"france\", \"france\", \"france\", \"france\", \"france\", \"france\", \"france\", \"central_african_republic\", \"nigeria\", \"nigeria\", \"nigeria\", \"nigeria\", \"nigeria\", \"nigeria\", \"nigeria\", \"nigeria\", \"nigeria\", \"nigeria\", \"nigeria\", \"nigeria\", \"nigeria\", \"nigeria\", \"nigeria\", \"nigeria\", \"laos\", \"laos\", \"azerbaijan\", \"hungary\", \"singapore\", \"singapore\", \"niger\", \"tonga\", \"tonga\", \"tonga\", \"tonga\", \"tonga\", \"tonga\", \"tonga\", \"tonga\", \"tonga\", \"tonga\", \"tonga\", \"tonga\", \"tonga\", \"tonga\", \"tonga\", \"south_africa\", \"south_africa\", \"south_africa\", \"south_africa\", \"united_kingdom\", \"united_kingdom\", \"united_kingdom\", \"united_kingdom\", \"united_kingdom\", \"united_kingdom\", \"united_kingdom\", \"united_kingdom\", \"united_kingdom\", \"united_kingdom\", \"united_kingdom\", \"united_kingdom\", \"bulgaria\", \"bulgaria\", \"lebanon\", \"lebanon\", \"lebanon\", \"lebanon\", \"jordan\", \"jordan\", \"serbia\", \"serbia\", \"serbia\", \"serbia\", \"serbia\", \"serbia\", \"serbia\", \"serbia\", \"serbia\", \"serbia\", \"serbia\", \"serbia\", \"serbia\", \"serbia\", \"serbia\", \"serbia\", \"guinea-bissau\", \"malaysia\", \"malaysia\", \"malaysia\", \"malaysia\", \"malaysia\", \"malaysia\", \"malaysia\", \"malaysia\", \"malaysia\", \"malaysia\", \"finland\", \"cuba\", \"cuba\", \"cuba\", \"cuba\", \"cuba\", \"cuba\", \"cuba\", \"cuba\", \"cuba\", \"cuba\", \"cuba\", \"cuba\", \"cuba\", \"cuba\", \"cuba\", \"cuba\", \"dominican_republic\", \"south_korea\", \"south_korea\", \"south_korea\", \"south_korea\", \"south_korea\", \"south_korea\", \"south_korea\", \"south_korea\", \"south_korea\", \"south_korea\", \"south_korea\", \"tunisia\", \"malta\", \"malta\", \"estonia\", \"estonia\", \"estonia\", \"estonia\", \"sudan\", \"bhutan\", \"bhutan\", \"bhutan\", \"bhutan\", \"peru\", \"peru\", \"peru\", \"peru\", \"peru\", \"kazakhstan\", \"kazakhstan\", \"kazakhstan\", \"kazakhstan\", \"kazakhstan\", \"kazakhstan\", \"kazakhstan\", \"kazakhstan\", \"kazakhstan\", \"kazakhstan\", \"kazakhstan\", \"kazakhstan\", \"kazakhstan\", \"kazakhstan\", \"kazakhstan\", \"kazakhstan\", \"kazakhstan\", \"kazakhstan\", \"kazakhstan\", \"kazakhstan\", \"kazakhstan\", \"kazakhstan\", \"el_salvador\", \"el_salvador\", \"ireland\", \"ireland\", \"ireland\", \"ireland\", \"ireland\", \"ireland\", \"oman\", \"oman\", \"austria\", \"austria\", \"austria\", \"austria\", \"mali\", \"mali\", \"mali\", \"mali\", \"guinea-bissau\", \"haiti\", \"argentina\", \"argentina\", \"argentina\", \"argentina\", \"argentina\", \"guatemala\", \"guatemala\", \"guatemala\", \"guatemala\", \"guatemala\", \"ivory_coast\", \"qatar\", \"iran\", \"iran\", \"iran\", \"iran\", \"iran\", \"iran\", \"iran\", \"iran\", \"iran\", \"iran\", \"iran\", \"iran\", \"iran\", \"iran\", \"iran\", \"iran\", \"iran\", \"iran\", \"iran\", \"iran\", \"iran\", \"s\\u00e3o_tom\\u00e9_and_pr\\u00edncipe\", \"s\\u00e3o_tom\\u00e9_and_pr\\u00edncipe\", \"s\\u00e3o_tom\\u00e9_and_pr\\u00edncipe\", \"s\\u00e3o_tom\\u00e9_and_pr\\u00edncipe\", \"croatia\", \"croatia\", \"croatia\", \"croatia\", \"croatia\", \"croatia\", \"croatia\", \"croatia\", \"croatia\", \"croatia\", \"india\", \"india\", \"india\", \"india\", \"india\", \"india\", \"india\", \"india\", \"india\", \"india\", \"india\", \"india\", \"india\", \"india\", \"japan\", \"japan\", \"japan\", \"japan\", \"japan\", \"japan\", \"japan\", \"japan\", \"japan\", \"japan\", \"japan\", \"japan\", \"japan\", \"japan\", \"japan\", \"japan\", \"japan\", \"japan\", \"japan\", \"japan\", \"japan\", \"new_zealand\", \"new_zealand\", \"new_zealand\", \"new_zealand\", \"new_zealand\", \"new_zealand\", \"pakistan\", \"pakistan\", \"pakistan\", \"pakistan\", \"pakistan\", \"pakistan\", \"pakistan\", \"pakistan\", \"pakistan\", \"pakistan\", \"pakistan\", \"pakistan\", \"pakistan\", \"pakistan\", \"pakistan\", \"pakistan\", \"pakistan\", \"pakistan\", \"mongolia\", \"mongolia\", \"canada\", \"canada\", \"canada\", \"canada\", \"canada\", \"canada\", \"canada\", \"canada\", \"canada\", \"canada\", \"canada\", \"canada\", \"canada\", \"canada\", \"canada\", \"canada\", \"canada\", \"canada\", \"canada\", \"canada\", \"canada\", \"canada\", \"canada\", \"canada\", \"canada\", \"canada\", \"canada\", \"israel\", \"israel\", \"israel\", \"israel\", \"israel\", \"israel\", \"israel\", \"israel\", \"israel\", \"israel\", \"israel\", \"israel\", \"israel\", \"israel\", \"israel\", \"kenya\", \"kenya\", \"kenya\", \"kenya\", \"kenya\", \"kenya\", \"kenya\", \"kenya\", \"kenya\", \"kenya\", \"kenya\", \"rwanda\", \"brazil\", \"brazil\", \"brazil\", \"brazil\", \"brazil\", \"brazil\", \"brazil\", \"brazil\", \"brazil\", \"brazil\", \"brazil\", \"brazil\", \"brazil\", \"china\", \"china\", \"china\", \"china\", \"china\", \"china\", \"china\", \"china\", \"china\", \"china\", \"china\", \"china\", \"china\", \"china\", \"china\", \"china\", \"china\", \"china\", \"china\", \"china\", \"china\", \"china\", \"china\", \"china\", \"china\", \"albania\", \"fiji\", \"fiji\", \"bahrain\", \"bahrain\", \"saint_lucia\", \"panama\", \"germany\", \"germany\", \"portugal\", \"united_kingdom\", \"united_kingdom\", \"united_kingdom\", \"united_kingdom\", \"united_kingdom\", \"united_kingdom\", \"united_kingdom\", \"united_kingdom\", \"united_kingdom\", \"united_kingdom\", \"united_kingdom\", \"united_kingdom\", \"somalia\", \"somalia\", \"belgium\", \"belgium\", \"belgium\", \"botswana\", \"botswana\", \"united_arab_emirates\", \"united_arab_emirates\", \"united_arab_emirates\", \"denmark\", \"denmark\", \"denmark\", \"denmark\", \"chile\", \"chile\", \"chile\", \"chile\", \"chile\", \"chile\", \"chile\", \"chile\", \"chile\", \"togo\", \"togo\", \"togo\", \"togo\", \"togo\", \"togo\", \"togo\", \"togo\", \"togo\", \"togo\", \"togo\", \"togo\", \"togo\", \"togo\", \"togo\", \"togo\", \"togo\", \"moldova\", \"moldova\", \"italy\", \"italy\", \"italy\", \"italy\", \"italy\", \"italy\", \"italy\", \"italy\", \"italy\", \"italy\", \"italy\", \"italy\", \"comoros\", \"georgia\", \"georgia\", \"georgia\", \"georgia\", \"georgia\", \"georgia\", \"georgia\", \"georgia\", \"georgia\", \"brunei\", \"brunei\", \"brunei\", \"brunei\", \"eritrea\", \"chad\", \"saudi_arabia\", \"saudi_arabia\", \"saudi_arabia\", \"saudi_arabia\", \"saudi_arabia\", \"saudi_arabia\", \"saudi_arabia\", \"saudi_arabia\", \"saudi_arabia\", \"saudi_arabia\", \"saudi_arabia\", \"saudi_arabia\", \"saudi_arabia\", \"saudi_arabia\", \"saudi_arabia\", \"saudi_arabia\", \"saudi_arabia\", \"saudi_arabia\", \"saudi_arabia\", \"saudi_arabia\", \"saudi_arabia\", \"saudi_arabia\", \"saudi_arabia\", \"saudi_arabia\", \"saudi_arabia\", \"saudi_arabia\", \"saudi_arabia\", \"saudi_arabia\", \"saudi_arabia\", \"saudi_arabia\", \"saudi_arabia\", \"saudi_arabia\", \"australia\", \"australia\", \"australia\", \"australia\", \"australia\", \"australia\", \"australia\", \"australia\", \"australia\", \"australia\", \"australia\", \"australia\", \"australia\", \"egypt\", \"egypt\", \"egypt\", \"egypt\", \"mauritius\", \"mauritius\", \"mauritius\", \"mauritius\", \"mauritius\", \"mauritius\", \"mauritius\", \"mauritius\", \"mauritius\", \"mauritius\", \"mauritius\", \"mauritius\", \"mauritius\", \"mauritius\", \"mauritius\", \"mauritius\", \"mauritius\", \"mauritius\", \"mauritius\", \"mauritius\", \"mauritius\", \"uganda\", \"angola\", \"cambodia\", \"cambodia\", \"cambodia\", \"cambodia\", \"cambodia\", \"turkey\", \"turkey\", \"turkey\", \"turkey\", \"turkey\", \"turkey\", \"turkey\", \"turkey\", \"ecuador\", \"ecuador\", \"ecuador\", \"ecuador\", \"ecuador\", \"ecuador\", \"ecuador\", \"ecuador\", \"poland\", \"poland\", \"poland\", \"poland\", \"russia\", \"russia\", \"russia\", \"russia\", \"saint_vincent_and_grenadines\", \"saint_vincent_and_grenadines\", \"saint_vincent_and_grenadines\", \"saint_vincent_and_grenadines\", \"saint_vincent_and_grenadines\", \"saint_vincent_and_grenadines\", \"saint_vincent_and_grenadines\", \"saint_vincent_and_grenadines\", \"saint_vincent_and_grenadines\", \"saint_vincent_and_grenadines\", \"saint_vincent_and_grenadines\", \"ghana\", \"ghana\", \"ghana\", \"ghana\", \"ghana\", \"belarus\", \"belarus\", \"belarus\", \"belarus\", \"belarus\", \"sweden\", \"sweden\", \"sweden\", \"sweden\", \"sweden\", \"costa_rica\", \"costa_rica\", \"costa_rica\", \"costa_rica\", \"india\", \"india\", \"india\", \"india\", \"india\", \"india\", \"india\", \"india\", \"india\", \"india\", \"india\", \"india\", \"india\", \"india\", \"greece\", \"greece\", \"greece\", \"greece\", \"greece\", \"greece\", \"greece\", \"greece\", \"mexico\", \"mexico\", \"mexico\", \"mexico\", \"mexico\", \"mexico\", \"mexico\", \"mexico\", \"mexico\", \"mexico\", \"mexico\", \"mexico\", \"mexico\", \"mexico\", \"mexico\", \"mexico\", \"mexico\", \"thailand\", \"thailand\", \"thailand\", \"thailand\", \"thailand\", \"myanmar\", \"myanmar\", \"myanmar\", \"myanmar\", \"myanmar\", \"myanmar\", \"benin\", \"benin\", \"benin\", \"ukraine\", \"ukraine\", \"ukraine\", \"ukraine\", \"ukraine\", \"ukraine\", \"ukraine\", \"ukraine\", \"ukraine\", \"barbados\", \"barbados\", \"barbados\", \"barbados\", \"sri_lanka\", \"sri_lanka\", \"bangladesh\", \"bangladesh\", \"bangladesh\", \"bangladesh\", \"bangladesh\", \"holy_see\", \"holy_see\", \"holy_see\", \"holy_see\", \"sudan\", \"romania\", \"romania\", \"romania\", \"romania\", \"romania\", \"romania\", \"romania\", \"romania\", \"romania\", \"republic_of_congo\", \"republic_of_congo\", \"republic_of_congo\", \"republic_of_congo\", \"republic_of_congo\", \"indonesia\", \"indonesia\", \"indonesia\", \"indonesia\", \"indonesia\", \"indonesia\", \"netherlands\", \"netherlands\", \"netherlands\", \"netherlands\", \"afghanistan\", \"afghanistan\", \"afghanistan\", \"afghanistan\", \"afghanistan\", \"morocco\", \"morocco\", \"morocco\", \"morocco\", \"morocco\", \"morocco\", \"morocco\", \"morocco\", \"morocco\", \"lithuania\", \"lithuania\", \"lithuania\", \"nepal\", \"nepal\", \"colombia\", \"colombia\", \"colombia\", \"colombia\", \"colombia\", \"colombia\", \"colombia\", \"colombia\", \"colombia\", \"colombia\", \"colombia\", \"colombia\", \"cuba\", \"cuba\", \"cuba\", \"cuba\", \"cuba\", \"cuba\", \"cuba\", \"cuba\", \"cuba\", \"cuba\", \"cuba\", \"cuba\", \"cuba\", \"cuba\", \"cuba\", \"cuba\", \"honduras\", \"honduras\", \"honduras\", \"honduras\", \"honduras\", \"honduras\", \"honduras\", \"honduras\", \"honduras\", \"honduras\", \"honduras\", \"spain\", \"spain\", \"spain\", \"spain\", \"spain\", \"spain\", \"spain\", \"spain\", \"east_timor\", \"iran\", \"iran\", \"iran\", \"iran\", \"iran\", \"iran\", \"iran\", \"iran\", \"iran\", \"iran\", \"iran\", \"iran\", \"iran\", \"iran\", \"iran\", \"iran\", \"iran\", \"iran\", \"iran\", \"iran\", \"iran\", \"norway\", \"norway\", \"norway\", \"norway\", \"norway\", \"norway\", \"norway\", \"norway\", \"norway\", \"norway\", \"norway\", \"norway\", \"norway\", \"bosnia_and_herzegovina\", \"bosnia_and_herzegovina\", \"bosnia_and_herzegovina\", \"bosnia_and_herzegovina\", \"bosnia_and_herzegovina\", \"bosnia_and_herzegovina\", \"cyprus\", \"cyprus\", \"malawi\", \"malawi\", \"malawi\", \"malawi\", \"malawi\", \"malawi\", \"malawi\", \"malawi\", \"malawi\", \"malawi\", \"malawi\", \"malawi\", \"pakistan\", \"pakistan\", \"pakistan\", \"pakistan\", \"pakistan\", \"pakistan\", \"pakistan\", \"pakistan\", \"pakistan\", \"pakistan\", \"pakistan\", \"pakistan\", \"pakistan\", \"pakistan\", \"pakistan\", \"pakistan\", \"pakistan\", \"pakistan\", \"algeria\", \"algeria\", \"algeria\", \"algeria\", \"algeria\", \"algeria\", \"palau\", \"palau\", \"belize\", \"belize\", \"belize\", \"belize\", \"belize\", \"china\", \"china\", \"china\", \"china\", \"china\", \"china\", \"china\", \"china\", \"china\", \"china\", \"china\", \"china\", \"china\", \"china\", \"china\", \"china\", \"china\", \"china\", \"china\", \"china\", \"china\", \"china\", \"china\", \"china\", \"china\", \"tajikistan\", \"paraguay\", \"trinidad_and_tobago\", \"trinidad_and_tobago\", \"trinidad_and_tobago\", \"trinidad_and_tobago\", \"saudi_arabia\", \"saudi_arabia\", \"saudi_arabia\", \"saudi_arabia\", \"saudi_arabia\", \"saudi_arabia\", \"saudi_arabia\", \"saudi_arabia\", \"saudi_arabia\", \"saudi_arabia\", \"saudi_arabia\", \"saudi_arabia\", \"saudi_arabia\", \"saudi_arabia\", \"saudi_arabia\", \"saudi_arabia\", \"saudi_arabia\", \"saudi_arabia\", \"saudi_arabia\", \"saudi_arabia\", \"saudi_arabia\", \"saudi_arabia\", \"saudi_arabia\", \"saudi_arabia\", \"saudi_arabia\", \"saudi_arabia\", \"saudi_arabia\", \"saudi_arabia\", \"saudi_arabia\", \"saudi_arabia\", \"saudi_arabia\", \"saudi_arabia\"], \"legendgroup\": \"\", \"locations\": [\"UZB\", \"UZB\", \"UZB\", \"UZB\", \"UZB\", \"UZB\", \"UZB\", \"UZB\", \"YEM\", \"YEM\", \"YEM\", \"VUT\", \"VUT\", \"VUT\", \"ZMB\", \"ZMB\", \"ZMB\", \"ZMB\", \"ZMB\", \"ZMB\", \"ZMB\", \"ZMB\", \"ZMB\", \"VNM\", \"VNM\", \"VNM\", \"VNM\", \"VNM\", \"VNM\", \"VNM\", \"VNM\", \"VNM\", \"VNM\", \"VEN\", \"VEN\", \"VEN\", \"VEN\", \"VEN\", \"VEN\", \"VEN\", \"VEN\", \"VEN\", \"VEN\", \"VEN\", \"URY\", \"RUS\", \"RUS\", \"RUS\", \"RUS\", \"IRQ\", \"IRQ\", \"IRQ\", \"IRQ\", \"IRQ\", \"IRQ\", \"ISL\", \"LBY\", \"LBY\", \"LBY\", \"LBY\", \"LBY\", \"LBY\", \"LBY\", \"LBY\", \"JPN\", \"JPN\", \"JPN\", \"JPN\", \"JPN\", \"JPN\", \"JPN\", \"JPN\", \"JPN\", \"JPN\", \"JPN\", \"JPN\", \"JPN\", \"JPN\", \"JPN\", \"JPN\", \"JPN\", \"JPN\", \"JPN\", \"JPN\", \"JPN\", \"SVK\", \"SEN\", \"SEN\", \"MNE\", \"MNE\", \"KWT\", \"KWT\", \"BFA\", \"BFA\", \"ISR\", \"ISR\", \"ISR\", \"ISR\", \"ISR\", \"ISR\", \"ISR\", \"ISR\", \"ISR\", \"ISR\", \"ISR\", \"ISR\", \"ISR\", \"ISR\", \"ISR\", \"GRD\", \"GRD\", \"PHL\", \"PHL\", \"PHL\", \"PHL\", \"PHL\", \"PHL\", \"FRA\", \"FRA\", \"FRA\", \"FRA\", \"FRA\", \"FRA\", \"FRA\", \"FRA\", \"CAF\", \"NGA\", \"NGA\", \"NGA\", \"NGA\", \"NGA\", \"NGA\", \"NGA\", \"NGA\", \"NGA\", \"NGA\", \"NGA\", \"NGA\", \"NGA\", \"NGA\", \"NGA\", \"NGA\", \"Not Available\", \"Not Available\", \"AZE\", \"HUN\", \"SGP\", \"SGP\", \"NER\", \"TON\", \"TON\", \"TON\", \"TON\", \"TON\", \"TON\", \"TON\", \"TON\", \"TON\", \"TON\", \"TON\", \"TON\", \"TON\", \"TON\", \"TON\", \"ZAF\", \"ZAF\", \"ZAF\", \"ZAF\", \"GBR\", \"GBR\", \"GBR\", \"GBR\", \"GBR\", \"GBR\", \"GBR\", \"GBR\", \"GBR\", \"GBR\", \"GBR\", \"GBR\", \"BGR\", \"BGR\", \"LBN\", \"LBN\", \"LBN\", \"LBN\", \"JOR\", \"JOR\", \"SRB\", \"SRB\", \"SRB\", \"SRB\", \"SRB\", \"SRB\", \"SRB\", \"SRB\", \"SRB\", \"SRB\", \"SRB\", \"SRB\", \"SRB\", \"SRB\", \"SRB\", \"SRB\", \"GNB\", \"MYS\", \"MYS\", \"MYS\", \"MYS\", \"MYS\", \"MYS\", \"MYS\", \"MYS\", \"MYS\", \"MYS\", \"FIN\", \"CUB\", \"CUB\", \"CUB\", \"CUB\", \"CUB\", \"CUB\", \"CUB\", \"CUB\", \"CUB\", \"CUB\", \"CUB\", \"CUB\", \"CUB\", \"CUB\", \"CUB\", \"CUB\", \"DOM\", \"PRK\", \"PRK\", \"PRK\", \"PRK\", \"PRK\", \"PRK\", \"PRK\", \"PRK\", \"PRK\", \"PRK\", \"PRK\", \"TUN\", \"MLT\", \"MLT\", \"EST\", \"EST\", \"EST\", \"EST\", \"SDN\", \"BTN\", \"BTN\", \"BTN\", \"BTN\", \"PER\", \"PER\", \"PER\", \"PER\", \"PER\", \"KAZ\", \"KAZ\", \"KAZ\", \"KAZ\", \"KAZ\", \"KAZ\", \"KAZ\", \"KAZ\", \"KAZ\", \"KAZ\", \"KAZ\", \"KAZ\", \"KAZ\", \"KAZ\", \"KAZ\", \"KAZ\", \"KAZ\", \"KAZ\", \"KAZ\", \"KAZ\", \"KAZ\", \"KAZ\", \"SLV\", \"SLV\", \"IRL\", \"IRL\", \"IRL\", \"IRL\", \"IRL\", \"IRL\", \"OMN\", \"OMN\", \"AUT\", \"AUT\", \"AUT\", \"AUT\", \"MLI\", \"MLI\", \"MLI\", \"MLI\", \"GNB\", \"HTI\", \"ARG\", \"ARG\", \"ARG\", \"ARG\", \"ARG\", \"GTM\", \"GTM\", \"GTM\", \"GTM\", \"GTM\", \"CIV\", \"QAT\", \"IRN\", \"IRN\", \"IRN\", \"IRN\", \"IRN\", \"IRN\", \"IRN\", \"IRN\", \"IRN\", \"IRN\", \"IRN\", \"IRN\", \"IRN\", \"IRN\", \"IRN\", \"IRN\", \"IRN\", \"IRN\", \"IRN\", \"IRN\", \"IRN\", \"Not Available\", \"Not Available\", \"Not Available\", \"Not Available\", \"HRV\", \"HRV\", \"HRV\", \"HRV\", \"HRV\", \"HRV\", \"HRV\", \"HRV\", \"HRV\", \"HRV\", \"IND\", \"IND\", \"IND\", \"IND\", \"IND\", \"IND\", \"IND\", \"IND\", \"IND\", \"IND\", \"IND\", \"IND\", \"IND\", \"IND\", \"JPN\", \"JPN\", \"JPN\", \"JPN\", \"JPN\", \"JPN\", \"JPN\", \"JPN\", \"JPN\", \"JPN\", \"JPN\", \"JPN\", \"JPN\", \"JPN\", \"JPN\", \"JPN\", \"JPN\", \"JPN\", \"JPN\", \"JPN\", \"JPN\", \"NZL\", \"NZL\", \"NZL\", \"NZL\", \"NZL\", \"NZL\", \"PAK\", \"PAK\", \"PAK\", \"PAK\", \"PAK\", \"PAK\", \"PAK\", \"PAK\", \"PAK\", \"PAK\", \"PAK\", \"PAK\", \"PAK\", \"PAK\", \"PAK\", \"PAK\", \"PAK\", \"PAK\", \"MNG\", \"MNG\", \"CAN\", \"CAN\", \"CAN\", \"CAN\", \"CAN\", \"CAN\", \"CAN\", \"CAN\", \"CAN\", \"CAN\", \"CAN\", \"CAN\", \"CAN\", \"CAN\", \"CAN\", \"CAN\", \"CAN\", \"CAN\", \"CAN\", \"CAN\", \"CAN\", \"CAN\", \"CAN\", \"CAN\", \"CAN\", \"CAN\", \"CAN\", \"ISR\", \"ISR\", \"ISR\", \"ISR\", \"ISR\", \"ISR\", \"ISR\", \"ISR\", \"ISR\", \"ISR\", \"ISR\", \"ISR\", \"ISR\", \"ISR\", \"ISR\", \"KEN\", \"KEN\", \"KEN\", \"KEN\", \"KEN\", \"KEN\", \"KEN\", \"KEN\", \"KEN\", \"KEN\", \"KEN\", \"RWA\", \"BRA\", \"BRA\", \"BRA\", \"BRA\", \"BRA\", \"BRA\", \"BRA\", \"BRA\", \"BRA\", \"BRA\", \"BRA\", \"BRA\", \"BRA\", \"CHN\", \"CHN\", \"CHN\", \"CHN\", \"CHN\", \"CHN\", \"CHN\", \"CHN\", \"CHN\", \"CHN\", \"CHN\", \"CHN\", \"CHN\", \"CHN\", \"CHN\", \"CHN\", \"CHN\", \"CHN\", \"CHN\", \"CHN\", \"CHN\", \"CHN\", \"CHN\", \"CHN\", \"CHN\", \"ALB\", \"FJI\", \"FJI\", \"BHR\", \"BHR\", \"LCA\", \"PAN\", \"DEU\", \"DEU\", \"PRT\", \"GBR\", \"GBR\", \"GBR\", \"GBR\", \"GBR\", \"GBR\", \"GBR\", \"GBR\", \"GBR\", \"GBR\", \"GBR\", \"GBR\", \"SOM\", \"SOM\", \"BEL\", \"BEL\", \"BEL\", \"BWA\", \"BWA\", \"ARE\", \"ARE\", \"ARE\", \"DNK\", \"DNK\", \"DNK\", \"DNK\", \"CHL\", \"CHL\", \"CHL\", \"CHL\", \"CHL\", \"CHL\", \"CHL\", \"CHL\", \"CHL\", \"TGO\", \"TGO\", \"TGO\", \"TGO\", \"TGO\", \"TGO\", \"TGO\", \"TGO\", \"TGO\", \"TGO\", \"TGO\", \"TGO\", \"TGO\", \"TGO\", \"TGO\", \"TGO\", \"TGO\", \"MDA\", \"MDA\", \"ITA\", \"ITA\", \"ITA\", \"ITA\", \"ITA\", \"ITA\", \"ITA\", \"ITA\", \"ITA\", \"ITA\", \"ITA\", \"ITA\", \"COM\", \"GEO\", \"GEO\", \"GEO\", \"GEO\", \"GEO\", \"GEO\", \"GEO\", \"GEO\", \"GEO\", \"Not Available\", \"Not Available\", \"Not Available\", \"Not Available\", \"ERI\", \"TCD\", \"SAU\", \"SAU\", \"SAU\", \"SAU\", \"SAU\", \"SAU\", \"SAU\", \"SAU\", \"SAU\", \"SAU\", \"SAU\", \"SAU\", \"SAU\", \"SAU\", \"SAU\", \"SAU\", \"SAU\", \"SAU\", \"SAU\", \"SAU\", \"SAU\", \"SAU\", \"SAU\", \"SAU\", \"SAU\", \"SAU\", \"SAU\", \"SAU\", \"SAU\", \"SAU\", \"SAU\", \"SAU\", \"AUS\", \"AUS\", \"AUS\", \"AUS\", \"AUS\", \"AUS\", \"AUS\", \"AUS\", \"AUS\", \"AUS\", \"AUS\", \"AUS\", \"AUS\", \"EGY\", \"EGY\", \"EGY\", \"EGY\", \"MUS\", \"MUS\", \"MUS\", \"MUS\", \"MUS\", \"MUS\", \"MUS\", \"MUS\", \"MUS\", \"MUS\", \"MUS\", \"MUS\", \"MUS\", \"MUS\", \"MUS\", \"MUS\", \"MUS\", \"MUS\", \"MUS\", \"MUS\", \"MUS\", \"UGA\", \"AGO\", \"KHM\", \"KHM\", \"KHM\", \"KHM\", \"KHM\", \"TUR\", \"TUR\", \"TUR\", \"TUR\", \"TUR\", \"TUR\", \"TUR\", \"TUR\", \"ECU\", \"ECU\", \"ECU\", \"ECU\", \"ECU\", \"ECU\", \"ECU\", \"ECU\", \"POL\", \"POL\", \"POL\", \"POL\", \"RUS\", \"RUS\", \"RUS\", \"RUS\", \"VCT\", \"VCT\", \"VCT\", \"VCT\", \"VCT\", \"VCT\", \"VCT\", \"VCT\", \"VCT\", \"VCT\", \"VCT\", \"GHA\", \"GHA\", \"GHA\", \"GHA\", \"GHA\", \"BLR\", \"BLR\", \"BLR\", \"BLR\", \"BLR\", \"SWE\", \"SWE\", \"SWE\", \"SWE\", \"SWE\", \"CRI\", \"CRI\", \"CRI\", \"CRI\", \"IND\", \"IND\", \"IND\", \"IND\", \"IND\", \"IND\", \"IND\", \"IND\", \"IND\", \"IND\", \"IND\", \"IND\", \"IND\", \"IND\", \"GRC\", \"GRC\", \"GRC\", \"GRC\", \"GRC\", \"GRC\", \"GRC\", \"GRC\", \"MEX\", \"MEX\", \"MEX\", \"MEX\", \"MEX\", \"MEX\", \"MEX\", \"MEX\", \"MEX\", \"MEX\", \"MEX\", \"MEX\", \"MEX\", \"MEX\", \"MEX\", \"MEX\", \"MEX\", \"THA\", \"THA\", \"THA\", \"THA\", \"THA\", \"MMR\", \"MMR\", \"MMR\", \"MMR\", \"MMR\", \"MMR\", \"BEN\", \"BEN\", \"BEN\", \"UKR\", \"UKR\", \"UKR\", \"UKR\", \"UKR\", \"UKR\", \"UKR\", \"UKR\", \"UKR\", \"BRB\", \"BRB\", \"BRB\", \"BRB\", \"LKA\", \"LKA\", \"BGD\", \"BGD\", \"BGD\", \"BGD\", \"BGD\", \"VAT\", \"VAT\", \"VAT\", \"VAT\", \"SDN\", \"ROU\", \"ROU\", \"ROU\", \"ROU\", \"ROU\", \"ROU\", \"ROU\", \"ROU\", \"ROU\", \"COG\", \"COG\", \"COG\", \"COG\", \"COG\", \"IDN\", \"IDN\", \"IDN\", \"IDN\", \"IDN\", \"IDN\", \"NLD\", \"NLD\", \"NLD\", \"NLD\", \"AFG\", \"AFG\", \"AFG\", \"AFG\", \"AFG\", \"MAR\", \"MAR\", \"MAR\", \"MAR\", \"MAR\", \"MAR\", \"MAR\", \"MAR\", \"MAR\", \"LTU\", \"LTU\", \"LTU\", \"NPL\", \"NPL\", \"COL\", \"COL\", \"COL\", \"COL\", \"COL\", \"COL\", \"COL\", \"COL\", \"COL\", \"COL\", \"COL\", \"COL\", \"CUB\", \"CUB\", \"CUB\", \"CUB\", \"CUB\", \"CUB\", \"CUB\", \"CUB\", \"CUB\", \"CUB\", \"CUB\", \"CUB\", \"CUB\", \"CUB\", \"CUB\", \"CUB\", \"HND\", \"HND\", \"HND\", \"HND\", \"HND\", \"HND\", \"HND\", \"HND\", \"HND\", \"HND\", \"HND\", \"ESP\", \"ESP\", \"ESP\", \"ESP\", \"ESP\", \"ESP\", \"ESP\", \"ESP\", \"TLS\", \"IRN\", \"IRN\", \"IRN\", \"IRN\", \"IRN\", \"IRN\", \"IRN\", \"IRN\", \"IRN\", \"IRN\", \"IRN\", \"IRN\", \"IRN\", \"IRN\", \"IRN\", \"IRN\", \"IRN\", \"IRN\", \"IRN\", \"IRN\", \"IRN\", \"NOR\", \"NOR\", \"NOR\", \"NOR\", \"NOR\", \"NOR\", \"NOR\", \"NOR\", \"NOR\", \"NOR\", \"NOR\", \"NOR\", \"NOR\", \"BIH\", \"BIH\", \"BIH\", \"BIH\", \"BIH\", \"BIH\", \"CYP\", \"CYP\", \"MWI\", \"MWI\", \"MWI\", \"MWI\", \"MWI\", \"MWI\", \"MWI\", \"MWI\", \"MWI\", \"MWI\", \"MWI\", \"MWI\", \"PAK\", \"PAK\", \"PAK\", \"PAK\", \"PAK\", \"PAK\", \"PAK\", \"PAK\", \"PAK\", \"PAK\", \"PAK\", \"PAK\", \"PAK\", \"PAK\", \"PAK\", \"PAK\", \"PAK\", \"PAK\", \"DZA\", \"DZA\", \"DZA\", \"DZA\", \"DZA\", \"DZA\", \"PLW\", \"PLW\", \"BLZ\", \"BLZ\", \"BLZ\", \"BLZ\", \"BLZ\", \"CHN\", \"CHN\", \"CHN\", \"CHN\", \"CHN\", \"CHN\", \"CHN\", \"CHN\", \"CHN\", \"CHN\", \"CHN\", \"CHN\", \"CHN\", \"CHN\", \"CHN\", \"CHN\", \"CHN\", \"CHN\", \"CHN\", \"CHN\", \"CHN\", \"CHN\", \"CHN\", \"CHN\", \"CHN\", \"TJK\", \"PRY\", \"TTO\", \"TTO\", \"TTO\", \"TTO\", \"SAU\", \"SAU\", \"SAU\", \"SAU\", \"SAU\", \"SAU\", \"SAU\", \"SAU\", \"SAU\", \"SAU\", \"SAU\", \"SAU\", \"SAU\", \"SAU\", \"SAU\", \"SAU\", \"SAU\", \"SAU\", \"SAU\", \"SAU\", \"SAU\", \"SAU\", \"SAU\", \"SAU\", \"SAU\", \"SAU\", \"SAU\", \"SAU\", \"SAU\", \"SAU\", \"SAU\", \"SAU\"], \"marker\": {\"color\": [0.9903278350830078, 0.9258717894554138, 0.03301486372947693, 0.9802740812301636, 0.4777415096759796, 0.988888680934906, 0.988916277885437, 0.9819125533103943, 0.03735635429620743, 0.09942951053380966, 0.1228761076927185, 0.6797173619270325, 0.9803004860877991, 0.9903771281242371, 0.9902564883232117, 0.9763308167457581, 0.5212607383728027, 0.03808004409074783, 0.983282208442688, 0.9061954021453857, 0.31913211941719055, 0.9778064489364624, 0.9545751810073853, 0.9887194037437439, 0.9865584969520569, 0.9895386695861816, 0.3730819523334503, 0.9710715413093567, 0.9722254276275635, 0.9654565453529358, 0.988295316696167, 0.980549156665802, 0.8865543007850647, 0.8789016008377075, 0.6558321118354797, 0.9869552850723267, 0.9600448608398438, 0.013157621957361698, 0.02311776578426361, 0.9357139468193054, 0.013683650642633438, 0.08746157586574554, 0.09506958723068237, 0.020944947376847267, 0.9743028879165649, 0.9242598414421082, 0.9835892915725708, 0.01635131798684597, 0.013922506012022495, 0.9882948398590088, 0.9876456260681152, 0.9855538010597229, 0.044090647250413895, 0.9768977165222168, 0.9907414317131042, 0.9894940853118896, 0.5034304857254028, 0.985800564289093, 0.06235779821872711, 0.041487377136945724, 0.031916823238134384, 0.8965003490447998, 0.06193956732749939, 0.0769646167755127, 0.9639303088188171, 0.9729312658309937, 0.9886718392372131, 0.9904402494430542, 0.9876677989959717, 0.9875011444091797, 0.07457474619150162, 0.017027540132403374, 0.01653827354311943, 0.015336062759160995, 0.013809616677463055, 0.02052626945078373, 0.984883189201355, 0.9882239103317261, 0.9750896692276001, 0.9857234954833984, 0.986883819103241, 0.9907961487770081, 0.9904657006263733, 0.9904651045799255, 0.94557785987854, 0.02795945666730404, 0.988933801651001, 0.9875715374946594, 0.9839296936988831, 0.16088160872459412, 0.9724045991897583, 0.7853917479515076, 0.050770729780197144, 0.9587175250053406, 0.9811742305755615, 0.9204964637756348, 0.9218602180480957, 0.4246077239513397, 0.9843471646308899, 0.9902143478393555, 0.9862114787101746, 0.9234774708747864, 0.47251707315444946, 0.908193826675415, 0.9357872605323792, 0.9915353059768677, 0.9807658791542053, 0.03220202028751373, 0.9785273671150208, 0.9849993586540222, 0.9898694157600403, 0.04115939512848854, 0.9873039126396179, 0.34171801805496216, 0.987754225730896, 0.990883469581604, 0.02726256288588047, 0.9887055158615112, 0.8210367560386658, 0.5513240694999695, 0.8592293858528137, 0.9882355332374573, 0.8448930978775024, 0.9048131108283997, 0.8458470106124878, 0.7695845365524292, 0.5997339487075806, 0.9906385540962219, 0.9762527346611023, 0.9306373596191406, 0.9681133031845093, 0.9872229695320129, 0.01641753315925598, 0.09327973425388336, 0.9782524704933167, 0.9893156290054321, 0.22872819006443024, 0.8581562638282776, 0.5749895572662354, 0.9904399514198303, 0.4403957426548004, 0.9514491558074951, 0.8380817770957947, 0.9894313216209412, 0.4528568685054779, 0.6470261216163635, 0.9904924035072327, 0.08342763036489487, 0.8712990283966064, 0.9895274639129639, 0.9891878962516785, 0.9898216724395752, 0.973922610282898, 0.982810914516449, 0.9895809888839722, 0.9326935410499573, 0.41604411602020264, 0.1079876497387886, 0.9813465476036072, 0.44259113073349, 0.9865728616714478, 0.14630456268787384, 0.022688087075948715, 0.6051450967788696, 0.9885494112968445, 0.9883970022201538, 0.9752487540245056, 0.981093168258667, 0.9857863187789917, 0.9889436364173889, 0.3482884466648102, 0.9894099831581116, 0.9224351048469543, 0.957499623298645, 0.9899859428405762, 0.9263967275619507, 0.19556447863578796, 0.9844622611999512, 0.5421558022499084, 0.989896297454834, 0.9724631309509277, 0.29050108790397644, 0.7004779577255249, 0.017489515244960785, 0.9451194405555725, 0.22358523309230804, 0.9620206952095032, 0.9803941249847412, 0.9897805452346802, 0.9884350299835205, 0.6521075367927551, 0.5459848046302795, 0.8907711505889893, 0.11660991609096527, 0.02177281118929386, 0.5086423754692078, 0.9661024808883667, 0.9871200323104858, 0.021049384027719498, 0.9789365530014038, 0.9725486636161804, 0.9871951341629028, 0.9821212291717529, 0.9896422028541565, 0.019082145765423775, 0.07268048822879791, 0.5657462477684021, 0.02848239615559578, 0.954003632068634, 0.9791343212127686, 0.9785959124565125, 0.6985103487968445, 0.9887563586235046, 0.9569060802459717, 0.9728441834449768, 0.8787362575531006, 0.01714467629790306, 0.14665010571479797, 0.019065983593463898, 0.7969222664833069, 0.9172483086585999, 0.9638944864273071, 0.016521714627742767, 0.1396186798810959, 0.07040997594594955, 0.9627969861030579, 0.10718654096126556, 0.9899077415466309, 0.9653310775756836, 0.6278465390205383, 0.9722518920898438, 0.9892410039901733, 0.8594865202903748, 0.7541614174842834, 0.9824055433273315, 0.9892832636833191, 0.9703730344772339, 0.9867457747459412, 0.9610044956207275, 0.8763214349746704, 0.97705078125, 0.9904556274414062, 0.7856296896934509, 0.9755927324295044, 0.9868203997612, 0.9903814792633057, 0.6070419549942017, 0.9875897169113159, 0.990972101688385, 0.9893280267715454, 0.7920608520507812, 0.07353918254375458, 0.9891234040260315, 0.9841702580451965, 0.9080819487571716, 0.9899277687072754, 0.02817760407924652, 0.18510331213474274, 0.9840636253356934, 0.9019745588302612, 0.111836738884449, 0.9897711873054504, 0.2632521390914917, 0.9663383960723877, 0.9867244362831116, 0.27558693289756775, 0.9888103008270264, 0.9779835343360901, 0.8943707942962646, 0.22402574121952057, 0.9832348227500916, 0.92410808801651, 0.5349011421203613, 0.9881870150566101, 0.3195624351501465, 0.7518832087516785, 0.022225873544812202, 0.9785334467887878, 0.9814077615737915, 0.10552206635475159, 0.7685574293136597, 0.9160683751106262, 0.03128228336572647, 0.028210647404193878, 0.9715816974639893, 0.9877176880836487, 0.9851261377334595, 0.9744296073913574, 0.6378013491630554, 0.9760396480560303, 0.04848095029592514, 0.9292526841163635, 0.9885615706443787, 0.5763952136039734, 0.9883288145065308, 0.9605723023414612, 0.9302486181259155, 0.8821088075637817, 0.03185493126511574, 0.9795863628387451, 0.9626197814941406, 0.859560489654541, 0.3690294623374939, 0.9836251735687256, 0.26670095324516296, 0.9805530905723572, 0.7652795314788818, 0.3035966753959656, 0.9033697843551636, 0.09740804135799408, 0.8689233064651489, 0.052671194076538086, 0.324249267578125, 0.9902294278144836, 0.9858340620994568, 0.822955846786499, 0.9886311292648315, 0.9872759580612183, 0.9860461950302124, 0.4332980215549469, 0.5179227590560913, 0.021001407876610756, 0.12555627524852753, 0.2044258564710617, 0.13913187384605408, 0.017372457310557365, 0.14120616018772125, 0.9844555258750916, 0.08286195248365402, 0.98853999376297, 0.38979509472846985, 0.9315413236618042, 0.16674065589904785, 0.9857260584831238, 0.9912551641464233, 0.17524729669094086, 0.987005889415741, 0.9874380230903625, 0.9890842437744141, 0.9904338121414185, 0.9845537543296814, 0.9885907173156738, 0.892879843711853, 0.9875426292419434, 0.9855874180793762, 0.9880533814430237, 0.9901731014251709, 0.14228029549121857, 0.9894454479217529, 0.9803882241249084, 0.983103334903717, 0.9887873530387878, 0.9711689949035645, 0.9856598973274231, 0.9608017802238464, 0.22926226258277893, 0.9900932908058167, 0.988182008266449, 0.982263445854187, 0.9903508424758911, 0.9079728126525879, 0.989981472492218, 0.9888653755187988, 0.9834238886833191, 0.9639303088188171, 0.9729312658309937, 0.9886718392372131, 0.9904402494430542, 0.9876677989959717, 0.9875011444091797, 0.02007819153368473, 0.017027540132403374, 0.01653827354311943, 0.015336062759160995, 0.013809616677463055, 0.02052626945078373, 0.984883189201355, 0.9882239103317261, 0.9750896692276001, 0.9857234954833984, 0.986883819103241, 0.9907961487770081, 0.9904657006263733, 0.9904651045799255, 0.94557785987854, 0.9759677052497864, 0.9732282161712646, 0.9839574098587036, 0.9476821422576904, 0.8430238366127014, 0.9902473092079163, 0.9892764687538147, 0.46024397015571594, 0.039679937064647675, 0.8970088958740234, 0.052182309329509735, 0.9436042904853821, 0.4299856424331665, 0.05873885750770569, 0.7843363285064697, 0.14389130473136902, 0.7214798331260681, 0.9757146239280701, 0.9282270073890686, 0.4098474979400635, 0.9573317766189575, 0.9869728088378906, 0.7787234783172607, 0.15199494361877441, 0.8028212785720825, 0.7450935244560242, 0.9886122941970825, 0.9886592030525208, 0.023268839344382286, 0.022711927071213722, 0.9896419644355774, 0.22296933829784393, 0.9698293209075928, 0.03585207834839821, 0.9701481461524963, 0.9819139242172241, 0.8929833173751831, 0.8010050058364868, 0.9810172319412231, 0.8384777307510376, 0.9097244739532471, 0.9723595976829529, 0.9887194037437439, 0.01818050816655159, 0.6138487458229065, 0.897489607334137, 0.9873194694519043, 0.9876920580863953, 0.8577781319618225, 0.2589390277862549, 0.05890251323580742, 0.9695608019828796, 0.11756999790668488, 0.9811742305755615, 0.9204964637756348, 0.9218602180480957, 0.4246077239513397, 0.9843471646308899, 0.9902143478393555, 0.9862114787101746, 0.9234774708747864, 0.47251707315444946, 0.908193826675415, 0.9357872605323792, 0.9915353059768677, 0.9807658791542053, 0.03220202028751373, 0.9785273671150208, 0.9781305193901062, 0.9799166917800903, 0.028042038902640343, 0.7956790924072266, 0.8650113344192505, 0.6108077764511108, 0.023920297622680664, 0.9823033809661865, 0.9876580834388733, 0.952962338924408, 0.9889585375785828, 0.7129408121109009, 0.3124614655971527, 0.730099081993103, 0.9660577178001404, 0.03962785005569458, 0.3921063244342804, 0.05632935091853142, 0.7722805738449097, 0.989997148513794, 0.9885849356651306, 0.9882580041885376, 0.9807397723197937, 0.9875395894050598, 0.9537498950958252, 0.6519265174865723, 0.9879069924354553, 0.9859737753868103, 0.5179340839385986, 0.39931315183639526, 0.9817333817481995, 0.9894298315048218, 0.98477703332901, 0.8645102977752686, 0.15212339162826538, 0.9882342219352722, 0.016819925978779793, 0.9899340867996216, 0.989112377166748, 0.9717244505882263, 0.8660255670547485, 0.988137423992157, 0.9114149212837219, 0.9894125461578369, 0.42134547233581543, 0.17708182334899902, 0.7658159732818604, 0.10857371240854263, 0.7851555347442627, 0.1416555643081665, 0.9781354665756226, 0.8195919394493103, 0.6109755635261536, 0.05792050063610077, 0.9874544739723206, 0.9044705629348755, 0.9473594427108765, 0.10613187402486801, 0.9909771680831909, 0.9555771946907043, 0.9857863187789917, 0.9889436364173889, 0.3482884466648102, 0.9894099831581116, 0.9224351048469543, 0.957499623298645, 0.9899859428405762, 0.9263967275619507, 0.19556447863578796, 0.9844622611999512, 0.5421558022499084, 0.989896297454834, 0.022579455748200417, 0.509384036064148, 0.9887822270393372, 0.990574061870575, 0.18996986746788025, 0.9273965954780579, 0.06560828536748886, 0.8808094263076782, 0.5810150504112244, 0.9853407740592957, 0.9900805354118347, 0.9905087947845459, 0.9898239374160767, 0.889666736125946, 0.9860817790031433, 0.20969825983047485, 0.3729129731655121, 0.9854027032852173, 0.9694024920463562, 0.9899145364761353, 0.9909054040908813, 0.2721935510635376, 0.07115723937749863, 0.9778724312782288, 0.9670576453208923, 0.9865425229072571, 0.987371027469635, 0.03152240812778473, 0.986319899559021, 0.5847445130348206, 0.9883825778961182, 0.8917126059532166, 0.019772004336118698, 0.9904140830039978, 0.978605329990387, 0.8112959265708923, 0.9895926117897034, 0.7878127694129944, 0.9875370860099792, 0.276167094707489, 0.3002362549304962, 0.03154119476675987, 0.9904655814170837, 0.9913318753242493, 0.014283991418778896, 0.9903634190559387, 0.01352929137647152, 0.503432035446167, 0.980573832988739, 0.976589024066925, 0.989486575126648, 0.9789572954177856, 0.560180127620697, 0.9852286577224731, 0.05202796682715416, 0.9856074452400208, 0.08406779915094376, 0.848484456539154, 0.9856867790222168, 0.901435136795044, 0.9769334197044373, 0.044524043798446655, 0.9881206154823303, 0.40328317880630493, 0.964328408241272, 0.9901968240737915, 0.9906971454620361, 0.9890953302383423, 0.974462628364563, 0.14789660274982452, 0.4528540372848511, 0.8824478983879089, 0.8128299713134766, 0.04071880131959915, 0.9834302663803101, 0.7359244227409363, 0.8960778713226318, 0.023516902700066566, 0.19404922425746918, 0.08419648557901382, 0.9754515290260315, 0.08104553818702698, 0.9903993606567383, 0.017310334369540215, 0.05677559971809387, 0.02586757019162178, 0.02040805295109749, 0.017384855076670647, 0.012646062299609184, 0.9881511330604553, 0.5016931295394897, 0.3687368929386139, 0.02457474172115326, 0.9080262780189514, 0.08842717111110687, 0.9724220037460327, 0.15031620860099792, 0.7610234022140503, 0.1820565164089203, 0.9826421141624451, 0.1363835483789444, 0.5292624831199646, 0.9786518216133118, 0.0907529667019844, 0.07756438106298447, 0.8147468566894531, 0.9871329069137573, 0.9867480993270874, 0.16031873226165771, 0.9524646997451782, 0.987207293510437, 0.9799507856369019, 0.9349325299263, 0.8727374076843262, 0.578964352607727, 0.17514532804489136, 0.20400696992874146, 0.6723362803459167, 0.9873886704444885, 0.9884229898452759, 0.14808988571166992, 0.9887104630470276, 0.9822072982788086, 0.9872356653213501, 0.04707927629351616, 0.9814052581787109, 0.022020142525434494, 0.9872102737426758, 0.9795715808868408, 0.1434665024280548, 0.9272876977920532, 0.4709349274635315, 0.2355806529521942, 0.46343302726745605, 0.33750542998313904, 0.44548094272613525, 0.9872523546218872, 0.4302810728549957, 0.04728399217128754, 0.9741637110710144, 0.907549262046814, 0.020912369713187218, 0.022914208471775055, 0.388253390789032, 0.9827252626419067, 0.7623032927513123, 0.9665835499763489, 0.6512706875801086, 0.9562662243843079, 0.1313590109348297, 0.058946773409843445, 0.04018880054354668, 0.15563713014125824, 0.9240553975105286, 0.8070000410079956, 0.7771458625793457, 0.975493311882019, 0.7359195947647095, 0.6883528232574463, 0.21606793999671936, 0.019260838627815247, 0.7859871983528137, 0.01574852131307125, 0.8847048878669739, 0.9846776127815247, 0.9889479875564575, 0.025094997137784958, 0.9242598414421082, 0.9835892915725708, 0.01635131798684597, 0.013922506012022495, 0.9640732407569885, 0.9877225756645203, 0.13877533376216888, 0.4393870532512665, 0.9782152771949768, 0.9402454495429993, 0.9871259331703186, 0.9269280433654785, 0.9880780577659607, 0.256672203540802, 0.062082864344120026, 0.021666819229722023, 0.017571888864040375, 0.9355859160423279, 0.03229382261633873, 0.9822376370429993, 0.9373941421508789, 0.013868367299437523, 0.9007307887077332, 0.9873245358467102, 0.03544735535979271, 0.9639775156974792, 0.2399943470954895, 0.8890633583068848, 0.595383882522583, 0.9893636703491211, 0.08566228300333023, 0.044811468571424484, 0.9858337640762329, 0.9507176280021667, 0.983103334903717, 0.9887873530387878, 0.9711689949035645, 0.9856598973274231, 0.9608017802238464, 0.22926226258277893, 0.9900932908058167, 0.988182008266449, 0.982263445854187, 0.9903508424758911, 0.9079728126525879, 0.989981472492218, 0.9888653755187988, 0.9834238886833191, 0.9758360385894775, 0.9909006953239441, 0.9858178496360779, 0.7971238493919373, 0.9853962063789368, 0.03659089654684067, 0.9899695515632629, 0.9887212514877319, 0.9904050827026367, 0.9709647297859192, 0.977843701839447, 0.8883665204048157, 0.6371217966079712, 0.943855881690979, 0.9873794913291931, 0.9892082214355469, 0.9466489553451538, 0.9815812706947327, 0.9737735390663147, 0.4347488582134247, 0.9835785031318665, 0.8886511325836182, 0.9267269968986511, 0.9734275937080383, 0.8882107138633728, 0.9880711436271667, 0.8239160180091858, 0.19809207320213318, 0.5774911046028137, 0.019326025620102882, 0.024929992854595184, 0.4669252038002014, 0.21436481177806854, 0.9905490279197693, 0.9877080321311951, 0.8063652515411377, 0.9911335706710815, 0.9850022792816162, 0.7584715485572815, 0.2613803744316101, 0.9885401725769043, 0.08645455539226532, 0.9687811136245728, 0.026984691619873047, 0.9795407056808472, 0.4016317129135132, 0.9904619455337524, 0.05909982696175575, 0.9902268052101135, 0.5945145487785339, 0.9643102884292603, 0.9856909513473511, 0.6487022638320923, 0.9704917073249817, 0.9767587780952454, 0.7936412692070007, 0.9835706949234009, 0.9891948699951172, 0.0579475574195385, 0.9828832745552063, 0.9834128022193909, 0.41096287965774536, 0.0675944834947586, 0.07353918254375458, 0.9649674296379089, 0.9903460741043091, 0.4955957233905792, 0.9896215796470642, 0.9871959686279297, 0.9888815879821777, 0.5769312381744385, 0.7797951698303223, 0.49976325035095215, 0.9704691171646118, 0.803375244140625, 0.024510852992534637, 0.8138072490692139, 0.6603464484214783, 0.9903162121772766, 0.9741334915161133, 0.956796407699585, 0.9726621508598328, 0.9053788781166077, 0.16185635328292847, 0.027050675824284554, 0.4274677038192749, 0.043384213000535965, 0.8479809761047363, 0.6573129892349243, 0.9719684720039368, 0.9904764294624329, 0.9846212863922119, 0.07955542951822281, 0.984308123588562, 0.9893244504928589, 0.6794285774230957, 0.9882603883743286, 0.16638003289699554, 0.8782562017440796, 0.9869535565376282, 0.9884700179100037, 0.9541470408439636, 0.8901886940002441, 0.9896377325057983, 0.8762021064758301, 0.8000541925430298, 0.9879160523414612, 0.09631547331809998, 0.08588410168886185, 0.5615049004554749, 0.2913762032985687, 0.8302640914916992, 0.21056194603443146, 0.8463429808616638, 0.16841740906238556, 0.9802197217941284, 0.984642744064331, 0.9879260659217834, 0.9647554159164429, 0.01714467629790306, 0.14665010571479797, 0.019065983593463898, 0.7969222664833069, 0.9172483086585999, 0.9638944864273071, 0.016521714627742767, 0.1396186798810959, 0.07040997594594955, 0.9627969861030579, 0.10718654096126556, 0.9899077415466309, 0.9653310775756836, 0.6278465390205383, 0.9722518920898438, 0.9892410039901733, 0.15939156711101532, 0.9546576738357544, 0.8181811571121216, 0.01602996326982975, 0.16462914645671844, 0.8229138255119324, 0.9101958274841309, 0.0313139408826828, 0.01639704965054989, 0.8410821557044983, 0.5637220740318298, 0.3430420160293579, 0.433697372674942, 0.977927565574646, 0.14601784944534302, 0.21018020808696747, 0.43273797631263733, 0.37401512265205383, 0.9502963423728943, 0.987560510635376, 0.822955846786499, 0.9886311292648315, 0.9872759580612183, 0.9860461950302124, 0.4332980215549469, 0.5179227590560913, 0.021001407876610756, 0.12555627524852753, 0.2044258564710617, 0.13913187384605408, 0.017372457310557365, 0.14120616018772125, 0.9844555258750916, 0.08286195248365402, 0.98853999376297, 0.38979509472846985, 0.9315413236618042, 0.16674065589904785, 0.9857260584831238, 0.9912551641464233, 0.17524729669094086, 0.984144389629364, 0.9855290055274963, 0.9193755388259888, 0.9724627733230591, 0.7010658979415894, 0.15774005651474, 0.22546763718128204, 0.9402082562446594, 0.976028323173523, 0.9859723448753357, 0.9875497221946716, 0.986828088760376, 0.16622509062290192, 0.836868405342102, 0.9894653558731079, 0.8790926933288574, 0.7052581906318665, 0.9444901943206787, 0.9550608992576599, 0.9897828102111816, 0.97566157579422, 0.9295265078544617, 0.9376152157783508, 0.983517587184906, 0.8012567162513733, 0.32049819827079773, 0.9880966544151306, 0.7866527438163757, 0.986327588558197, 0.8559931516647339, 0.9825774431228638, 0.016153277829289436, 0.08676213771104813, 0.9892764687538147, 0.46024397015571594, 0.039679937064647675, 0.8970088958740234, 0.052182309329509735, 0.9436042904853821, 0.4299856424331665, 0.05873885750770569, 0.7843363285064697, 0.14389130473136902, 0.7214798331260681, 0.9757146239280701, 0.9282270073890686, 0.4098474979400635, 0.9573317766189575, 0.9869728088378906, 0.7787234783172607, 0.15199494361877441, 0.8634020686149597, 0.1129179447889328, 0.13670635223388672, 0.01629425399005413, 0.976590096950531, 0.9904043078422546, 0.9888054132461548, 0.9695947766304016, 0.8946252465248108, 0.06915779411792755, 0.9833933115005493, 0.9833025336265564, 0.9807903170585632, 0.6519265174865723, 0.9879069924354553, 0.9859737753868103, 0.5179340839385986, 0.39931315183639526, 0.9817333817481995, 0.9894298315048218, 0.98477703332901, 0.8645102977752686, 0.15212339162826538, 0.9882342219352722, 0.016819925978779793, 0.9899340867996216, 0.989112377166748, 0.9717244505882263, 0.8660255670547485, 0.988137423992157, 0.9114149212837219, 0.9894125461578369, 0.42134547233581543, 0.17708182334899902, 0.7658159732818604, 0.10857371240854263, 0.7851555347442627, 0.1416555643081665, 0.9710971713066101, 0.32647594809532166, 0.9894874095916748, 0.9835440516471863, 0.985260546207428, 0.8470490574836731, 0.4528540372848511, 0.8824478983879089, 0.8128299713134766, 0.04071880131959915, 0.9834302663803101, 0.7359244227409363, 0.8960778713226318, 0.023516902700066566, 0.19404922425746918, 0.08419648557901382, 0.9754515290260315, 0.08104553818702698, 0.9903993606567383, 0.017310334369540215, 0.05677559971809387, 0.02586757019162178, 0.02040805295109749, 0.017384855076670647, 0.012646062299609184, 0.9881511330604553, 0.5016931295394897, 0.3687368929386139, 0.02457474172115326, 0.9080262780189514, 0.08842717111110687, 0.9724220037460327, 0.15031620860099792, 0.7610234022140503, 0.1820565164089203, 0.9826421141624451, 0.1363835483789444, 0.5292624831199646], \"coloraxis\": \"coloraxis\"}, \"name\": \"\", \"showlegend\": false, \"type\": \"scattergeo\"}],\n",
              "                        {\"coloraxis\": {\"colorbar\": {\"title\": {\"text\": \"Predictions_Probas\"}}, \"colorscale\": [[0.0, \"#0d0887\"], [0.1111111111111111, \"#46039f\"], [0.2222222222222222, \"#7201a8\"], [0.3333333333333333, \"#9c179e\"], [0.4444444444444444, \"#bd3786\"], [0.5555555555555556, \"#d8576b\"], [0.6666666666666666, \"#ed7953\"], [0.7777777777777778, \"#fb9f3a\"], [0.8888888888888888, \"#fdca26\"], [1.0, \"#f0f921\"]]}, \"geo\": {\"center\": {}, \"domain\": {\"x\": [0.0, 1.0], \"y\": [0.0, 1.0]}, \"projection\": {\"type\": \"natural earth\"}, \"resolution\": 50}, \"legend\": {\"tracegroupgap\": 0}, \"margin\": {\"t\": 60}, \"template\": {\"data\": {\"bar\": [{\"error_x\": {\"color\": \"#2a3f5f\"}, \"error_y\": {\"color\": \"#2a3f5f\"}, \"marker\": {\"line\": {\"color\": \"#E5ECF6\", \"width\": 0.5}}, \"type\": \"bar\"}], \"barpolar\": [{\"marker\": {\"line\": {\"color\": \"#E5ECF6\", \"width\": 0.5}}, \"type\": \"barpolar\"}], \"carpet\": [{\"aaxis\": {\"endlinecolor\": \"#2a3f5f\", \"gridcolor\": \"white\", \"linecolor\": \"white\", \"minorgridcolor\": \"white\", \"startlinecolor\": \"#2a3f5f\"}, \"baxis\": {\"endlinecolor\": \"#2a3f5f\", \"gridcolor\": \"white\", \"linecolor\": \"white\", \"minorgridcolor\": \"white\", \"startlinecolor\": \"#2a3f5f\"}, \"type\": \"carpet\"}], \"choropleth\": [{\"colorbar\": {\"outlinewidth\": 0, \"ticks\": \"\"}, \"type\": \"choropleth\"}], \"contour\": [{\"colorbar\": {\"outlinewidth\": 0, \"ticks\": \"\"}, \"colorscale\": [[0.0, \"#0d0887\"], [0.1111111111111111, \"#46039f\"], [0.2222222222222222, \"#7201a8\"], [0.3333333333333333, \"#9c179e\"], [0.4444444444444444, \"#bd3786\"], [0.5555555555555556, \"#d8576b\"], [0.6666666666666666, \"#ed7953\"], [0.7777777777777778, \"#fb9f3a\"], [0.8888888888888888, \"#fdca26\"], [1.0, \"#f0f921\"]], \"type\": \"contour\"}], \"contourcarpet\": [{\"colorbar\": {\"outlinewidth\": 0, \"ticks\": \"\"}, \"type\": \"contourcarpet\"}], \"heatmap\": [{\"colorbar\": {\"outlinewidth\": 0, \"ticks\": \"\"}, \"colorscale\": [[0.0, \"#0d0887\"], [0.1111111111111111, \"#46039f\"], [0.2222222222222222, \"#7201a8\"], [0.3333333333333333, \"#9c179e\"], [0.4444444444444444, \"#bd3786\"], [0.5555555555555556, \"#d8576b\"], [0.6666666666666666, \"#ed7953\"], [0.7777777777777778, \"#fb9f3a\"], [0.8888888888888888, \"#fdca26\"], [1.0, \"#f0f921\"]], \"type\": \"heatmap\"}], \"heatmapgl\": [{\"colorbar\": {\"outlinewidth\": 0, \"ticks\": \"\"}, \"colorscale\": [[0.0, \"#0d0887\"], [0.1111111111111111, \"#46039f\"], [0.2222222222222222, \"#7201a8\"], [0.3333333333333333, \"#9c179e\"], [0.4444444444444444, \"#bd3786\"], [0.5555555555555556, \"#d8576b\"], [0.6666666666666666, \"#ed7953\"], [0.7777777777777778, \"#fb9f3a\"], [0.8888888888888888, \"#fdca26\"], [1.0, \"#f0f921\"]], \"type\": \"heatmapgl\"}], \"histogram\": [{\"marker\": {\"colorbar\": {\"outlinewidth\": 0, \"ticks\": \"\"}}, \"type\": \"histogram\"}], \"histogram2d\": [{\"colorbar\": {\"outlinewidth\": 0, \"ticks\": \"\"}, \"colorscale\": [[0.0, \"#0d0887\"], [0.1111111111111111, \"#46039f\"], [0.2222222222222222, \"#7201a8\"], [0.3333333333333333, \"#9c179e\"], [0.4444444444444444, \"#bd3786\"], [0.5555555555555556, \"#d8576b\"], [0.6666666666666666, \"#ed7953\"], [0.7777777777777778, \"#fb9f3a\"], [0.8888888888888888, \"#fdca26\"], [1.0, \"#f0f921\"]], \"type\": \"histogram2d\"}], \"histogram2dcontour\": [{\"colorbar\": {\"outlinewidth\": 0, \"ticks\": \"\"}, \"colorscale\": [[0.0, \"#0d0887\"], [0.1111111111111111, \"#46039f\"], [0.2222222222222222, \"#7201a8\"], [0.3333333333333333, \"#9c179e\"], [0.4444444444444444, \"#bd3786\"], [0.5555555555555556, \"#d8576b\"], [0.6666666666666666, \"#ed7953\"], [0.7777777777777778, \"#fb9f3a\"], [0.8888888888888888, \"#fdca26\"], [1.0, \"#f0f921\"]], \"type\": \"histogram2dcontour\"}], \"mesh3d\": [{\"colorbar\": {\"outlinewidth\": 0, \"ticks\": \"\"}, \"type\": \"mesh3d\"}], \"parcoords\": [{\"line\": {\"colorbar\": {\"outlinewidth\": 0, \"ticks\": \"\"}}, \"type\": \"parcoords\"}], \"pie\": [{\"automargin\": true, \"type\": \"pie\"}], \"scatter\": [{\"marker\": {\"colorbar\": {\"outlinewidth\": 0, \"ticks\": \"\"}}, \"type\": \"scatter\"}], \"scatter3d\": [{\"line\": {\"colorbar\": {\"outlinewidth\": 0, \"ticks\": \"\"}}, \"marker\": {\"colorbar\": {\"outlinewidth\": 0, \"ticks\": \"\"}}, \"type\": \"scatter3d\"}], \"scattercarpet\": [{\"marker\": {\"colorbar\": {\"outlinewidth\": 0, \"ticks\": \"\"}}, \"type\": \"scattercarpet\"}], \"scattergeo\": [{\"marker\": {\"colorbar\": {\"outlinewidth\": 0, \"ticks\": \"\"}}, \"type\": \"scattergeo\"}], \"scattergl\": [{\"marker\": {\"colorbar\": {\"outlinewidth\": 0, \"ticks\": \"\"}}, \"type\": \"scattergl\"}], \"scattermapbox\": [{\"marker\": {\"colorbar\": {\"outlinewidth\": 0, \"ticks\": \"\"}}, \"type\": \"scattermapbox\"}], \"scatterpolar\": [{\"marker\": {\"colorbar\": {\"outlinewidth\": 0, \"ticks\": \"\"}}, \"type\": \"scatterpolar\"}], \"scatterpolargl\": [{\"marker\": {\"colorbar\": {\"outlinewidth\": 0, \"ticks\": \"\"}}, \"type\": \"scatterpolargl\"}], \"scatterternary\": [{\"marker\": {\"colorbar\": {\"outlinewidth\": 0, \"ticks\": \"\"}}, \"type\": \"scatterternary\"}], \"surface\": [{\"colorbar\": {\"outlinewidth\": 0, \"ticks\": \"\"}, \"colorscale\": [[0.0, \"#0d0887\"], [0.1111111111111111, \"#46039f\"], [0.2222222222222222, \"#7201a8\"], [0.3333333333333333, \"#9c179e\"], [0.4444444444444444, \"#bd3786\"], [0.5555555555555556, \"#d8576b\"], [0.6666666666666666, \"#ed7953\"], [0.7777777777777778, \"#fb9f3a\"], [0.8888888888888888, \"#fdca26\"], [1.0, \"#f0f921\"]], \"type\": \"surface\"}], \"table\": [{\"cells\": {\"fill\": {\"color\": \"#EBF0F8\"}, \"line\": {\"color\": \"white\"}}, \"header\": {\"fill\": {\"color\": \"#C8D4E3\"}, \"line\": {\"color\": \"white\"}}, \"type\": \"table\"}]}, \"layout\": {\"annotationdefaults\": {\"arrowcolor\": \"#2a3f5f\", \"arrowhead\": 0, \"arrowwidth\": 1}, \"coloraxis\": {\"colorbar\": {\"outlinewidth\": 0, \"ticks\": \"\"}}, \"colorscale\": {\"diverging\": [[0, \"#8e0152\"], [0.1, \"#c51b7d\"], [0.2, \"#de77ae\"], [0.3, \"#f1b6da\"], [0.4, \"#fde0ef\"], [0.5, \"#f7f7f7\"], [0.6, \"#e6f5d0\"], [0.7, \"#b8e186\"], [0.8, \"#7fbc41\"], [0.9, \"#4d9221\"], [1, \"#276419\"]], \"sequential\": [[0.0, \"#0d0887\"], [0.1111111111111111, \"#46039f\"], [0.2222222222222222, \"#7201a8\"], [0.3333333333333333, \"#9c179e\"], [0.4444444444444444, \"#bd3786\"], [0.5555555555555556, \"#d8576b\"], [0.6666666666666666, \"#ed7953\"], [0.7777777777777778, \"#fb9f3a\"], [0.8888888888888888, \"#fdca26\"], [1.0, \"#f0f921\"]], \"sequentialminus\": [[0.0, \"#0d0887\"], [0.1111111111111111, \"#46039f\"], [0.2222222222222222, \"#7201a8\"], [0.3333333333333333, \"#9c179e\"], [0.4444444444444444, \"#bd3786\"], [0.5555555555555556, \"#d8576b\"], [0.6666666666666666, \"#ed7953\"], [0.7777777777777778, \"#fb9f3a\"], [0.8888888888888888, \"#fdca26\"], [1.0, \"#f0f921\"]]}, \"colorway\": [\"#636efa\", \"#EF553B\", \"#00cc96\", \"#ab63fa\", \"#FFA15A\", \"#19d3f3\", \"#FF6692\", \"#B6E880\", \"#FF97FF\", \"#FECB52\"], \"font\": {\"color\": \"#2a3f5f\"}, \"geo\": {\"bgcolor\": \"white\", \"lakecolor\": \"white\", \"landcolor\": \"#E5ECF6\", \"showlakes\": true, \"showland\": true, \"subunitcolor\": \"white\"}, \"hoverlabel\": {\"align\": \"left\"}, \"hovermode\": \"closest\", \"mapbox\": {\"style\": \"light\"}, \"paper_bgcolor\": \"white\", \"plot_bgcolor\": \"#E5ECF6\", \"polar\": {\"angularaxis\": {\"gridcolor\": \"white\", \"linecolor\": \"white\", \"ticks\": \"\"}, \"bgcolor\": \"#E5ECF6\", \"radialaxis\": {\"gridcolor\": \"white\", \"linecolor\": \"white\", \"ticks\": \"\"}}, \"scene\": {\"xaxis\": {\"backgroundcolor\": \"#E5ECF6\", \"gridcolor\": \"white\", \"gridwidth\": 2, \"linecolor\": \"white\", \"showbackground\": true, \"ticks\": \"\", \"zerolinecolor\": \"white\"}, \"yaxis\": {\"backgroundcolor\": \"#E5ECF6\", \"gridcolor\": \"white\", \"gridwidth\": 2, \"linecolor\": \"white\", \"showbackground\": true, \"ticks\": \"\", \"zerolinecolor\": \"white\"}, \"zaxis\": {\"backgroundcolor\": \"#E5ECF6\", \"gridcolor\": \"white\", \"gridwidth\": 2, \"linecolor\": \"white\", \"showbackground\": true, \"ticks\": \"\", \"zerolinecolor\": \"white\"}}, \"shapedefaults\": {\"line\": {\"color\": \"#2a3f5f\"}}, \"ternary\": {\"aaxis\": {\"gridcolor\": \"white\", \"linecolor\": \"white\", \"ticks\": \"\"}, \"baxis\": {\"gridcolor\": \"white\", \"linecolor\": \"white\", \"ticks\": \"\"}, \"bgcolor\": \"#E5ECF6\", \"caxis\": {\"gridcolor\": \"white\", \"linecolor\": \"white\", \"ticks\": \"\"}}, \"title\": {\"x\": 0.05}, \"xaxis\": {\"automargin\": true, \"gridcolor\": \"white\", \"linecolor\": \"white\", \"ticks\": \"\", \"title\": {\"standoff\": 15}, \"zerolinecolor\": \"white\", \"zerolinewidth\": 2}, \"yaxis\": {\"automargin\": true, \"gridcolor\": \"white\", \"linecolor\": \"white\", \"ticks\": \"\", \"title\": {\"standoff\": 15}, \"zerolinecolor\": \"white\", \"zerolinewidth\": 2}}}},\n",
              "                        {\"responsive\": true}\n",
              "                    ).then(function(){\n",
              "                            \n",
              "var gd = document.getElementById('89bb0340-092e-4b1b-a377-dfe9270224ae');\n",
              "var x = new MutationObserver(function (mutations, observer) {{\n",
              "        var display = window.getComputedStyle(gd).display;\n",
              "        if (!display || display === 'none') {{\n",
              "            console.log([gd, 'removed!']);\n",
              "            Plotly.purge(gd);\n",
              "            observer.disconnect();\n",
              "        }}\n",
              "}});\n",
              "\n",
              "// Listen for the removal of the full notebook cells\n",
              "var notebookContainer = gd.closest('#notebook-container');\n",
              "if (notebookContainer) {{\n",
              "    x.observe(notebookContainer, {childList: true});\n",
              "}}\n",
              "\n",
              "// Listen for the clearing of the current output cell\n",
              "var outputEl = gd.closest('.output');\n",
              "if (outputEl) {{\n",
              "    x.observe(outputEl, {childList: true});\n",
              "}}\n",
              "\n",
              "                        })\n",
              "                };\n",
              "                \n",
              "            </script>\n",
              "        </div>\n",
              "</body>\n",
              "</html>"
            ]
          },
          "metadata": {
            "tags": []
          }
        }
      ]
    },
    {
      "cell_type": "markdown",
      "metadata": {
        "id": "owCGi7mk8hCk",
        "colab_type": "text"
      },
      "source": [
        "# Future improvements\n",
        "\n",
        "ALBERT is indeed a very impressive language model. I'm looking forward to replicate the success `Albert` has on the Wikipedia dataset to news headlines scrapped from the web. However, there are added layers of complexity that needs to be solved:\n",
        "\n",
        "* As explained earlier, we need to be able to differentiate facts from commentaries.\n",
        "\n",
        "* A simple Googling of \"United States - China\" relations might not return us results that are all relevant. An added element of effort needs to be put in to clean the dataset.\n",
        "\n",
        "Like any data scientist would do, a deeper analysis of the results can be conducted by analysing the precision/recall on the test dataset.\n",
        "\n",
        "That's it for now folks! If you have any questions/comments please feel free to reach out to me through [Linkedin](https://www.linkedin.com/in/kennethwangtm/) or email at ken.wangtm@gmail.com"
      ]
    }
  ]
}