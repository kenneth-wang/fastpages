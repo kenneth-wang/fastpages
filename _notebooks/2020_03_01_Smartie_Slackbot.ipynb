{
  "nbformat": 4,
  "nbformat_minor": 0,
  "metadata": {
    "colab": {
      "name": "2020-03-01-Smartie-Slackbot.ipynb",
      "provenance": [],
      "collapsed_sections": [],
      "toc_visible": true
    },
    "kernelspec": {
      "name": "python3",
      "display_name": "Python 3"
    }
  },
  "cells": [
    {
      "cell_type": "markdown",
      "metadata": {
        "id": "zNTMefMVa7Oc",
        "colab_type": "text"
      },
      "source": [
        "# Smartie\n",
        "> Creating your own slack bot to give you investment insights"
      ]
    },
    {
      "cell_type": "markdown",
      "metadata": {
        "id": "cCxtWNh-fek4",
        "colab_type": "text"
      },
      "source": [
        "TALK ABOUT CURRENT USE CASE FOR A BOT"
      ]
    },
    {
      "cell_type": "markdown",
      "metadata": {
        "id": "Aa6WpU-0eYn2",
        "colab_type": "text"
      },
      "source": [
        "# Overview of project directory"
      ]
    },
    {
      "cell_type": "code",
      "metadata": {
        "id": "pKGdsA92g-NM",
        "colab_type": "code",
        "colab": {}
      },
      "source": [
        "smartie/\n",
        "\n",
        "_______ data/\n",
        "___________ sp500_stocks.csv\n",
        "\n",
        "_______ src/\n",
        "___________ __init__.py\n",
        "___________ stock.py\n",
        "\n",
        "_______ app.py\n",
        "_______ crontab\n",
        "_______ conda.yml\n",
        "_______ Dockerfile\n",
        "_______ env.list\n",
        "_______ run.sh"
      ],
      "execution_count": 0,
      "outputs": []
    },
    {
      "cell_type": "code",
      "metadata": {
        "id": "n7v2RbrD-M3t",
        "colab_type": "code",
        "outputId": "1cf868aa-7b80-4f17-f495-d53ef434fc92",
        "colab": {
          "base_uri": "https://localhost:8080/",
          "height": 105
        }
      },
      "source": [
        "%%capture\n",
        "\n",
        "from google.colab import drive\n",
        "drive.mount('/content/gdrive/')\n",
        "\n",
        "%cd /content/gdrive/My Drive/Colab Notebooks/ssh_files/smartie_slackbot\n",
        "\n",
        "import sys\n",
        "sys.path.append(\".\")"
      ],
      "execution_count": 1,
      "outputs": [
        {
          "output_type": "stream",
          "text": [
            "Go to this URL in a browser: https://accounts.google.com/o/oauth2/auth?client_id=947318989803-6bn6qk8qdgf4n4g3pfee6491hc0brc4i.apps.googleusercontent.com&redirect_uri=urn%3aietf%3awg%3aoauth%3a2.0%3aoob&response_type=code&scope=email%20https%3a%2f%2fwww.googleapis.com%2fauth%2fdocs.test%20https%3a%2f%2fwww.googleapis.com%2fauth%2fdrive%20https%3a%2f%2fwww.googleapis.com%2fauth%2fdrive.photos.readonly%20https%3a%2f%2fwww.googleapis.com%2fauth%2fpeopleapi.readonly\n",
            "\n",
            "Enter your authorization code:\n",
            "··········\n"
          ],
          "name": "stdout"
        }
      ]
    },
    {
      "cell_type": "code",
      "metadata": {
        "id": "DLpYRtxzTBXy",
        "colab_type": "code",
        "colab": {}
      },
      "source": [
        "from credentials import SLACK_API_TOKEN, CHANNEL_ID, SLACK_BOT_TOKEN, SLACK_SIGNING_SECRET, ALPHA_VANTAGE_KEY"
      ],
      "execution_count": 0,
      "outputs": []
    },
    {
      "cell_type": "code",
      "metadata": {
        "id": "7g27uEQj8BCT",
        "colab_type": "code",
        "colab": {}
      },
      "source": [
        "range_start_date = \"2020-01-01\"\n",
        "range_end_date = \"2020-12-31\""
      ],
      "execution_count": 0,
      "outputs": []
    },
    {
      "cell_type": "code",
      "metadata": {
        "id": "9tnX_p8G8jEn",
        "colab_type": "code",
        "colab": {}
      },
      "source": [
        "%%capture\n",
        "\n",
        "# !pip install alpha-vantage==2.1.3\n",
        "# !pip install beautiful soup4==4.8.2\n",
        "# !pip install slack==0.0.2\n",
        "# !pip install slackclient==2.5.0\n",
        "# !pip install slackeventsapi==2.1.0\n",
        "# !pip install websocket-client==0.57.0"
      ],
      "execution_count": 0,
      "outputs": []
    },
    {
      "cell_type": "code",
      "metadata": {
        "id": "zNndtBQz9IAL",
        "colab_type": "code",
        "colab": {}
      },
      "source": [
        "import requests\n",
        "import time\n",
        "import pandas as pd\n",
        "import numpy as np\n",
        "import slack\n",
        "import ssl as ssl_lib\n",
        "import certifi\n",
        "import datetime\n",
        "\n",
        "from bs4 import BeautifulSoup\n",
        "from alpha_vantage.timeseries import TimeSeries\n",
        "from pandas.tseries.holiday import USFederalHolidayCalendar as calendar\n",
        "from flask import Flask\n",
        "from slackeventsapi import SlackEventAdapter"
      ],
      "execution_count": 0,
      "outputs": []
    },
    {
      "cell_type": "markdown",
      "metadata": {
        "id": "Obs753woH92D",
        "colab_type": "text"
      },
      "source": [
        "# Get S&P500 stocks from wikipedia"
      ]
    },
    {
      "cell_type": "code",
      "metadata": {
        "id": "9bHDti-6ASum",
        "colab_type": "code",
        "colab": {}
      },
      "source": [
        "def get_sp500_stocks_wiki(url=\"https://en.wikipedia.org/wiki/List_of_S%26P_500_companies\"):\n",
        "    \"\"\"\n",
        "    Scapes a wikipedia web page to retrieve a table of S&P500 component stocks\n",
        "\n",
        "    args:\n",
        "    ------\n",
        "        url: (str) url leading to the wikipedia web page\n",
        "    Return:\n",
        "    ------\n",
        "        df: (pd.DataFrame) a copy of the wikipedia table showcasing the S&P500 component stocks\n",
        "    \"\"\"\n",
        "    website_url = requests.get(url)\n",
        "    soup = BeautifulSoup(website_url.text, 'lxml')\n",
        "    my_table = soup.find('table', {'class': 'wikitable sortable'})\n",
        "    my_table\n",
        "\n",
        "    table_rows = my_table.find_all('tr')\n",
        "\n",
        "    data = []\n",
        "    for row in table_rows:\n",
        "        data.append([t.text.strip() for t in row.find_all('td')])\n",
        "\n",
        "    df = pd.DataFrame(data[1:], columns=['Ticker', 'Security', 'SEC_Filings', 'GICS',\n",
        "                                         'GICS_Sub', 'HQ', 'Date_First_Added', \\\n",
        "                                         'CIK', 'Founded'])\n",
        "\n",
        "    return df"
      ],
      "execution_count": 0,
      "outputs": []
    },
    {
      "cell_type": "code",
      "metadata": {
        "id": "ETy6cwDPAWbj",
        "colab_type": "code",
        "outputId": "64747f8a-2496-4bd5-81f9-081e7dabd604",
        "colab": {
          "base_uri": "https://localhost:8080/",
          "height": 359
        }
      },
      "source": [
        "sp500_stocks_df = get_sp500_stocks_wiki()\n",
        "sp500_stocks_df.to_csv('./data/sp500_stocks.csv')\n",
        "\n",
        "sp500_stocks_df.head(10)"
      ],
      "execution_count": 8,
      "outputs": [
        {
          "output_type": "execute_result",
          "data": {
            "text/html": [
              "<div>\n",
              "<style scoped>\n",
              "    .dataframe tbody tr th:only-of-type {\n",
              "        vertical-align: middle;\n",
              "    }\n",
              "\n",
              "    .dataframe tbody tr th {\n",
              "        vertical-align: top;\n",
              "    }\n",
              "\n",
              "    .dataframe thead th {\n",
              "        text-align: right;\n",
              "    }\n",
              "</style>\n",
              "<table border=\"1\" class=\"dataframe\">\n",
              "  <thead>\n",
              "    <tr style=\"text-align: right;\">\n",
              "      <th></th>\n",
              "      <th>Ticker</th>\n",
              "      <th>Security</th>\n",
              "      <th>SEC_Filings</th>\n",
              "      <th>GICS</th>\n",
              "      <th>GICS_Sub</th>\n",
              "      <th>HQ</th>\n",
              "      <th>Date_First_Added</th>\n",
              "      <th>CIK</th>\n",
              "      <th>Founded</th>\n",
              "    </tr>\n",
              "  </thead>\n",
              "  <tbody>\n",
              "    <tr>\n",
              "      <th>0</th>\n",
              "      <td>MMM</td>\n",
              "      <td>3M Company</td>\n",
              "      <td>reports</td>\n",
              "      <td>Industrials</td>\n",
              "      <td>Industrial Conglomerates</td>\n",
              "      <td>St. Paul, Minnesota</td>\n",
              "      <td></td>\n",
              "      <td>0000066740</td>\n",
              "      <td>1902</td>\n",
              "    </tr>\n",
              "    <tr>\n",
              "      <th>1</th>\n",
              "      <td>ABT</td>\n",
              "      <td>Abbott Laboratories</td>\n",
              "      <td>reports</td>\n",
              "      <td>Health Care</td>\n",
              "      <td>Health Care Equipment</td>\n",
              "      <td>North Chicago, Illinois</td>\n",
              "      <td>1964-03-31</td>\n",
              "      <td>0000001800</td>\n",
              "      <td>1888</td>\n",
              "    </tr>\n",
              "    <tr>\n",
              "      <th>2</th>\n",
              "      <td>ABBV</td>\n",
              "      <td>AbbVie Inc.</td>\n",
              "      <td>reports</td>\n",
              "      <td>Health Care</td>\n",
              "      <td>Pharmaceuticals</td>\n",
              "      <td>North Chicago, Illinois</td>\n",
              "      <td>2012-12-31</td>\n",
              "      <td>0001551152</td>\n",
              "      <td>2013 (1888)</td>\n",
              "    </tr>\n",
              "    <tr>\n",
              "      <th>3</th>\n",
              "      <td>ABMD</td>\n",
              "      <td>ABIOMED Inc</td>\n",
              "      <td>reports</td>\n",
              "      <td>Health Care</td>\n",
              "      <td>Health Care Equipment</td>\n",
              "      <td>Danvers, Massachusetts</td>\n",
              "      <td>2018-05-31</td>\n",
              "      <td>0000815094</td>\n",
              "      <td>1981</td>\n",
              "    </tr>\n",
              "    <tr>\n",
              "      <th>4</th>\n",
              "      <td>ACN</td>\n",
              "      <td>Accenture plc</td>\n",
              "      <td>reports</td>\n",
              "      <td>Information Technology</td>\n",
              "      <td>IT Consulting &amp; Other Services</td>\n",
              "      <td>Dublin, Ireland</td>\n",
              "      <td>2011-07-06</td>\n",
              "      <td>0001467373</td>\n",
              "      <td>1989</td>\n",
              "    </tr>\n",
              "    <tr>\n",
              "      <th>5</th>\n",
              "      <td>ATVI</td>\n",
              "      <td>Activision Blizzard</td>\n",
              "      <td>reports</td>\n",
              "      <td>Communication Services</td>\n",
              "      <td>Interactive Home Entertainment</td>\n",
              "      <td>Santa Monica, California</td>\n",
              "      <td>2015-08-31</td>\n",
              "      <td>0000718877</td>\n",
              "      <td>2008</td>\n",
              "    </tr>\n",
              "    <tr>\n",
              "      <th>6</th>\n",
              "      <td>ADBE</td>\n",
              "      <td>Adobe Inc.</td>\n",
              "      <td>reports</td>\n",
              "      <td>Information Technology</td>\n",
              "      <td>Application Software</td>\n",
              "      <td>San Jose, California</td>\n",
              "      <td>1997-05-05</td>\n",
              "      <td>0000796343</td>\n",
              "      <td>1982</td>\n",
              "    </tr>\n",
              "    <tr>\n",
              "      <th>7</th>\n",
              "      <td>AMD</td>\n",
              "      <td>Advanced Micro Devices Inc</td>\n",
              "      <td>reports</td>\n",
              "      <td>Information Technology</td>\n",
              "      <td>Semiconductors</td>\n",
              "      <td>Santa Clara, California</td>\n",
              "      <td>2017-03-20</td>\n",
              "      <td>0000002488</td>\n",
              "      <td>1969</td>\n",
              "    </tr>\n",
              "    <tr>\n",
              "      <th>8</th>\n",
              "      <td>AAP</td>\n",
              "      <td>Advance Auto Parts</td>\n",
              "      <td>reports</td>\n",
              "      <td>Consumer Discretionary</td>\n",
              "      <td>Automotive Retail</td>\n",
              "      <td>Raleigh, North Carolina</td>\n",
              "      <td>2015-07-09</td>\n",
              "      <td>0001158449</td>\n",
              "      <td>1932</td>\n",
              "    </tr>\n",
              "    <tr>\n",
              "      <th>9</th>\n",
              "      <td>AES</td>\n",
              "      <td>AES Corp</td>\n",
              "      <td>reports</td>\n",
              "      <td>Utilities</td>\n",
              "      <td>Independent Power Producers &amp; Energy Traders</td>\n",
              "      <td>Arlington, Virginia</td>\n",
              "      <td>1998-10-02</td>\n",
              "      <td>0000874761</td>\n",
              "      <td>1981</td>\n",
              "    </tr>\n",
              "  </tbody>\n",
              "</table>\n",
              "</div>"
            ],
            "text/plain": [
              "  Ticker                    Security  ...         CIK      Founded\n",
              "0    MMM                  3M Company  ...  0000066740         1902\n",
              "1    ABT         Abbott Laboratories  ...  0000001800         1888\n",
              "2   ABBV                 AbbVie Inc.  ...  0001551152  2013 (1888)\n",
              "3   ABMD                 ABIOMED Inc  ...  0000815094         1981\n",
              "4    ACN               Accenture plc  ...  0001467373         1989\n",
              "5   ATVI         Activision Blizzard  ...  0000718877         2008\n",
              "6   ADBE                  Adobe Inc.  ...  0000796343         1982\n",
              "7    AMD  Advanced Micro Devices Inc  ...  0000002488         1969\n",
              "8    AAP          Advance Auto Parts  ...  0001158449         1932\n",
              "9    AES                    AES Corp  ...  0000874761         1981\n",
              "\n",
              "[10 rows x 9 columns]"
            ]
          },
          "metadata": {
            "tags": []
          },
          "execution_count": 8
        }
      ]
    },
    {
      "cell_type": "markdown",
      "metadata": {
        "id": "tbikdfS7HoU9",
        "colab_type": "text"
      },
      "source": [
        "# Breaking down the Smartie Class"
      ]
    },
    {
      "cell_type": "markdown",
      "metadata": {
        "id": "XgGAFV6CBxkH",
        "colab_type": "text"
      },
      "source": [
        "### Breakdown get_stocks_rsi. Gettiing the stocks and their RSI"
      ]
    },
    {
      "cell_type": "code",
      "metadata": {
        "id": "JwDuucvBIJOb",
        "colab_type": "code",
        "colab": {}
      },
      "source": [
        "from src.stock import get_sp500_stocks_wiki, get_sp500_stocks_file, filter_stocks_industry, get_stock_price, get_stock_price_df, get_rsi"
      ],
      "execution_count": 0,
      "outputs": []
    },
    {
      "cell_type": "markdown",
      "metadata": {
        "id": "4UFgcTx8IcTw",
        "colab_type": "text"
      },
      "source": [
        "Breakdown the functions one by one"
      ]
    },
    {
      "cell_type": "markdown",
      "metadata": {
        "id": "4V32GsVbIPoN",
        "colab_type": "text"
      },
      "source": [
        "To read the sp500 stock file we made above"
      ]
    },
    {
      "cell_type": "code",
      "metadata": {
        "id": "--4-UFbHIL-k",
        "colab_type": "code",
        "colab": {}
      },
      "source": [
        "def get_sp500_stocks_file(file_path=None):\n",
        "    \"\"\"\n",
        "    Reads a csv file containing the wikipedia S&P500 component stocks table\n",
        "\n",
        "    args:\n",
        "    ------\n",
        "        file_path: (str) path leading to the csv file\n",
        "    Return:\n",
        "    ------\n",
        "        df: (pd.DataFrame) a copy of the wikipedia table showcasing the S&P500 component stocks\n",
        "    \"\"\"\n",
        "    df = pd.read_csv(file_path)\n",
        "\n",
        "    return df"
      ],
      "execution_count": 0,
      "outputs": []
    },
    {
      "cell_type": "code",
      "metadata": {
        "id": "i9i0gdJaNMQU",
        "colab_type": "code",
        "outputId": "ae2f46af-fbf9-44b0-fba8-437358706914",
        "colab": {
          "base_uri": "https://localhost:8080/",
          "height": 359
        }
      },
      "source": [
        "sp500_stocks_df = get_sp500_stocks_file(file_path=\"./data/sp500_stocks.csv\")\n",
        "sp500_stocks_df.head(10)"
      ],
      "execution_count": 11,
      "outputs": [
        {
          "output_type": "execute_result",
          "data": {
            "text/html": [
              "<div>\n",
              "<style scoped>\n",
              "    .dataframe tbody tr th:only-of-type {\n",
              "        vertical-align: middle;\n",
              "    }\n",
              "\n",
              "    .dataframe tbody tr th {\n",
              "        vertical-align: top;\n",
              "    }\n",
              "\n",
              "    .dataframe thead th {\n",
              "        text-align: right;\n",
              "    }\n",
              "</style>\n",
              "<table border=\"1\" class=\"dataframe\">\n",
              "  <thead>\n",
              "    <tr style=\"text-align: right;\">\n",
              "      <th></th>\n",
              "      <th>Unnamed: 0</th>\n",
              "      <th>Ticker</th>\n",
              "      <th>Security</th>\n",
              "      <th>SEC_Filings</th>\n",
              "      <th>GICS</th>\n",
              "      <th>GICS_Sub</th>\n",
              "      <th>HQ</th>\n",
              "      <th>Date_First_Added</th>\n",
              "      <th>CIK</th>\n",
              "      <th>Founded</th>\n",
              "    </tr>\n",
              "  </thead>\n",
              "  <tbody>\n",
              "    <tr>\n",
              "      <th>0</th>\n",
              "      <td>0</td>\n",
              "      <td>MMM</td>\n",
              "      <td>3M Company</td>\n",
              "      <td>reports</td>\n",
              "      <td>Industrials</td>\n",
              "      <td>Industrial Conglomerates</td>\n",
              "      <td>St. Paul, Minnesota</td>\n",
              "      <td>NaN</td>\n",
              "      <td>66740</td>\n",
              "      <td>1902</td>\n",
              "    </tr>\n",
              "    <tr>\n",
              "      <th>1</th>\n",
              "      <td>1</td>\n",
              "      <td>ABT</td>\n",
              "      <td>Abbott Laboratories</td>\n",
              "      <td>reports</td>\n",
              "      <td>Health Care</td>\n",
              "      <td>Health Care Equipment</td>\n",
              "      <td>North Chicago, Illinois</td>\n",
              "      <td>1964-03-31</td>\n",
              "      <td>1800</td>\n",
              "      <td>1888</td>\n",
              "    </tr>\n",
              "    <tr>\n",
              "      <th>2</th>\n",
              "      <td>2</td>\n",
              "      <td>ABBV</td>\n",
              "      <td>AbbVie Inc.</td>\n",
              "      <td>reports</td>\n",
              "      <td>Health Care</td>\n",
              "      <td>Pharmaceuticals</td>\n",
              "      <td>North Chicago, Illinois</td>\n",
              "      <td>2012-12-31</td>\n",
              "      <td>1551152</td>\n",
              "      <td>2013 (1888)</td>\n",
              "    </tr>\n",
              "    <tr>\n",
              "      <th>3</th>\n",
              "      <td>3</td>\n",
              "      <td>ABMD</td>\n",
              "      <td>ABIOMED Inc</td>\n",
              "      <td>reports</td>\n",
              "      <td>Health Care</td>\n",
              "      <td>Health Care Equipment</td>\n",
              "      <td>Danvers, Massachusetts</td>\n",
              "      <td>2018-05-31</td>\n",
              "      <td>815094</td>\n",
              "      <td>1981</td>\n",
              "    </tr>\n",
              "    <tr>\n",
              "      <th>4</th>\n",
              "      <td>4</td>\n",
              "      <td>ACN</td>\n",
              "      <td>Accenture plc</td>\n",
              "      <td>reports</td>\n",
              "      <td>Information Technology</td>\n",
              "      <td>IT Consulting &amp; Other Services</td>\n",
              "      <td>Dublin, Ireland</td>\n",
              "      <td>2011-07-06</td>\n",
              "      <td>1467373</td>\n",
              "      <td>1989</td>\n",
              "    </tr>\n",
              "    <tr>\n",
              "      <th>5</th>\n",
              "      <td>5</td>\n",
              "      <td>ATVI</td>\n",
              "      <td>Activision Blizzard</td>\n",
              "      <td>reports</td>\n",
              "      <td>Communication Services</td>\n",
              "      <td>Interactive Home Entertainment</td>\n",
              "      <td>Santa Monica, California</td>\n",
              "      <td>2015-08-31</td>\n",
              "      <td>718877</td>\n",
              "      <td>2008</td>\n",
              "    </tr>\n",
              "    <tr>\n",
              "      <th>6</th>\n",
              "      <td>6</td>\n",
              "      <td>ADBE</td>\n",
              "      <td>Adobe Inc.</td>\n",
              "      <td>reports</td>\n",
              "      <td>Information Technology</td>\n",
              "      <td>Application Software</td>\n",
              "      <td>San Jose, California</td>\n",
              "      <td>1997-05-05</td>\n",
              "      <td>796343</td>\n",
              "      <td>1982</td>\n",
              "    </tr>\n",
              "    <tr>\n",
              "      <th>7</th>\n",
              "      <td>7</td>\n",
              "      <td>AMD</td>\n",
              "      <td>Advanced Micro Devices Inc</td>\n",
              "      <td>reports</td>\n",
              "      <td>Information Technology</td>\n",
              "      <td>Semiconductors</td>\n",
              "      <td>Santa Clara, California</td>\n",
              "      <td>2017-03-20</td>\n",
              "      <td>2488</td>\n",
              "      <td>1969</td>\n",
              "    </tr>\n",
              "    <tr>\n",
              "      <th>8</th>\n",
              "      <td>8</td>\n",
              "      <td>AAP</td>\n",
              "      <td>Advance Auto Parts</td>\n",
              "      <td>reports</td>\n",
              "      <td>Consumer Discretionary</td>\n",
              "      <td>Automotive Retail</td>\n",
              "      <td>Raleigh, North Carolina</td>\n",
              "      <td>2015-07-09</td>\n",
              "      <td>1158449</td>\n",
              "      <td>1932</td>\n",
              "    </tr>\n",
              "    <tr>\n",
              "      <th>9</th>\n",
              "      <td>9</td>\n",
              "      <td>AES</td>\n",
              "      <td>AES Corp</td>\n",
              "      <td>reports</td>\n",
              "      <td>Utilities</td>\n",
              "      <td>Independent Power Producers &amp; Energy Traders</td>\n",
              "      <td>Arlington, Virginia</td>\n",
              "      <td>1998-10-02</td>\n",
              "      <td>874761</td>\n",
              "      <td>1981</td>\n",
              "    </tr>\n",
              "  </tbody>\n",
              "</table>\n",
              "</div>"
            ],
            "text/plain": [
              "   Unnamed: 0 Ticker  ...      CIK      Founded\n",
              "0           0    MMM  ...    66740         1902\n",
              "1           1    ABT  ...     1800         1888\n",
              "2           2   ABBV  ...  1551152  2013 (1888)\n",
              "3           3   ABMD  ...   815094         1981\n",
              "4           4    ACN  ...  1467373         1989\n",
              "5           5   ATVI  ...   718877         2008\n",
              "6           6   ADBE  ...   796343         1982\n",
              "7           7    AMD  ...     2488         1969\n",
              "8           8    AAP  ...  1158449         1932\n",
              "9           9    AES  ...   874761         1981\n",
              "\n",
              "[10 rows x 10 columns]"
            ]
          },
          "metadata": {
            "tags": []
          },
          "execution_count": 11
        }
      ]
    },
    {
      "cell_type": "markdown",
      "metadata": {
        "id": "nhKlkQRBA-Ph",
        "colab_type": "text"
      },
      "source": [
        "Select only top 100 stocks due to alpha vantage api limitations. Exclude some of the industries that are you are not interested in"
      ]
    },
    {
      "cell_type": "code",
      "metadata": {
        "id": "2eUzg33QA9jp",
        "colab_type": "code",
        "colab": {}
      },
      "source": [
        "def filter_stocks_industry(df, ind_excld=[]):\n",
        "    \"\"\"\n",
        "    Filters a dataframe based on the GICS Sector industry\n",
        "\n",
        "    args:\n",
        "    ------\n",
        "        df: (pd.DataFrame) a copy of the wikipedia table showcasing the S&P500 component stocks\n",
        "        ind_excld: (list) GICS Sector industries to be excluded\n",
        "    Return:\n",
        "    ------\n",
        "        df_excld: (pd.DataFrame) filtered dataframe\n",
        "    \"\"\"\n",
        "    df_excld = df[~df['GICS'].isin(ind_excld)]\n",
        "\n",
        "    return df_excld"
      ],
      "execution_count": 0,
      "outputs": []
    },
    {
      "cell_type": "code",
      "metadata": {
        "id": "Nrg9iNCnAX-a",
        "colab_type": "code",
        "outputId": "ae390bc9-1edc-411e-afc3-3e7b11164fa4",
        "colab": {
          "base_uri": "https://localhost:8080/",
          "height": 419
        }
      },
      "source": [
        "sp500_stocks_df_excld = filter_stocks_industry(sp500_stocks_df, ind_excld=['Health Care', 'Utilities', 'Energy'])\n",
        "sp500_stocks_df_excld"
      ],
      "execution_count": 13,
      "outputs": [
        {
          "output_type": "execute_result",
          "data": {
            "text/html": [
              "<div>\n",
              "<style scoped>\n",
              "    .dataframe tbody tr th:only-of-type {\n",
              "        vertical-align: middle;\n",
              "    }\n",
              "\n",
              "    .dataframe tbody tr th {\n",
              "        vertical-align: top;\n",
              "    }\n",
              "\n",
              "    .dataframe thead th {\n",
              "        text-align: right;\n",
              "    }\n",
              "</style>\n",
              "<table border=\"1\" class=\"dataframe\">\n",
              "  <thead>\n",
              "    <tr style=\"text-align: right;\">\n",
              "      <th></th>\n",
              "      <th>Unnamed: 0</th>\n",
              "      <th>Ticker</th>\n",
              "      <th>Security</th>\n",
              "      <th>SEC_Filings</th>\n",
              "      <th>GICS</th>\n",
              "      <th>GICS_Sub</th>\n",
              "      <th>HQ</th>\n",
              "      <th>Date_First_Added</th>\n",
              "      <th>CIK</th>\n",
              "      <th>Founded</th>\n",
              "    </tr>\n",
              "  </thead>\n",
              "  <tbody>\n",
              "    <tr>\n",
              "      <th>0</th>\n",
              "      <td>0</td>\n",
              "      <td>MMM</td>\n",
              "      <td>3M Company</td>\n",
              "      <td>reports</td>\n",
              "      <td>Industrials</td>\n",
              "      <td>Industrial Conglomerates</td>\n",
              "      <td>St. Paul, Minnesota</td>\n",
              "      <td>NaN</td>\n",
              "      <td>66740</td>\n",
              "      <td>1902</td>\n",
              "    </tr>\n",
              "    <tr>\n",
              "      <th>4</th>\n",
              "      <td>4</td>\n",
              "      <td>ACN</td>\n",
              "      <td>Accenture plc</td>\n",
              "      <td>reports</td>\n",
              "      <td>Information Technology</td>\n",
              "      <td>IT Consulting &amp; Other Services</td>\n",
              "      <td>Dublin, Ireland</td>\n",
              "      <td>2011-07-06</td>\n",
              "      <td>1467373</td>\n",
              "      <td>1989</td>\n",
              "    </tr>\n",
              "    <tr>\n",
              "      <th>5</th>\n",
              "      <td>5</td>\n",
              "      <td>ATVI</td>\n",
              "      <td>Activision Blizzard</td>\n",
              "      <td>reports</td>\n",
              "      <td>Communication Services</td>\n",
              "      <td>Interactive Home Entertainment</td>\n",
              "      <td>Santa Monica, California</td>\n",
              "      <td>2015-08-31</td>\n",
              "      <td>718877</td>\n",
              "      <td>2008</td>\n",
              "    </tr>\n",
              "    <tr>\n",
              "      <th>6</th>\n",
              "      <td>6</td>\n",
              "      <td>ADBE</td>\n",
              "      <td>Adobe Inc.</td>\n",
              "      <td>reports</td>\n",
              "      <td>Information Technology</td>\n",
              "      <td>Application Software</td>\n",
              "      <td>San Jose, California</td>\n",
              "      <td>1997-05-05</td>\n",
              "      <td>796343</td>\n",
              "      <td>1982</td>\n",
              "    </tr>\n",
              "    <tr>\n",
              "      <th>7</th>\n",
              "      <td>7</td>\n",
              "      <td>AMD</td>\n",
              "      <td>Advanced Micro Devices Inc</td>\n",
              "      <td>reports</td>\n",
              "      <td>Information Technology</td>\n",
              "      <td>Semiconductors</td>\n",
              "      <td>Santa Clara, California</td>\n",
              "      <td>2017-03-20</td>\n",
              "      <td>2488</td>\n",
              "      <td>1969</td>\n",
              "    </tr>\n",
              "    <tr>\n",
              "      <th>...</th>\n",
              "      <td>...</td>\n",
              "      <td>...</td>\n",
              "      <td>...</td>\n",
              "      <td>...</td>\n",
              "      <td>...</td>\n",
              "      <td>...</td>\n",
              "      <td>...</td>\n",
              "      <td>...</td>\n",
              "      <td>...</td>\n",
              "      <td>...</td>\n",
              "    </tr>\n",
              "    <tr>\n",
              "      <th>498</th>\n",
              "      <td>498</td>\n",
              "      <td>XLNX</td>\n",
              "      <td>Xilinx</td>\n",
              "      <td>reports</td>\n",
              "      <td>Information Technology</td>\n",
              "      <td>Semiconductors</td>\n",
              "      <td>San Jose, California</td>\n",
              "      <td>1999-11-08</td>\n",
              "      <td>743988</td>\n",
              "      <td>NaN</td>\n",
              "    </tr>\n",
              "    <tr>\n",
              "      <th>499</th>\n",
              "      <td>499</td>\n",
              "      <td>XYL</td>\n",
              "      <td>Xylem Inc.</td>\n",
              "      <td>reports</td>\n",
              "      <td>Industrials</td>\n",
              "      <td>Industrial Machinery</td>\n",
              "      <td>White Plains, New York</td>\n",
              "      <td>2011-11-01</td>\n",
              "      <td>1524472</td>\n",
              "      <td>NaN</td>\n",
              "    </tr>\n",
              "    <tr>\n",
              "      <th>500</th>\n",
              "      <td>500</td>\n",
              "      <td>YUM</td>\n",
              "      <td>Yum! Brands Inc</td>\n",
              "      <td>reports</td>\n",
              "      <td>Consumer Discretionary</td>\n",
              "      <td>Restaurants</td>\n",
              "      <td>Louisville, Kentucky</td>\n",
              "      <td>1997-10-06</td>\n",
              "      <td>1041061</td>\n",
              "      <td>NaN</td>\n",
              "    </tr>\n",
              "    <tr>\n",
              "      <th>501</th>\n",
              "      <td>501</td>\n",
              "      <td>ZBRA</td>\n",
              "      <td>Zebra Technologies</td>\n",
              "      <td>reports</td>\n",
              "      <td>Information Technology</td>\n",
              "      <td>Electronic Equipment &amp; Instruments</td>\n",
              "      <td>Lincolnshire, Illinois</td>\n",
              "      <td>2019-12-23</td>\n",
              "      <td>877212</td>\n",
              "      <td>1969</td>\n",
              "    </tr>\n",
              "    <tr>\n",
              "      <th>503</th>\n",
              "      <td>503</td>\n",
              "      <td>ZION</td>\n",
              "      <td>Zions Bancorp</td>\n",
              "      <td>reports</td>\n",
              "      <td>Financials</td>\n",
              "      <td>Regional Banks</td>\n",
              "      <td>Salt Lake City, Utah</td>\n",
              "      <td>2001-06-22</td>\n",
              "      <td>109380</td>\n",
              "      <td>NaN</td>\n",
              "    </tr>\n",
              "  </tbody>\n",
              "</table>\n",
              "<p>389 rows × 10 columns</p>\n",
              "</div>"
            ],
            "text/plain": [
              "     Unnamed: 0 Ticker  ...      CIK Founded\n",
              "0             0    MMM  ...    66740    1902\n",
              "4             4    ACN  ...  1467373    1989\n",
              "5             5   ATVI  ...   718877    2008\n",
              "6             6   ADBE  ...   796343    1982\n",
              "7             7    AMD  ...     2488    1969\n",
              "..          ...    ...  ...      ...     ...\n",
              "498         498   XLNX  ...   743988     NaN\n",
              "499         499    XYL  ...  1524472     NaN\n",
              "500         500    YUM  ...  1041061     NaN\n",
              "501         501   ZBRA  ...   877212    1969\n",
              "503         503   ZION  ...   109380     NaN\n",
              "\n",
              "[389 rows x 10 columns]"
            ]
          },
          "metadata": {
            "tags": []
          },
          "execution_count": 13
        }
      ]
    },
    {
      "cell_type": "code",
      "metadata": {
        "id": "eqold_fkN8An",
        "colab_type": "code",
        "colab": {}
      },
      "source": [
        "sp500_stocks_df_excld = sp500_stocks_df_excld.head(10)"
      ],
      "execution_count": 0,
      "outputs": []
    },
    {
      "cell_type": "markdown",
      "metadata": {
        "id": "6612eFWZBLtW",
        "colab_type": "text"
      },
      "source": [
        "Get the stock prices"
      ]
    },
    {
      "cell_type": "code",
      "metadata": {
        "id": "CVmC0SDlBIGN",
        "colab_type": "code",
        "colab": {}
      },
      "source": [
        "def get_stock_price(df_excld):\n",
        "    \"\"\"\n",
        "    Retrieves the daily stock price from a dataframe of stocks and their respective tickers\n",
        "\n",
        "    args:\n",
        "    ------\n",
        "        df_excld: (pd.DataFrame) filtered dataframe comprising of stocks in focus\n",
        "    Return:\n",
        "    ------\n",
        "        info: (list) stock pricing/volume information for a particular period\n",
        "        symbols: (list) stock tickers\n",
        "    \"\"\"\n",
        "\n",
        "    ts = TimeSeries(ALPHA_VANTAGE_KEY)\n",
        "\n",
        "    info = []\n",
        "    symbols = []\n",
        "    counter = 0\n",
        "\n",
        "    for t in df_excld['Ticker']:\n",
        "\n",
        "        if counter % 5 == 0:\n",
        "            time.sleep(65)\n",
        "\n",
        "        i, m  = ts.get_daily(symbol=t, outputsize='full')\n",
        "        info.append(i)\n",
        "        symbols.append(m['2. Symbol'])\n",
        "        counter += 1\n",
        "\n",
        "    return info, symbols"
      ],
      "execution_count": 0,
      "outputs": []
    },
    {
      "cell_type": "code",
      "metadata": {
        "id": "Qa3Ci-YBBHgG",
        "colab_type": "code",
        "colab": {}
      },
      "source": [
        "info, symbols = get_stock_price(sp500_stocks_df_excld)"
      ],
      "execution_count": 0,
      "outputs": []
    },
    {
      "cell_type": "code",
      "metadata": {
        "id": "UjVREnz5OVpn",
        "colab_type": "code",
        "outputId": "d1e47259-6efd-411d-89e8-7e3016484f32",
        "colab": {
          "base_uri": "https://localhost:8080/",
          "height": 102
        }
      },
      "source": [
        "info[0]['2020-02-28']"
      ],
      "execution_count": 17,
      "outputs": [
        {
          "output_type": "execute_result",
          "data": {
            "text/plain": [
              "{'1. open': '154.0900',\n",
              " '2. high': '156.7200',\n",
              " '3. low': '146.0000',\n",
              " '4. close': '149.2400',\n",
              " '5. volume': '11431490'}"
            ]
          },
          "metadata": {
            "tags": []
          },
          "execution_count": 17
        }
      ]
    },
    {
      "cell_type": "code",
      "metadata": {
        "id": "wTyVsa94OWR1",
        "colab_type": "code",
        "outputId": "5f0540e9-f0ca-46f3-899e-fd73abaf9763",
        "colab": {
          "base_uri": "https://localhost:8080/",
          "height": 34
        }
      },
      "source": [
        "symbols"
      ],
      "execution_count": 18,
      "outputs": [
        {
          "output_type": "execute_result",
          "data": {
            "text/plain": [
              "['MMM', 'ACN', 'ATVI', 'ADBE', 'AMD', 'AAP', 'AFL', 'APD', 'AKAM', 'ALK']"
            ]
          },
          "metadata": {
            "tags": []
          },
          "execution_count": 18
        }
      ]
    },
    {
      "cell_type": "markdown",
      "metadata": {
        "id": "cQ-kvSwfBWYg",
        "colab_type": "text"
      },
      "source": [
        "Conver the information into a dataframe and rename the columns"
      ]
    },
    {
      "cell_type": "code",
      "metadata": {
        "id": "c19Q1RmKBTpq",
        "colab_type": "code",
        "colab": {}
      },
      "source": [
        "def get_stock_price_df(info, symbols):\n",
        "    \"\"\"\n",
        "    Converts lists of pricing/volume information and the stocks symbols into a dataframe\n",
        "\n",
        "    args:\n",
        "    ------\n",
        "        info: (list) stock pricing/volume information for a particular period\n",
        "        symbols: (list) stock tickers\n",
        "    Return:\n",
        "    ------\n",
        "        df_full: (pd.DataFrame) consists of stock tickers their pricing/volume information\n",
        "    \"\"\"\n",
        "    df_l = []\n",
        "\n",
        "    for num, i in enumerate(info):\n",
        "        df = pd.DataFrame.from_dict(i, orient='index')\n",
        "        df['Symbol'] = symbols[num]\n",
        "        df_l.append(df)\n",
        "\n",
        "    df_full = pd.concat(df_l)\n",
        "    df_full = df_full.rename(columns = {'1. open':'Open',\n",
        "                                        '2. high':'High',\n",
        "                                        '3. low':'Low',\n",
        "                                        '4. close':'Close',\n",
        "                                        '5. volume':'Volume'})\n",
        "\n",
        "    return df_full"
      ],
      "execution_count": 0,
      "outputs": []
    },
    {
      "cell_type": "code",
      "metadata": {
        "id": "MrcLqgWRBNXv",
        "colab_type": "code",
        "outputId": "f84c5fd0-e633-4f5d-e4a5-ae07c6e051a9",
        "colab": {
          "base_uri": "https://localhost:8080/",
          "height": 359
        }
      },
      "source": [
        "sp500_stocks_price_df = get_stock_price_df(info, symbols)\n",
        "sp500_stocks_price_df.head(10)"
      ],
      "execution_count": 20,
      "outputs": [
        {
          "output_type": "execute_result",
          "data": {
            "text/html": [
              "<div>\n",
              "<style scoped>\n",
              "    .dataframe tbody tr th:only-of-type {\n",
              "        vertical-align: middle;\n",
              "    }\n",
              "\n",
              "    .dataframe tbody tr th {\n",
              "        vertical-align: top;\n",
              "    }\n",
              "\n",
              "    .dataframe thead th {\n",
              "        text-align: right;\n",
              "    }\n",
              "</style>\n",
              "<table border=\"1\" class=\"dataframe\">\n",
              "  <thead>\n",
              "    <tr style=\"text-align: right;\">\n",
              "      <th></th>\n",
              "      <th>Open</th>\n",
              "      <th>High</th>\n",
              "      <th>Low</th>\n",
              "      <th>Close</th>\n",
              "      <th>Volume</th>\n",
              "      <th>Symbol</th>\n",
              "    </tr>\n",
              "  </thead>\n",
              "  <tbody>\n",
              "    <tr>\n",
              "      <th>2020-02-28</th>\n",
              "      <td>154.0900</td>\n",
              "      <td>156.7200</td>\n",
              "      <td>146.0000</td>\n",
              "      <td>149.2400</td>\n",
              "      <td>11431490</td>\n",
              "      <td>MMM</td>\n",
              "    </tr>\n",
              "    <tr>\n",
              "      <th>2020-02-27</th>\n",
              "      <td>151.2300</td>\n",
              "      <td>155.4300</td>\n",
              "      <td>149.0000</td>\n",
              "      <td>150.1600</td>\n",
              "      <td>8217960</td>\n",
              "      <td>MMM</td>\n",
              "    </tr>\n",
              "    <tr>\n",
              "      <th>2020-02-26</th>\n",
              "      <td>149.5700</td>\n",
              "      <td>151.8200</td>\n",
              "      <td>148.0900</td>\n",
              "      <td>148.9600</td>\n",
              "      <td>5151670</td>\n",
              "      <td>MMM</td>\n",
              "    </tr>\n",
              "    <tr>\n",
              "      <th>2020-02-25</th>\n",
              "      <td>153.3100</td>\n",
              "      <td>153.4400</td>\n",
              "      <td>145.9700</td>\n",
              "      <td>146.8500</td>\n",
              "      <td>5262375</td>\n",
              "      <td>MMM</td>\n",
              "    </tr>\n",
              "    <tr>\n",
              "      <th>2020-02-24</th>\n",
              "      <td>154.4500</td>\n",
              "      <td>154.7100</td>\n",
              "      <td>152.2200</td>\n",
              "      <td>152.5500</td>\n",
              "      <td>3635549</td>\n",
              "      <td>MMM</td>\n",
              "    </tr>\n",
              "    <tr>\n",
              "      <th>2020-02-21</th>\n",
              "      <td>158.3300</td>\n",
              "      <td>158.5900</td>\n",
              "      <td>156.1200</td>\n",
              "      <td>156.9300</td>\n",
              "      <td>3535306</td>\n",
              "      <td>MMM</td>\n",
              "    </tr>\n",
              "    <tr>\n",
              "      <th>2020-02-20</th>\n",
              "      <td>159.0000</td>\n",
              "      <td>161.3900</td>\n",
              "      <td>158.5000</td>\n",
              "      <td>158.5600</td>\n",
              "      <td>3274479</td>\n",
              "      <td>MMM</td>\n",
              "    </tr>\n",
              "    <tr>\n",
              "      <th>2020-02-19</th>\n",
              "      <td>159.0800</td>\n",
              "      <td>160.4700</td>\n",
              "      <td>158.3600</td>\n",
              "      <td>159.3400</td>\n",
              "      <td>2296434</td>\n",
              "      <td>MMM</td>\n",
              "    </tr>\n",
              "    <tr>\n",
              "      <th>2020-02-18</th>\n",
              "      <td>160.3600</td>\n",
              "      <td>160.5300</td>\n",
              "      <td>158.0400</td>\n",
              "      <td>158.8800</td>\n",
              "      <td>2478890</td>\n",
              "      <td>MMM</td>\n",
              "    </tr>\n",
              "    <tr>\n",
              "      <th>2020-02-14</th>\n",
              "      <td>159.8500</td>\n",
              "      <td>161.1400</td>\n",
              "      <td>158.8200</td>\n",
              "      <td>161.0100</td>\n",
              "      <td>2233484</td>\n",
              "      <td>MMM</td>\n",
              "    </tr>\n",
              "  </tbody>\n",
              "</table>\n",
              "</div>"
            ],
            "text/plain": [
              "                Open      High       Low     Close    Volume Symbol\n",
              "2020-02-28  154.0900  156.7200  146.0000  149.2400  11431490    MMM\n",
              "2020-02-27  151.2300  155.4300  149.0000  150.1600   8217960    MMM\n",
              "2020-02-26  149.5700  151.8200  148.0900  148.9600   5151670    MMM\n",
              "2020-02-25  153.3100  153.4400  145.9700  146.8500   5262375    MMM\n",
              "2020-02-24  154.4500  154.7100  152.2200  152.5500   3635549    MMM\n",
              "2020-02-21  158.3300  158.5900  156.1200  156.9300   3535306    MMM\n",
              "2020-02-20  159.0000  161.3900  158.5000  158.5600   3274479    MMM\n",
              "2020-02-19  159.0800  160.4700  158.3600  159.3400   2296434    MMM\n",
              "2020-02-18  160.3600  160.5300  158.0400  158.8800   2478890    MMM\n",
              "2020-02-14  159.8500  161.1400  158.8200  161.0100   2233484    MMM"
            ]
          },
          "metadata": {
            "tags": []
          },
          "execution_count": 20
        }
      ]
    },
    {
      "cell_type": "markdown",
      "metadata": {
        "id": "7-44UsmyBoWQ",
        "colab_type": "text"
      },
      "source": [
        "Get the rsi for the stocks"
      ]
    },
    {
      "cell_type": "code",
      "metadata": {
        "id": "8so6D6e3BqgZ",
        "colab_type": "code",
        "colab": {}
      },
      "source": [
        "def get_rsi(prices, n=14):\n",
        "    \"\"\"\n",
        "    Calculates the Relative Strength Index (RSI) for a stock\n",
        "    Credits: sentdex - https://www.youtube.com/watch?v=4gGztYfp3ck\n",
        "\n",
        "    args:\n",
        "    ------\n",
        "        prices: (list) prices for a stock\n",
        "        n: (int) size of look-back period\n",
        "    Return:\n",
        "    ------\n",
        "        rsi: (float): momentum indicator that measures the magnitude of recent price changes to evaluate overbought or oversold conditions in the price of a stock or other asset\n",
        "        https://www.investopedia.com/terms/r/rsi.asp\n",
        "    \"\"\"\n",
        "    deltas = np.diff(prices)\n",
        "    seed = deltas[:n+1]\n",
        "    up = seed[seed >= 0].sum()/n\n",
        "    down = -seed[seed < 0].sum()/n\n",
        "    rs = up/down\n",
        "    rsi = np.zeros_like(prices)\n",
        "    rsi[:n] = 100. - 100./(1. + rs)\n",
        "\n",
        "    for i in range(n, len(prices)):\n",
        "        delta = deltas[i-1]\n",
        "\n",
        "        if delta > 0:\n",
        "            upval = delta\n",
        "            downval = 0.\n",
        "        else:\n",
        "            upval = 0.\n",
        "            downval = -delta\n",
        "\n",
        "        up = (up*(n-1) + upval)/n\n",
        "        down = (down*(n-1) + downval)/n\n",
        "\n",
        "        rs = up/down\n",
        "        rsi[i] = 100. - 100./(1.+rs)\n",
        "\n",
        "    return rsi"
      ],
      "execution_count": 0,
      "outputs": []
    },
    {
      "cell_type": "code",
      "metadata": {
        "id": "Lhc5PGFuBmtf",
        "colab_type": "code",
        "outputId": "0de6beeb-9479-4c8a-e93c-8572a118f68c",
        "colab": {
          "base_uri": "https://localhost:8080/",
          "height": 359
        }
      },
      "source": [
        "symbols = sp500_stocks_price_df['Symbol'].unique()\n",
        "\n",
        "rsi_l = []\n",
        "status_l = []\n",
        "for s in symbols:\n",
        "    closep = np.array(sp500_stocks_price_df[sp500_stocks_price_df['Symbol'] == s]['Close'].tolist())\n",
        "    closep = closep.astype(np.float)\n",
        "    rsi = get_rsi(closep, n=14)\n",
        "    if rsi[-1] >=70:\n",
        "        status = 'Above 70'\n",
        "    elif rsi[-1] <= 30:\n",
        "        status = 'Below 30'\n",
        "    else:\n",
        "        status = 'Normal'\n",
        "\n",
        "    rsi_l.append(round(rsi[-1], 1))\n",
        "    status_l.append(status)\n",
        "\n",
        "df_rsi = pd.DataFrame(zip(symbols, rsi_l, status_l),columns=['Symbols', 'RSI', 'Status'])\n",
        "df_rsi.head(10)"
      ],
      "execution_count": 22,
      "outputs": [
        {
          "output_type": "execute_result",
          "data": {
            "text/html": [
              "<div>\n",
              "<style scoped>\n",
              "    .dataframe tbody tr th:only-of-type {\n",
              "        vertical-align: middle;\n",
              "    }\n",
              "\n",
              "    .dataframe tbody tr th {\n",
              "        vertical-align: top;\n",
              "    }\n",
              "\n",
              "    .dataframe thead th {\n",
              "        text-align: right;\n",
              "    }\n",
              "</style>\n",
              "<table border=\"1\" class=\"dataframe\">\n",
              "  <thead>\n",
              "    <tr style=\"text-align: right;\">\n",
              "      <th></th>\n",
              "      <th>Symbols</th>\n",
              "      <th>RSI</th>\n",
              "      <th>Status</th>\n",
              "    </tr>\n",
              "  </thead>\n",
              "  <tbody>\n",
              "    <tr>\n",
              "      <th>0</th>\n",
              "      <td>MMM</td>\n",
              "      <td>50.1</td>\n",
              "      <td>Normal</td>\n",
              "    </tr>\n",
              "    <tr>\n",
              "      <th>1</th>\n",
              "      <td>ACN</td>\n",
              "      <td>53.1</td>\n",
              "      <td>Normal</td>\n",
              "    </tr>\n",
              "    <tr>\n",
              "      <th>2</th>\n",
              "      <td>ATVI</td>\n",
              "      <td>48.8</td>\n",
              "      <td>Normal</td>\n",
              "    </tr>\n",
              "    <tr>\n",
              "      <th>3</th>\n",
              "      <td>ADBE</td>\n",
              "      <td>52.0</td>\n",
              "      <td>Normal</td>\n",
              "    </tr>\n",
              "    <tr>\n",
              "      <th>4</th>\n",
              "      <td>AMD</td>\n",
              "      <td>29.1</td>\n",
              "      <td>Below 30</td>\n",
              "    </tr>\n",
              "    <tr>\n",
              "      <th>5</th>\n",
              "      <td>AAP</td>\n",
              "      <td>44.5</td>\n",
              "      <td>Normal</td>\n",
              "    </tr>\n",
              "    <tr>\n",
              "      <th>6</th>\n",
              "      <td>AFL</td>\n",
              "      <td>38.9</td>\n",
              "      <td>Normal</td>\n",
              "    </tr>\n",
              "    <tr>\n",
              "      <th>7</th>\n",
              "      <td>APD</td>\n",
              "      <td>45.7</td>\n",
              "      <td>Normal</td>\n",
              "    </tr>\n",
              "    <tr>\n",
              "      <th>8</th>\n",
              "      <td>AKAM</td>\n",
              "      <td>60.4</td>\n",
              "      <td>Normal</td>\n",
              "    </tr>\n",
              "    <tr>\n",
              "      <th>9</th>\n",
              "      <td>ALK</td>\n",
              "      <td>42.9</td>\n",
              "      <td>Normal</td>\n",
              "    </tr>\n",
              "  </tbody>\n",
              "</table>\n",
              "</div>"
            ],
            "text/plain": [
              "  Symbols   RSI    Status\n",
              "0     MMM  50.1    Normal\n",
              "1     ACN  53.1    Normal\n",
              "2    ATVI  48.8    Normal\n",
              "3    ADBE  52.0    Normal\n",
              "4     AMD  29.1  Below 30\n",
              "5     AAP  44.5    Normal\n",
              "6     AFL  38.9    Normal\n",
              "7     APD  45.7    Normal\n",
              "8    AKAM  60.4    Normal\n",
              "9     ALK  42.9    Normal"
            ]
          },
          "metadata": {
            "tags": []
          },
          "execution_count": 22
        }
      ]
    },
    {
      "cell_type": "markdown",
      "metadata": {
        "id": "PfCqqxTZIl7B",
        "colab_type": "text"
      },
      "source": [
        "Putting it together and show the final output as follow"
      ]
    },
    {
      "cell_type": "code",
      "metadata": {
        "id": "qM2PWewlIlPw",
        "colab_type": "code",
        "colab": {}
      },
      "source": [
        "def get_stocks_rsi(rsi_n=14, stocks_n=100, file_path='./data/sp500_stocks.csv', ind_excld=['Health Care', 'Utilities', 'Energy']):\n",
        "        \"\"\"\n",
        "            Calculates the Relative Strength Index (RSI) for a group of stocks\n",
        "\n",
        "            args:\n",
        "            ------\n",
        "                rsi_n: (list) size of rsi look-back period\n",
        "                stocks_n: (int) number of stocks to retrieve the rsi for\n",
        "                file_path: path leading to csv file of S&P500 component stocks\n",
        "                ind_excld: (list) GICS Sector industries to be excluded\n",
        "            Return:\n",
        "            ------\n",
        "                df_rsi: (pd.DataFrame) returns the rsi reading for the list of stocks and whether the 30/70 level has been breached\n",
        "        \"\"\"\n",
        "        sp500_stocks_df = get_sp500_stocks_file(file_path=file_path)\n",
        "        sp500_stocks_df_excld = filter_stocks_industry(sp500_stocks_df, ind_excld=ind_excld)\n",
        "        sp500_stocks_df_excld = sp500_stocks_df_excld.head(stocks_n)\n",
        "        info, symbols = get_stock_price(sp500_stocks_df_excld)\n",
        "        sp500_stocks_price_df = get_stock_price_df(info, symbols)\n",
        "\n",
        "        symbols = sp500_stocks_price_df['Symbol'].unique()\n",
        "\n",
        "        rsi_l = []\n",
        "        status_l = []\n",
        "        for s in symbols:\n",
        "            closep = np.array(sp500_stocks_price_df[sp500_stocks_price_df['Symbol'] == s]['Close'].tolist())\n",
        "            closep = closep.astype(np.float)\n",
        "            rsi = get_rsi(closep, n=rsi_n)\n",
        "            if rsi[-1] >=70:\n",
        "                status = 'Above 70'\n",
        "            elif rsi[-1] <= 30:\n",
        "                status = 'Below 30'\n",
        "            else:\n",
        "                status = 'Normal'\n",
        "\n",
        "            rsi_l.append(round(rsi[-1], 1))\n",
        "            status_l.append(status)\n",
        "\n",
        "        df_rsi = pd.DataFrame(zip(symbols, rsi_l, status_l),columns=['Symbols', 'RSI', 'Status'])\n",
        "\n",
        "        return df_rsi"
      ],
      "execution_count": 0,
      "outputs": []
    },
    {
      "cell_type": "code",
      "metadata": {
        "id": "GaPuxYMQS5s_",
        "colab_type": "code",
        "outputId": "302008af-66f5-44f0-c3ab-f15662591c84",
        "colab": {
          "base_uri": "https://localhost:8080/",
          "height": 359
        }
      },
      "source": [
        "df_rsi =  get_stocks_rsi(rsi_n=14, stocks_n=10, file_path='./data/sp500_stocks.csv', ind_excld=['Health Care', 'Utilities', 'Energy'])\n",
        "df_rsi.head(10)"
      ],
      "execution_count": 24,
      "outputs": [
        {
          "output_type": "execute_result",
          "data": {
            "text/html": [
              "<div>\n",
              "<style scoped>\n",
              "    .dataframe tbody tr th:only-of-type {\n",
              "        vertical-align: middle;\n",
              "    }\n",
              "\n",
              "    .dataframe tbody tr th {\n",
              "        vertical-align: top;\n",
              "    }\n",
              "\n",
              "    .dataframe thead th {\n",
              "        text-align: right;\n",
              "    }\n",
              "</style>\n",
              "<table border=\"1\" class=\"dataframe\">\n",
              "  <thead>\n",
              "    <tr style=\"text-align: right;\">\n",
              "      <th></th>\n",
              "      <th>Symbols</th>\n",
              "      <th>RSI</th>\n",
              "      <th>Status</th>\n",
              "    </tr>\n",
              "  </thead>\n",
              "  <tbody>\n",
              "    <tr>\n",
              "      <th>0</th>\n",
              "      <td>MMM</td>\n",
              "      <td>50.1</td>\n",
              "      <td>Normal</td>\n",
              "    </tr>\n",
              "    <tr>\n",
              "      <th>1</th>\n",
              "      <td>ACN</td>\n",
              "      <td>53.1</td>\n",
              "      <td>Normal</td>\n",
              "    </tr>\n",
              "    <tr>\n",
              "      <th>2</th>\n",
              "      <td>ATVI</td>\n",
              "      <td>48.8</td>\n",
              "      <td>Normal</td>\n",
              "    </tr>\n",
              "    <tr>\n",
              "      <th>3</th>\n",
              "      <td>ADBE</td>\n",
              "      <td>52.0</td>\n",
              "      <td>Normal</td>\n",
              "    </tr>\n",
              "    <tr>\n",
              "      <th>4</th>\n",
              "      <td>AMD</td>\n",
              "      <td>29.1</td>\n",
              "      <td>Below 30</td>\n",
              "    </tr>\n",
              "    <tr>\n",
              "      <th>5</th>\n",
              "      <td>AAP</td>\n",
              "      <td>44.5</td>\n",
              "      <td>Normal</td>\n",
              "    </tr>\n",
              "    <tr>\n",
              "      <th>6</th>\n",
              "      <td>AFL</td>\n",
              "      <td>38.9</td>\n",
              "      <td>Normal</td>\n",
              "    </tr>\n",
              "    <tr>\n",
              "      <th>7</th>\n",
              "      <td>APD</td>\n",
              "      <td>45.7</td>\n",
              "      <td>Normal</td>\n",
              "    </tr>\n",
              "    <tr>\n",
              "      <th>8</th>\n",
              "      <td>AKAM</td>\n",
              "      <td>60.4</td>\n",
              "      <td>Normal</td>\n",
              "    </tr>\n",
              "    <tr>\n",
              "      <th>9</th>\n",
              "      <td>ALK</td>\n",
              "      <td>42.9</td>\n",
              "      <td>Normal</td>\n",
              "    </tr>\n",
              "  </tbody>\n",
              "</table>\n",
              "</div>"
            ],
            "text/plain": [
              "  Symbols   RSI    Status\n",
              "0     MMM  50.1    Normal\n",
              "1     ACN  53.1    Normal\n",
              "2    ATVI  48.8    Normal\n",
              "3    ADBE  52.0    Normal\n",
              "4     AMD  29.1  Below 30\n",
              "5     AAP  44.5    Normal\n",
              "6     AFL  38.9    Normal\n",
              "7     APD  45.7    Normal\n",
              "8    AKAM  60.4    Normal\n",
              "9     ALK  42.9    Normal"
            ]
          },
          "metadata": {
            "tags": []
          },
          "execution_count": 24
        }
      ]
    },
    {
      "cell_type": "markdown",
      "metadata": {
        "id": "mcxz2EEqCr67",
        "colab_type": "text"
      },
      "source": [
        "### Breakdown the get_stocks_rsi in get_rsi_string. To convert the data we have in pd.Dataframe to string"
      ]
    },
    {
      "cell_type": "code",
      "metadata": {
        "id": "LW3rBWJr_qkP",
        "colab_type": "code",
        "colab": {}
      },
      "source": [
        "def get_rsi_string(df_rsi, head_n=20, tail_n=20):\n",
        "    \"\"\"\n",
        "        Converts the rsi reading into strings to be displayed in slack correctly\n",
        "\n",
        "        args:\n",
        "        ------\n",
        "            df_rsi: (pd.DataFrame) returns the rsi reading for the list of stocks and whether the 30/70 level has been breached\n",
        "            head_n: (int) number of top ranked stocks (based on rsi) reading to be displayed in slack\n",
        "            tail_n: (int) number of bottom ranked stocks (based on rsi) reading to be displayed in slack\n",
        "        Return:\n",
        "        ------\n",
        "            top_str: (str) concatenated string for the top ranked stocks' rsi reading\n",
        "            btm_str: (str) concatenated string for the bottom ranked stocks' rsi reading\n",
        "    \"\"\"\n",
        "    df_rsi = df_rsi.sort_values('RSI', ascending=False)\n",
        "\n",
        "    df_top = df_rsi.head(head_n)\n",
        "    df_btm = df_rsi.tail(tail_n)\n",
        "\n",
        "    top_symbols = df_top['Symbols'].tolist()\n",
        "    btm_symbols = df_btm['Symbols'].tolist()\n",
        "\n",
        "    top_rsi = df_top['RSI'].tolist()\n",
        "    btm_rsi = df_btm['RSI'].tolist()\n",
        "\n",
        "    top_l = list(zip(top_symbols, top_rsi))\n",
        "    btm_l = list(zip(btm_symbols, btm_rsi))\n",
        "\n",
        "    top_str = \"\"\n",
        "    for el in top_l:\n",
        "        top_str = top_str + str(el[0]) + \" \" + str(el[1]) + \"\\n\"\n",
        "\n",
        "    btm_str = \"\"\n",
        "    for el in btm_l:\n",
        "        btm_str = btm_str + str(el[0]) + \" \" + str(el[1]) + \"\\n\"\n",
        "\n",
        "    return top_str, btm_str"
      ],
      "execution_count": 0,
      "outputs": []
    },
    {
      "cell_type": "code",
      "metadata": {
        "id": "2HdxwW9kJHDu",
        "colab_type": "code",
        "colab": {}
      },
      "source": [
        "top_str, btm_str = get_rsi_string(df_rsi, head_n=5, tail_n=5)"
      ],
      "execution_count": 0,
      "outputs": []
    },
    {
      "cell_type": "code",
      "metadata": {
        "id": "nPOjMQDlUkNa",
        "colab_type": "code",
        "outputId": "8b54ee4f-fc0e-4bfe-9e41-25bf53fd78ab",
        "colab": {
          "base_uri": "https://localhost:8080/",
          "height": 34
        }
      },
      "source": [
        "top_str"
      ],
      "execution_count": 27,
      "outputs": [
        {
          "output_type": "execute_result",
          "data": {
            "text/plain": [
              "'AKAM 60.4\\nACN 53.1\\nADBE 52.0\\nMMM 50.1\\nATVI 48.8\\n'"
            ]
          },
          "metadata": {
            "tags": []
          },
          "execution_count": 27
        }
      ]
    },
    {
      "cell_type": "code",
      "metadata": {
        "id": "n_S2ZMqyUlUj",
        "colab_type": "code",
        "outputId": "e37b71a0-1147-44fe-adf6-457e1a86ea45",
        "colab": {
          "base_uri": "https://localhost:8080/",
          "height": 34
        }
      },
      "source": [
        "btm_str"
      ],
      "execution_count": 28,
      "outputs": [
        {
          "output_type": "execute_result",
          "data": {
            "text/plain": [
              "'APD 45.7\\nAAP 44.5\\nALK 42.9\\nAFL 38.9\\nAMD 29.1\\n'"
            ]
          },
          "metadata": {
            "tags": []
          },
          "execution_count": 28
        }
      ]
    },
    {
      "cell_type": "markdown",
      "metadata": {
        "id": "Gqvr8ELJDBPa",
        "colab_type": "text"
      },
      "source": [
        "### Breakdown get_message_payload_stock and get_message_payload. Connect to Slack's API"
      ]
    },
    {
      "cell_type": "markdown",
      "metadata": {
        "id": "Qfox-yalZila",
        "colab_type": "text"
      },
      "source": [
        "This is what we have so far! This is the complete Smartie Class"
      ]
    },
    {
      "cell_type": "code",
      "metadata": {
        "id": "P735fnQf7iv0",
        "colab_type": "code",
        "colab": {}
      },
      "source": [
        "class Smartie:\n",
        "    \"\"\"App that sends stock analysis results for the day.\"\"\"\n",
        "\n",
        "    def __init__(self, channel):\n",
        "        self.channel = channel\n",
        "        self.username = \"smartie\"\n",
        "        self.icon_emoji = \":robot_face:\"\n",
        "        self.timestamp = \"\"\n",
        "        self.reaction_task_completed = False\n",
        "        self.pin_task_completed = False\n",
        "        self.DIVIDER_BLOCK = {\"type\": \"divider\"}\n",
        "\n",
        "    def get_stocks_rsi(self, rsi_n=14, stocks_n=100, file_path='./data/sp500_stocks.csv', ind_excld=['Health Care', 'Utilities', 'Energy']):\n",
        "        \"\"\"\n",
        "            Calculates the Relative Strength Index (RSI) for a group of stocks\n",
        "\n",
        "            args:\n",
        "            ------\n",
        "                rsi_n: (list) size of rsi look-back period\n",
        "                stocks_n: (int) number of stocks to retrieve the rsi for\n",
        "                file_path: path leading to csv file of S&P500 component stocks\n",
        "                ind_excld: (list) GICS Sector industries to be excluded\n",
        "            Return:\n",
        "            ------\n",
        "                df_rsi: (pd.DataFrame) returns the rsi reading for the list of stocks and whether the 30/70 level has been breached\n",
        "        \"\"\"\n",
        "        sp500_stocks_df = get_sp500_stocks_file(file_path=file_path)\n",
        "        sp500_stocks_df_excld = filter_stocks_industry(sp500_stocks_df, ind_excld=ind_excld)\n",
        "        sp500_stocks_df_excld = sp500_stocks_df_excld.head(stocks_n)\n",
        "        info, symbols = get_stock_price(sp500_stocks_df_excld)\n",
        "        sp500_stocks_price_df = get_stock_price_df(info, symbols)\n",
        "\n",
        "        symbols = sp500_stocks_price_df['Symbol'].unique()\n",
        "\n",
        "        rsi_l = []\n",
        "        status_l = []\n",
        "        for s in symbols:\n",
        "            closep = np.array(sp500_stocks_price_df[sp500_stocks_price_df['Symbol'] == s]['Close'].tolist())\n",
        "            closep = closep.astype(np.float)\n",
        "            rsi = get_rsi(closep, n=rsi_n)\n",
        "            if rsi[-1] >=70:\n",
        "                status = 'Above 70'\n",
        "            elif rsi[-1] <= 30:\n",
        "                status = 'Below 30'\n",
        "            else:\n",
        "                status = 'Normal'\n",
        "\n",
        "            rsi_l.append(round(rsi[-1], 1))\n",
        "            status_l.append(status)\n",
        "\n",
        "        df_rsi = pd.DataFrame(zip(symbols, rsi_l, status_l),columns=['Symbols', 'RSI', 'Status'])\n",
        "\n",
        "        return df_rsi\n",
        "\n",
        "    def get_rsi_string(self, df_rsi, head_n=20, tail_n=20):\n",
        "        \"\"\"\n",
        "            Converts the rsi reading into strings to be displayed in slack correctly\n",
        "\n",
        "            args:\n",
        "            ------\n",
        "                df_rsi: (pd.DataFrame) returns the rsi reading for the list of stocks and whether the 30/70 level has been breached\n",
        "                head_n: (int) number of top ranked stocks (based on rsi) reading to be displayed in slack\n",
        "                tail_n: (int) number of bottom ranked stocks (based on rsi) reading to be displayed in slack\n",
        "            Return:\n",
        "            ------\n",
        "                top_str: (str) concatenated string for the top ranked stocks' rsi reading\n",
        "                btm_str: (str) concatenated string for the bottom ranked stocks' rsi reading\n",
        "        \"\"\"\n",
        "        df_rsi = df_rsi.sort_values('RSI',ascending=False)\n",
        "\n",
        "        df_top = df_rsi.head(head_n)\n",
        "        df_btm = df_rsi.tail(tail_n)\n",
        "\n",
        "        top_symbols = df_top['Symbols'].tolist()\n",
        "        btm_symbols = df_btm['Symbols'].tolist()\n",
        "\n",
        "        top_rsi = df_top['RSI'].tolist()\n",
        "        btm_rsi = df_btm['RSI'].tolist()\n",
        "\n",
        "        top_l = list(zip(top_symbols, top_rsi))\n",
        "        btm_l = list(zip(btm_symbols, btm_rsi))\n",
        "\n",
        "        top_str = \"\"\n",
        "        for el in top_l:\n",
        "            top_str = top_str + str(el[0]) + \" \" + str(el[1]) + \"\\n\"\n",
        "\n",
        "        btm_str = \"\"\n",
        "        for el in btm_l:\n",
        "            btm_str = btm_str + str(el[0]) + \" \" + str(el[1]) + \"\\n\"\n",
        "\n",
        "        return top_str, btm_str\n",
        "\n",
        "    def _get_text_block(self, string):\n",
        "        \"\"\"\n",
        "            Helper function for get_message_payload_stock.\n",
        "            Used to convert a string into a slack formatted text block\n",
        "\n",
        "            args:\n",
        "            ------\n",
        "                string: (str) concatenated string for the top or bottom ranked stocks' rsi reading\n",
        "            Return:\n",
        "            ------\n",
        "                dictionary containing the correctly formatted text block to be displayed in slack\n",
        "        \"\"\"\n",
        "        return {\"type\": \"section\", \"text\": {\"type\": \"mrkdwn\", \"text\": string}}\n",
        "\n",
        "    def get_message_payload_stock(self, top_str, btm_str):\n",
        "        \"\"\"\n",
        "            Used to create a message payload to send stock rsi readings\n",
        "\n",
        "            args:\n",
        "            ------\n",
        "                top_str: (str) concatenated string for the top ranked stocks' rsi reading\n",
        "                bottom_str: (str) concatenated string for the bottom ranked stocks' rsi reading\n",
        "            Return:\n",
        "            ------\n",
        "                dictionary containing payload (stock rsi readings) to be sent using Slack's API\n",
        "        \"\"\"\n",
        "        return {\n",
        "            \"ts\": self.timestamp,\n",
        "            \"channel\": self.channel,\n",
        "            \"username\": self.username,\n",
        "            \"icon_emoji\": self.icon_emoji,\n",
        "            \"blocks\": [\n",
        "                self._get_text_block(top_str),\n",
        "                self.DIVIDER_BLOCK,\n",
        "                self._get_text_block(btm_str)\n",
        "            ],\n",
        "        }\n",
        "\n",
        "    def get_message_payload(self, string):\n",
        "        \"\"\"\n",
        "            Used to create a message payload to send simple text messages\n",
        "\n",
        "            args:\n",
        "            ------\n",
        "                string: (str) string to be sent using Slack's API\n",
        "            Return:\n",
        "            ------\n",
        "                dictionary containing payload (simple text messages) to be sent using Slack's API\n",
        "        \"\"\"\n",
        "        return {\n",
        "            \"ts\": self.timestamp,\n",
        "            \"channel\": self.channel,\n",
        "            \"username\": self.username,\n",
        "            \"icon_emoji\": self.icon_emoji,\n",
        "            \"text\": string\n",
        "        }"
      ],
      "execution_count": 0,
      "outputs": []
    },
    {
      "cell_type": "markdown",
      "metadata": {
        "id": "9GWNsGjwaD3P",
        "colab_type": "text"
      },
      "source": [
        "The three methods that we have not covered so far below are used to send a message to Slack"
      ]
    },
    {
      "cell_type": "markdown",
      "metadata": {
        "id": "gJPNuTeyaZMF",
        "colab_type": "text"
      },
      "source": [
        "This method is for"
      ]
    },
    {
      "cell_type": "code",
      "metadata": {
        "id": "76AVdNfZZ-5i",
        "colab_type": "code",
        "colab": {}
      },
      "source": [
        "def _get_text_block(self, string):\n",
        "    \"\"\"\n",
        "        Helper function for get_message_payload_stock.\n",
        "        Used to convert a string into a slack formatted text block\n",
        "\n",
        "        args:\n",
        "        ------\n",
        "            string: (str) concatenated string for the top or bottom ranked stocks' rsi reading\n",
        "        Return:\n",
        "        ------\n",
        "            dictionary containing the correctly formatted text block to be displayed in slack\n",
        "    \"\"\"\n",
        "    return {\"type\": \"section\", \"text\": {\"type\": \"mrkdwn\", \"text\": string}}"
      ],
      "execution_count": 0,
      "outputs": []
    },
    {
      "cell_type": "markdown",
      "metadata": {
        "id": "uymCwLsQaYh4",
        "colab_type": "text"
      },
      "source": [
        "This method is for"
      ]
    },
    {
      "cell_type": "code",
      "metadata": {
        "id": "E2goEI90aS2f",
        "colab_type": "code",
        "colab": {}
      },
      "source": [
        "def get_message_payload_stock(self, top_str, btm_str):\n",
        "    \"\"\"\n",
        "        Used to create a message payload to send stock rsi readings\n",
        "\n",
        "        args:\n",
        "        ------\n",
        "            top_str: (str) concatenated string for the top ranked stocks' rsi reading\n",
        "            bottom_str: (str) concatenated string for the bottom ranked stocks' rsi reading\n",
        "        Return:\n",
        "        ------\n",
        "            dictionary containing payload (stock rsi readings) to be sent using Slack's API\n",
        "    \"\"\"\n",
        "    return {\n",
        "        \"ts\": self.timestamp,\n",
        "        \"channel\": self.channel,\n",
        "        \"username\": self.username,\n",
        "        \"icon_emoji\": self.icon_emoji,\n",
        "        \"blocks\": [\n",
        "            self._get_text_block(top_str),\n",
        "            self.DIVIDER_BLOCK,\n",
        "            self._get_text_block(btm_str)\n",
        "        ],\n",
        "    }"
      ],
      "execution_count": 0,
      "outputs": []
    },
    {
      "cell_type": "markdown",
      "metadata": {
        "id": "FHVvS2nxaXDI",
        "colab_type": "text"
      },
      "source": [
        "This method is for"
      ]
    },
    {
      "cell_type": "code",
      "metadata": {
        "id": "CzmnNUXzaUU0",
        "colab_type": "code",
        "colab": {}
      },
      "source": [
        "def get_message_payload(self, string):\n",
        "    \"\"\"\n",
        "        Used to create a message payload to send simple text messages\n",
        "\n",
        "        args:\n",
        "        ------\n",
        "            string: (str) string to be sent using Slack's API\n",
        "        Return:\n",
        "        ------\n",
        "            dictionary containing payload (simple text messages) to be sent using Slack's API\n",
        "    \"\"\"\n",
        "    return {\n",
        "        \"ts\": self.timestamp,\n",
        "        \"channel\": self.channel,\n",
        "        \"username\": self.username,\n",
        "        \"icon_emoji\": self.icon_emoji,\n",
        "        \"text\": string\n",
        "    }"
      ],
      "execution_count": 0,
      "outputs": []
    },
    {
      "cell_type": "markdown",
      "metadata": {
        "id": "38BSAG5ZZrZV",
        "colab_type": "text"
      },
      "source": [
        "To demonstrate what kind of messages will be sent to Slack, lets first instantiate the object with out CHANNEL_ID"
      ]
    },
    {
      "cell_type": "code",
      "metadata": {
        "id": "K683rv0_ZDol",
        "colab_type": "code",
        "colab": {}
      },
      "source": [
        "s = Smartie(CHANNEL_ID)"
      ],
      "execution_count": 0,
      "outputs": []
    },
    {
      "cell_type": "markdown",
      "metadata": {
        "id": "Yls43gMRJeWQ",
        "colab_type": "text"
      },
      "source": [
        "If it is a holiday... The function we need to identify whether it is a US Federal holiday is in the next section"
      ]
    },
    {
      "cell_type": "code",
      "metadata": {
        "id": "zQXrWWhxVQNg",
        "colab_type": "code",
        "outputId": "4bd60e7e-ee2c-49c4-98db-68591cbd4f83",
        "colab": {
          "base_uri": "https://localhost:8080/",
          "height": 102
        }
      },
      "source": [
        "message = s.get_message_payload('Market closed, US Federal holiday')\n",
        "message"
      ],
      "execution_count": 34,
      "outputs": [
        {
          "output_type": "execute_result",
          "data": {
            "text/plain": [
              "{'channel': 'CU560GVCG',\n",
              " 'icon_emoji': ':robot_face:',\n",
              " 'text': 'Market closed, US Federal holiday',\n",
              " 'ts': '',\n",
              " 'username': 'smartie'}"
            ]
          },
          "metadata": {
            "tags": []
          },
          "execution_count": 34
        }
      ]
    },
    {
      "cell_type": "markdown",
      "metadata": {
        "id": "48q6DA8YVVYz",
        "colab_type": "text"
      },
      "source": [
        "If it is not a holiday..."
      ]
    },
    {
      "cell_type": "code",
      "metadata": {
        "id": "8APklh65JfYJ",
        "colab_type": "code",
        "outputId": "d74149b7-fb74-4de4-e9ef-44b7ba01520b",
        "colab": {
          "base_uri": "https://localhost:8080/",
          "height": 204
        }
      },
      "source": [
        "message = s.get_message_payload_stock(top_str, btm_str)\n",
        "message"
      ],
      "execution_count": 35,
      "outputs": [
        {
          "output_type": "execute_result",
          "data": {
            "text/plain": [
              "{'blocks': [{'text': {'text': 'AKAM 60.4\\nACN 53.1\\nADBE 52.0\\nMMM 50.1\\nATVI 48.8\\n',\n",
              "    'type': 'mrkdwn'},\n",
              "   'type': 'section'},\n",
              "  {'type': 'divider'},\n",
              "  {'text': {'text': 'APD 45.7\\nAAP 44.5\\nALK 42.9\\nAFL 38.9\\nAMD 29.1\\n',\n",
              "    'type': 'mrkdwn'},\n",
              "   'type': 'section'}],\n",
              " 'channel': 'CU560GVCG',\n",
              " 'icon_emoji': ':robot_face:',\n",
              " 'ts': '',\n",
              " 'username': 'smartie'}"
            ]
          },
          "metadata": {
            "tags": []
          },
          "execution_count": 35
        }
      ]
    },
    {
      "cell_type": "markdown",
      "metadata": {
        "id": "fzRoQwxbVXe7",
        "colab_type": "text"
      },
      "source": [
        "Send the message"
      ]
    },
    {
      "cell_type": "code",
      "metadata": {
        "id": "P33uPgm0arkI",
        "colab_type": "code",
        "colab": {}
      },
      "source": [
        "import slack\n",
        "\n",
        "slack_web_client = slack.WebClient(token=SLACK_BOT_TOKEN)"
      ],
      "execution_count": 0,
      "outputs": []
    },
    {
      "cell_type": "code",
      "metadata": {
        "id": "AyCu4amTVLM9",
        "colab_type": "code",
        "outputId": "59d8932b-12c9-4843-8c34-3c25bca820fd",
        "colab": {
          "base_uri": "https://localhost:8080/",
          "height": 34
        }
      },
      "source": [
        "response = slack_web_client.chat_postMessage(**message)\n",
        "response"
      ],
      "execution_count": 42,
      "outputs": [
        {
          "output_type": "execute_result",
          "data": {
            "text/plain": [
              "<slack.web.slack_response.SlackResponse at 0x7f23864f4da0>"
            ]
          },
          "metadata": {
            "tags": []
          },
          "execution_count": 42
        }
      ]
    },
    {
      "cell_type": "markdown",
      "metadata": {
        "id": "IlyzZwmbeoKH",
        "colab_type": "text"
      },
      "source": [
        "# Putting it together"
      ]
    },
    {
      "cell_type": "markdown",
      "metadata": {
        "id": "5AYb3IHscXxH",
        "colab_type": "text"
      },
      "source": [
        "### Complete Smartie Class"
      ]
    },
    {
      "cell_type": "markdown",
      "metadata": {
        "id": "SCyjR80oHcOU",
        "colab_type": "text"
      },
      "source": [
        "### Other functions that we need"
      ]
    },
    {
      "cell_type": "code",
      "metadata": {
        "id": "XLeKOeLh_P7e",
        "colab_type": "code",
        "colab": {}
      },
      "source": [
        "def get_fed_holidays(start_date, end_date):\n",
        "    \"\"\"\n",
        "    Retrieve a dataframe outlining the days that the US market is closed (US Federal Holiday)\n",
        "\n",
        "    args:\n",
        "    ------\n",
        "        start_date: (str) start date for the period in focus\n",
        "        end_date: (str) end date for the period in focus\n",
        "    Return:\n",
        "    ------\n",
        "        df_holiday: (pd.DataFrame) outlines the days that are a US Federal Holiday\n",
        "    \"\"\"\n",
        "    dr = pd.date_range(start=start_date, end=end_date)\n",
        "    df = pd.DataFrame()\n",
        "    df['Date'] = dr\n",
        "\n",
        "    cal = calendar()\n",
        "    holidays = cal.holidays(start=dr.min(), end=dr.max())\n",
        "\n",
        "    df['Holiday'] = df['Date'].isin(holidays)\n",
        "    df_holiday = df[df['Holiday'] == True]\n",
        "\n",
        "    return df_holiday"
      ],
      "execution_count": 0,
      "outputs": []
    },
    {
      "cell_type": "markdown",
      "metadata": {
        "id": "EuwV7eu9J2al",
        "colab_type": "text"
      },
      "source": [
        "### Putting it all together"
      ]
    },
    {
      "cell_type": "code",
      "metadata": {
        "id": "67_yIe5z_Nhj",
        "colab_type": "code",
        "colab": {}
      },
      "source": [
        "import logging\n",
        "\n",
        "logger = logging.getLogger()\n",
        "logger.setLevel(logging.DEBUG)\n",
        "\n",
        "\n",
        "s = Smartie(CHANNEL_ID)\n",
        "\n",
        "logger.info('Getting fed holidays')\n",
        "range_start_date = '2020-01-01'\n",
        "range_end_date = '2020-12-31'\n",
        "fed_holiday = get_fed_holidays(start_date=range_start_date, end_date=range_end_date)\n",
        "\n",
        "if str(datetime.datetime.now().date()) in fed_holiday:\n",
        "    logger.info('It is a Holiday')\n",
        "    message = s.get_message_payload('Market closed, US Federal holiday')\n",
        "else:\n",
        "    logger.info('It is not a Holiday')\n",
        "    df_rsi = s.get_stocks_rsi(rsi_n=14, stocks_n=10)\n",
        "    top_str, btm_str = s.get_rsi_string(df_rsi, head_n=5, tail_n=5)\n",
        "    message = s.get_message_payload_stock(top_str, btm_str)\n",
        "\n",
        "logger.info('Posting on Slack')\n",
        "response = slack_web_client.chat_postMessage(**message)"
      ],
      "execution_count": 0,
      "outputs": []
    },
    {
      "cell_type": "markdown",
      "metadata": {
        "id": "qd1jQScHb7_J",
        "colab_type": "text"
      },
      "source": [
        "# Creating Docker Image"
      ]
    },
    {
      "cell_type": "markdown",
      "metadata": {
        "id": "LwIuW1_idvS4",
        "colab_type": "text"
      },
      "source": [
        "### Dockerfile"
      ]
    },
    {
      "cell_type": "code",
      "metadata": {
        "id": "CJcDvr8bdtYe",
        "colab_type": "code",
        "colab": {}
      },
      "source": [
        "# our base image\n",
        "FROM continuumio/miniconda3\n",
        "\n",
        "RUN apt update && \\\n",
        "    apt -y install bzip2 curl gcc ssh rsync git vim cron && \\\n",
        "    apt-get clean\n",
        "\n",
        "# copy all the files from project's root to working directory\n",
        "COPY src /code\n",
        "COPY data /code\n",
        "COPY app.py /code\n",
        "COPY run.sh /code\n",
        "\n",
        "# Conda\n",
        "ARG CONDA_ENV_FILE\n",
        "ARG CONDA_PATH=\"/root/miniconda3/bin\"\n",
        "ARG CONDA_BIN=\"$CONDA_PATH/conda\"\n",
        "COPY $CONDA_ENV_FILE $CONDA_ENV_FILE\n",
        "\n",
        "ENV SHELL /bin/bash\n",
        "RUN conda install nb_conda\n",
        "ENV PATH /root/miniconda3/envs/stock_screener/bin:$CONDA_PATH:$PATH\n",
        "\n",
        "# Update environment\n",
        "COPY conda.yml .\n",
        "RUN conda env update -n stock_screener --file ./conda.yml\n",
        "\n",
        "# Cron job\n",
        "RUN printenv >> /etc/environment\n",
        "ENV PYTHONUNBUFFERED 1\n",
        "\n",
        "# Run shell script\n",
        "RUN chmod +x ./code/run.sh\n",
        "ENTRYPOINT [\"./code/run.sh\"]"
      ],
      "execution_count": 0,
      "outputs": []
    },
    {
      "cell_type": "markdown",
      "metadata": {
        "id": "JekCUbnxcIlf",
        "colab_type": "text"
      },
      "source": [
        "### Conda.yml"
      ]
    },
    {
      "cell_type": "code",
      "metadata": {
        "id": "p6td3tEWd2QX",
        "colab_type": "code",
        "colab": {}
      },
      "source": [
        "channels:\n",
        "  - defaults\n",
        "dependencies:\n",
        "  - python=3.6.7\n",
        "  - pip=19.0.3\n",
        "  - nb_conda\n",
        "  - pip:\n",
        "    - alpha-vantage==2.1.3\n",
        "    - beautifulsoup4==4.8.2\n",
        "    - pandas==1.0.1\n",
        "    - numpy==1.18.1\n",
        "    - slack==0.0.2\n",
        "    - slackclient==2.5.0\n",
        "    - slackeventsapi==2.1.0\n",
        "    - websocket-client==0.57.0"
      ],
      "execution_count": 0,
      "outputs": []
    },
    {
      "cell_type": "markdown",
      "metadata": {
        "id": "tY3F4iRLcLFK",
        "colab_type": "text"
      },
      "source": [
        "### run.sh"
      ]
    },
    {
      "cell_type": "code",
      "metadata": {
        "id": "MI7cU5DxdbH6",
        "colab_type": "code",
        "colab": {}
      },
      "source": [
        "#!/bin/bash\n",
        "\n",
        "printenv > /etc/default/locale\n",
        "service cron start\n",
        "echo 'Smartie is ready for action!'\n",
        "ln -sf /proc/1/fd/1 /var/log/cron.log\n",
        "echo '* * * * * root cd / && /opt/conda/envs/stock_screener/bin/python ./app.py >> /var/log/cron.log' > /etc/crontab\n",
        "tail -f /var/log/cron.log\n"
      ],
      "execution_count": 0,
      "outputs": []
    },
    {
      "cell_type": "markdown",
      "metadata": {
        "id": "tqQ6PwKQbN_7",
        "colab_type": "text"
      },
      "source": [
        "### Crontab"
      ]
    },
    {
      "cell_type": "markdown",
      "metadata": {
        "id": "-lzCbU_Khfll",
        "colab_type": "text"
      },
      "source": [
        "Crontab file needs to have \"cd /\" and root, and an extra \"#\" at the bottom"
      ]
    },
    {
      "cell_type": "code",
      "metadata": {
        "id": "zsc9Fub3cKkC",
        "colab_type": "code",
        "colab": {}
      },
      "source": [
        "* * * * * root echo \"Hello World\" >> /var/log/cron.log\n",
        "* * * * * root cd / && /opt/conda/envs/stock_screener/bin/python ./app.py >> /var/log/cron.log\n",
        "#"
      ],
      "execution_count": 0,
      "outputs": []
    },
    {
      "cell_type": "markdown",
      "metadata": {
        "id": "m6QOwK9lh5_D",
        "colab_type": "text"
      },
      "source": [
        "### Creating docker image on docker hub"
      ]
    },
    {
      "cell_type": "markdown",
      "metadata": {
        "id": "JY1BlCFviNUq",
        "colab_type": "text"
      },
      "source": [
        "Build the docker image"
      ]
    },
    {
      "cell_type": "code",
      "metadata": {
        "id": "Ta5Mr3e_h_g_",
        "colab_type": "code",
        "colab": {}
      },
      "source": [
        "docker build -t kennethwang92/stock_screener"
      ],
      "execution_count": 0,
      "outputs": []
    },
    {
      "cell_type": "markdown",
      "metadata": {
        "id": "l7IPKJ0DiPij",
        "colab_type": "text"
      },
      "source": [
        "After building, you can tag it and push to docker hub"
      ]
    },
    {
      "cell_type": "code",
      "metadata": {
        "id": "Y6AxirjJimUc",
        "colab_type": "code",
        "colab": {}
      },
      "source": [
        "docker tag [image_id] kennethwang92/stock_screener:first_try"
      ],
      "execution_count": 0,
      "outputs": []
    },
    {
      "cell_type": "markdown",
      "metadata": {
        "id": "c5TQlXyCip3i",
        "colab_type": "text"
      },
      "source": [
        "Login to docker hub on your terminal. Key in your username and password when prompted"
      ]
    },
    {
      "cell_type": "code",
      "metadata": {
        "id": "_lJYZH37izk-",
        "colab_type": "code",
        "colab": {}
      },
      "source": [
        "docker login docker.io"
      ],
      "execution_count": 0,
      "outputs": []
    },
    {
      "cell_type": "markdown",
      "metadata": {
        "id": "FYpLzZoripos",
        "colab_type": "text"
      },
      "source": [
        "Push image to docker hub"
      ]
    },
    {
      "cell_type": "code",
      "metadata": {
        "id": "yXXNm41qi9Ez",
        "colab_type": "code",
        "colab": {}
      },
      "source": [
        "docker push kennethwang92/stock_screener:latest"
      ],
      "execution_count": 0,
      "outputs": []
    },
    {
      "cell_type": "markdown",
      "metadata": {
        "id": "SeJrnHqnb9_X",
        "colab_type": "text"
      },
      "source": [
        "# Deploying on a Digital Ocean Server"
      ]
    },
    {
      "cell_type": "markdown",
      "metadata": {
        "id": "afAWa4bChA2Z",
        "colab_type": "text"
      },
      "source": [
        "### Creating a droplet"
      ]
    },
    {
      "cell_type": "markdown",
      "metadata": {
        "id": "hdx7RJ_Gcpvj",
        "colab_type": "text"
      },
      "source": [
        "Set up an account with Digital Ocean here"
      ]
    },
    {
      "cell_type": "markdown",
      "metadata": {
        "id": "qc05ukgxmtoM",
        "colab_type": "text"
      },
      "source": [
        "![](my_icons/digital_ocean_signup.JPG)"
      ]
    },
    {
      "cell_type": "markdown",
      "metadata": {
        "id": "2lzjR4h8gKvH",
        "colab_type": "text"
      },
      "source": [
        "Create project"
      ]
    },
    {
      "cell_type": "markdown",
      "metadata": {
        "id": "iHrCIuD2mxb7",
        "colab_type": "text"
      },
      "source": [
        "![](my_icons/digital_ocean_create_project.JPG)"
      ]
    },
    {
      "cell_type": "markdown",
      "metadata": {
        "id": "qhqvlH9RgKm2",
        "colab_type": "text"
      },
      "source": [
        "Create droplet"
      ]
    },
    {
      "cell_type": "markdown",
      "metadata": {
        "id": "8GeznIt8m3iu",
        "colab_type": "text"
      },
      "source": [
        "![](my_icons/digital_ocean_create_droplet.JPG)"
      ]
    },
    {
      "cell_type": "markdown",
      "metadata": {
        "id": "lNGvbQxpgKea",
        "colab_type": "text"
      },
      "source": [
        "Choose ubuntu"
      ]
    },
    {
      "cell_type": "markdown",
      "metadata": {
        "id": "v7T2-0jpm4C4",
        "colab_type": "text"
      },
      "source": [
        "![](my_icons/digital_ocean_droplet_ubuntu.JPG)"
      ]
    },
    {
      "cell_type": "markdown",
      "metadata": {
        "id": "h_sqkn0fgKUY",
        "colab_type": "text"
      },
      "source": [
        "Choose plan"
      ]
    },
    {
      "cell_type": "markdown",
      "metadata": {
        "id": "E1nfinYFm4i_",
        "colab_type": "text"
      },
      "source": [
        "![](my_icons/digital_ocean_droplet_choose_plan.JPG)"
      ]
    },
    {
      "cell_type": "markdown",
      "metadata": {
        "id": "igukuzOGgKMA",
        "colab_type": "text"
      },
      "source": [
        "Choose datacenter"
      ]
    },
    {
      "cell_type": "markdown",
      "metadata": {
        "id": "wb2cJ9kum5Nu",
        "colab_type": "text"
      },
      "source": [
        "![](my_icons/digital_ocean_choose_datacenter.JPG)"
      ]
    },
    {
      "cell_type": "markdown",
      "metadata": {
        "id": "JmfTvBHwgJ0U",
        "colab_type": "text"
      },
      "source": [
        "Create ssh"
      ]
    },
    {
      "cell_type": "markdown",
      "metadata": {
        "id": "3nHEg-3mm5li",
        "colab_type": "text"
      },
      "source": [
        "![](my_icons/digital_ocean_droplet_ssh.JPG)"
      ]
    },
    {
      "cell_type": "markdown",
      "metadata": {
        "id": "1MOKk0ikgvzw",
        "colab_type": "text"
      },
      "source": [
        "Create ssh key (if required). Follow the instructions"
      ]
    },
    {
      "cell_type": "markdown",
      "metadata": {
        "id": "asoAxqBmm6Po",
        "colab_type": "text"
      },
      "source": [
        "![](my_icons/digital_ocean_create_ssh_key.JPG)"
      ]
    },
    {
      "cell_type": "markdown",
      "metadata": {
        "id": "1Oh5S9wogoTJ",
        "colab_type": "text"
      },
      "source": [
        "Click on create droplet"
      ]
    },
    {
      "cell_type": "markdown",
      "metadata": {
        "id": "fvhffJNmm6uS",
        "colab_type": "text"
      },
      "source": [
        "![](my_icons/digital_ocean_create_droplet_submit.JPG)"
      ]
    },
    {
      "cell_type": "markdown",
      "metadata": {
        "id": "DDLVVtllgoOn",
        "colab_type": "text"
      },
      "source": [
        "Click on droplet"
      ]
    },
    {
      "cell_type": "markdown",
      "metadata": {
        "id": "CkvT0v4km7GN",
        "colab_type": "text"
      },
      "source": [
        "![](my_icons/digital_ocean_click_droplet.JPG)"
      ]
    },
    {
      "cell_type": "markdown",
      "metadata": {
        "id": "N_M-n6o1goEY",
        "colab_type": "text"
      },
      "source": [
        "Get ip and save it for later"
      ]
    },
    {
      "cell_type": "markdown",
      "metadata": {
        "id": "0bSy1GhAm74T",
        "colab_type": "text"
      },
      "source": [
        "![](my_icons/digital_ocean_get_ip.JPG)"
      ]
    },
    {
      "cell_type": "markdown",
      "metadata": {
        "id": "jyW6ePKFhElA",
        "colab_type": "text"
      },
      "source": [
        "### Preparing digital ocean (server)"
      ]
    },
    {
      "cell_type": "markdown",
      "metadata": {
        "id": "5_gBfoZZjFcc",
        "colab_type": "text"
      },
      "source": [
        "Insert the ip address you have copied previously"
      ]
    },
    {
      "cell_type": "code",
      "metadata": {
        "id": "qHINnPJohDty",
        "colab_type": "code",
        "colab": {}
      },
      "source": [
        "ssh -i ~/.ssh/id_rsa root@[ip address]"
      ],
      "execution_count": 0,
      "outputs": []
    },
    {
      "cell_type": "markdown",
      "metadata": {
        "id": "5kDExlHbjcBQ",
        "colab_type": "text"
      },
      "source": [
        "Update apt-get"
      ]
    },
    {
      "cell_type": "code",
      "metadata": {
        "id": "fPPPuO3zjX8V",
        "colab_type": "code",
        "colab": {}
      },
      "source": [
        "apt-get update"
      ],
      "execution_count": 0,
      "outputs": []
    },
    {
      "cell_type": "markdown",
      "metadata": {
        "id": "UQ5aMT47jhEh",
        "colab_type": "text"
      },
      "source": [
        "Install docker"
      ]
    },
    {
      "cell_type": "code",
      "metadata": {
        "id": "K0yi4pnSjif1",
        "colab_type": "code",
        "colab": {}
      },
      "source": [
        "apt install docker.io"
      ],
      "execution_count": 0,
      "outputs": []
    },
    {
      "cell_type": "markdown",
      "metadata": {
        "id": "I8Hp6ZD5j1hT",
        "colab_type": "text"
      },
      "source": [
        "### Environment variables"
      ]
    },
    {
      "cell_type": "markdown",
      "metadata": {
        "id": "0HjgnJjTcidt",
        "colab_type": "text"
      },
      "source": [
        "First you need to create env.list with all your parameters and save the env.list file in root"
      ]
    },
    {
      "cell_type": "code",
      "metadata": {
        "id": "Al4obmo4dnLN",
        "colab_type": "code",
        "colab": {}
      },
      "source": [
        "SLACK_API_TOKEN= ....\n",
        "CHANNEL_ID= ....\n",
        "SLACK_BOT_TOKEN= ....\n",
        "SLACK_SIGNING_SECRET=....\n",
        "ALPHA_VANTAGE_KEY=...."
      ],
      "execution_count": 0,
      "outputs": []
    },
    {
      "cell_type": "markdown",
      "metadata": {
        "colab_type": "text",
        "id": "RUtY3O6UkItz"
      },
      "source": [
        "### Download image from docker run and create docker container"
      ]
    },
    {
      "cell_type": "code",
      "metadata": {
        "colab_type": "code",
        "id": "FZfETTLrkIt1",
        "colab": {}
      },
      "source": [
        "docker pull kennethwang92/stock_screener:latest"
      ],
      "execution_count": 0,
      "outputs": []
    },
    {
      "cell_type": "code",
      "metadata": {
        "id": "RkLHYYmIkJ-D",
        "colab_type": "code",
        "colab": {}
      },
      "source": [
        "docker run -it --env-file ./env.list kennethwang92/stock_screener:latest /bin/bash"
      ],
      "execution_count": 0,
      "outputs": []
    },
    {
      "cell_type": "markdown",
      "metadata": {
        "id": "M3qG2iyukWY-",
        "colab_type": "text"
      },
      "source": [
        "# Finally looking at our smartie chatbot"
      ]
    },
    {
      "cell_type": "markdown",
      "metadata": {
        "id": "uk5WZ_CEkcna",
        "colab_type": "text"
      },
      "source": [
        "If you are with me so far you should see the following in your terminal"
      ]
    },
    {
      "cell_type": "markdown",
      "metadata": {
        "id": "5AnZzQvUkimZ",
        "colab_type": "text"
      },
      "source": [
        "You should see the following in your slack channel"
      ]
    },
    {
      "cell_type": "markdown",
      "metadata": {
        "id": "AH4qddihV0jM",
        "colab_type": "text"
      },
      "source": [
        "# For a full version of the files please see here"
      ]
    },
    {
      "cell_type": "markdown",
      "metadata": {
        "id": "Qb32SWHkV4HN",
        "colab_type": "text"
      },
      "source": [
        "# Future improvements:\n",
        "More functions, include png graphs?"
      ]
    }
  ]
}